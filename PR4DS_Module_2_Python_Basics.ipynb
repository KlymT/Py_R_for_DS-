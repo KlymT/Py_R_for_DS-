{
  "nbformat": 4,
  "nbformat_minor": 0,
  "metadata": {
    "kernelspec": {
      "display_name": "Python 3",
      "language": "python",
      "name": "python3"
    },
    "language_info": {
      "codemirror_mode": {
        "name": "ipython",
        "version": 3
      },
      "file_extension": ".py",
      "mimetype": "text/x-python",
      "name": "python",
      "nbconvert_exporter": "python",
      "pygments_lexer": "ipython3",
      "version": "3.7.3"
    },
    "toc": {
      "base_numbering": 1,
      "nav_menu": {},
      "number_sections": true,
      "sideBar": true,
      "skip_h1_title": false,
      "title_cell": "Table of Contents",
      "title_sidebar": "Contents",
      "toc_cell": false,
      "toc_position": {
        "height": "calc(100% - 180px)",
        "left": "10px",
        "top": "150px",
        "width": "192px"
      },
      "toc_section_display": true,
      "toc_window_display": true
    },
    "colab": {
      "name": "PR4DS. Module 2. Python Basics.ipynb",
      "provenance": [],
      "include_colab_link": true
    }
  },
  "cells": [
    {
      "cell_type": "markdown",
      "metadata": {
        "id": "view-in-github",
        "colab_type": "text"
      },
      "source": [
        "<a href=\"https://colab.research.google.com/github/KlymT/Py_R_for_DS-/blob/master/PR4DS_Module_2_Python_Basics.ipynb\" target=\"_parent\"><img src=\"https://colab.research.google.com/assets/colab-badge.svg\" alt=\"Open In Colab\"/></a>"
      ]
    },
    {
      "cell_type": "markdown",
      "metadata": {
        "id": "jvkmgUCMyA0G"
      },
      "source": [
        "# Модуль 2. Основи мови програмування Python\n",
        "\n",
        "# Python як мова програмування\n",
        "\n",
        "Python - це мова програмування, яка:\n",
        "- інтерпретована: команди виконуються одна за одною, необхідності компіляції немає;\n",
        "- високорівнева: синтаксис дуже подібний до природньої мови, код виглядає як псевдокод, не зав'язана до апаратної частини (хоча можуть бути проблеми при використанні сторонніх модулів та бібліотек під різні ОС);\n",
        "- загального призначення: може застосовуватися для розробки програмного забезпечення в різних предметних областях та вирішення різних завдань;\n",
        "\n",
        "Підтримує наступні парадигми:\n",
        "- структурне програмування;\n",
        "- функціональне програмування;\n",
        "- об'єктно-орієнтоване програмування.\n",
        "\n",
        "Офіційний tutorial можна знайти за посиланням: https://docs.python.org/3.6/tutorial/index.html"
      ]
    },
    {
      "cell_type": "markdown",
      "metadata": {
        "id": "b9mppmsnyA0J"
      },
      "source": [
        "## Запуск коду\n",
        "\n",
        "*Основні варіанти запуску коду:*\n",
        "1. через інтерпретатор Python, для чого в терміналі (консоль) інтерпретатор запускається командою `python`; більше підходить для швидкого протипіювання чи виконання нескладних операцій;\n",
        "\n",
        "```shell\n",
        "$ python\n",
        "'Python 3.4.4 (v3.4.4:737efcadf5a6, Dec 20 2015, 20:20:57) [MSC v.1600 64 bit (AMD64)] on win32'\n",
        "'Type \"help\", \"copyright\", \"credits\" or \"license\" for more information.'\n",
        ">>> 2 + 2 == 5\n",
        "False\n",
        ">>>\n",
        "```\n",
        "\n",
        "2. через IDE, наприклад, PyCharm; ідеально підходить для відлагодження (debugging) програм, розробки повторно-використовуваних модулів та пакетів;\n",
        "\n",
        "3. через виконання скрипта; даний варіант підходить для перевірки роботи нескладних, примітивних та невеликих за розміром програм;\n",
        "\n",
        "```shell\n",
        "$ python path/to/my/module.py args\n",
        "'result will be displayed here'\n",
        "```\n",
        "\n",
        "4. використовуючи Jupyter Notebook чи аналог, де потрібна інтерактивність і відображення результатів \"on-fly\", включаючи тексти опису, графіки і т.д."
      ]
    },
    {
      "cell_type": "markdown",
      "metadata": {
        "id": "PajJGaLlyA0K"
      },
      "source": [
        "## Python PEP8\n",
        "\n",
        "PEP8 (<a href=\"https://www.python.org/dev/peps/pep-0008/\" target=\"_blank\">Style Guide for Python Code</a>) - convention щодо стилізації коду на Python.\n",
        "\n",
        "![](https://www.iphones.ru/wp-content/uploads/2019/02/13-inch-macbook-pro-1240x630.jpg)\n",
        "\n",
        "[тут картинка](https://www.iphones.ru/wp-content/uploads/2019/02/13-inch-macbook-pro-1240x630.jpg)\n",
        "\n",
        "$$\n",
        "x = y \\times 2\n",
        "$$\n",
        "\n",
        "Нижче приклад The Zen of Python або аналог 10 заповідей :-)"
      ]
    },
    {
      "cell_type": "code",
      "metadata": {
        "scrolled": true,
        "id": "3b32JZdOyA0L",
        "outputId": "5889d968-b42d-4f8e-bd65-bfee0f7cfc5d",
        "colab": {
          "base_uri": "https://localhost:8080/",
          "height": 374
        }
      },
      "source": [
        "import this"
      ],
      "execution_count": null,
      "outputs": [
        {
          "output_type": "stream",
          "text": [
            "The Zen of Python, by Tim Peters\n",
            "\n",
            "Beautiful is better than ugly.\n",
            "Explicit is better than implicit.\n",
            "Simple is better than complex.\n",
            "Complex is better than complicated.\n",
            "Flat is better than nested.\n",
            "Sparse is better than dense.\n",
            "Readability counts.\n",
            "Special cases aren't special enough to break the rules.\n",
            "Although practicality beats purity.\n",
            "Errors should never pass silently.\n",
            "Unless explicitly silenced.\n",
            "In the face of ambiguity, refuse the temptation to guess.\n",
            "There should be one-- and preferably only one --obvious way to do it.\n",
            "Although that way may not be obvious at first unless you're Dutch.\n",
            "Now is better than never.\n",
            "Although never is often better than *right* now.\n",
            "If the implementation is hard to explain, it's a bad idea.\n",
            "If the implementation is easy to explain, it may be a good idea.\n",
            "Namespaces are one honking great idea -- let's do more of those!\n"
          ],
          "name": "stdout"
        }
      ]
    },
    {
      "cell_type": "markdown",
      "metadata": {
        "id": "OiMtwBMhyA0P"
      },
      "source": [
        "## Синтаксис мови\n",
        "\n",
        "Основні, ключові моменти, які потрібно запам'ятати з PEP8:\n",
        "\n",
        "* Блоки виділяються відступами, 4 пробіли (рекомендовано) або табуляція (не рекомендується використовувати).\n",
        "* Коментарі виділяються символом `#`.\n",
        "* Опис функцій, методів, модулів - DocStrings в блоці з потрійними одинарними `'''text goes here'''` або подвійними лапками `\"\"\"text goes here\"\"\"`.\n",
        "* Завершення рядка коду - завершення команди.\n",
        "* Пробіли в межах одного рядка не мають значення.\n",
        "* Кодування файлів `UTF-8`.\n",
        "\n",
        "Нижче приведено приклад оформлення коду."
      ]
    },
    {
      "cell_type": "code",
      "metadata": {
        "id": "-Q84A_YO3saC",
        "outputId": "a1abb11f-7c0d-4981-d718-81afff5ad506",
        "colab": {
          "base_uri": "https://localhost:8080/",
          "height": 34
        }
      },
      "source": [
        "a,                b                           = 1,                                                             2\n",
        "a"
      ],
      "execution_count": null,
      "outputs": [
        {
          "output_type": "execute_result",
          "data": {
            "text/plain": [
              "1"
            ]
          },
          "metadata": {
            "tags": []
          },
          "execution_count": 2
        }
      ]
    },
    {
      "cell_type": "code",
      "metadata": {
        "id": "BucYYFgn341H",
        "outputId": "73e3d8f7-126f-4151-e3d5-6c850dce2b28",
        "colab": {
          "base_uri": "https://localhost:8080/",
          "height": 34
        }
      },
      "source": [
        "temp = [1, 2, 3, 4]\n",
        "\n",
        "temp"
      ],
      "execution_count": null,
      "outputs": [
        {
          "output_type": "execute_result",
          "data": {
            "text/plain": [
              "[1, 2, 3, 4]"
            ]
          },
          "metadata": {
            "tags": []
          },
          "execution_count": 4
        }
      ]
    },
    {
      "cell_type": "code",
      "metadata": {
        "id": "qCbIMBNY4HST",
        "outputId": "38699e27-4937-496f-d0df-b23da14f7c1e",
        "colab": {
          "base_uri": "https://localhost:8080/",
          "height": 34
        }
      },
      "source": [
        "list()"
      ],
      "execution_count": null,
      "outputs": [
        {
          "output_type": "execute_result",
          "data": {
            "text/plain": [
              "[]"
            ]
          },
          "metadata": {
            "tags": []
          },
          "execution_count": 5
        }
      ]
    },
    {
      "cell_type": "code",
      "metadata": {
        "scrolled": true,
        "id": "Q5tWuPWIyA0Q",
        "outputId": "ab1d2928-d0a9-49c1-c9ac-f68e4669fc18",
        "colab": {
          "base_uri": "https://localhost:8080/",
          "height": 68
        }
      },
      "source": [
        "#a, b = 1, 2\n",
        "\n",
        "\"\"\"\n",
        "Приклад DocStrings\n",
        "srfkl\n",
        "sdf\n",
        "sfd\n",
        "sf\n",
        "dfgs\n",
        "gd\n",
        "2+2\n",
        "\"\"\"\n",
        "# Приклад коментаря\n",
        "temp = [1, 2, 3, 4]\n",
        "\n",
        "result = list()\n",
        "\n",
        "for val in temp:\n",
        "    if val % 2 == 0: # ще один приклад коментаря та виділення блока відступами\n",
        "        result.append(str   (val   ))  # пробіли в межах одного рядка не враховуються, але так краще не писати\n",
        "\n",
        "#r-style\n",
        "#for (val in temp){\n",
        "#    if (val % 2 == 0){\n",
        "#        result.append(str   (val   ))\n",
        "#    }\n",
        "#}\n",
        "        \n",
        "print('Result \"list\": ' + ', '.join(result))\n",
        "\n",
        "for val in result:\n",
        "    tmp = int(val)\n",
        "    print(\"x={}, x^2={}\".  # приклад перенесення рядка\n",
        "          format(val, str(tmp * tmp)))"
      ],
      "execution_count": null,
      "outputs": [
        {
          "output_type": "stream",
          "text": [
            "Result \"list\": 2, 4\n",
            "x=2, x^2=4\n",
            "x=4, x^2=16\n"
          ],
          "name": "stdout"
        }
      ]
    },
    {
      "cell_type": "markdown",
      "metadata": {
        "id": "K1A07-smyA0U"
      },
      "source": [
        "# Семантика мови\n",
        "## Змінні та об'єкти\n",
        "\n",
        "* Все, що в Python - це об'єкти.\n",
        "* Об'єкти двох типів - mutable, immutable.\n",
        "* Змінні - це вказівники (pointers).\n",
        "\n",
        "Mutable об'єкти - це ті, які можна змінювати. Тому в ході розробки потрібно бути дуже обережним при роботі зі списками, словниками та іншими об'єктами при їх присвоєні новим змінним, при передачі як аргументів методів. В основному, щоб уникнути ситуації \"випадкової\" зміни об'єкту, що може призвести до порушення алгоритму роботи.\n",
        "\n",
        "Три нижче приведені вбудовані функції можна використовувати для:\n",
        "- `type(obj)` - для отримання типу об'єкту (див. https://docs.python.org/3.6/library/functions.html#type)\n",
        "- `issubclass(obj_class, class)` - для перевірки, що клас об'єкту є підкласом або класом потрібного типу (див. https://docs.python.org/3.6/library/functions.html#issubclass)\n",
        "- `isinstance(obj, class)` - для перевірки типу об'єкту (див. https://docs.python.org/3.6/library/functions.html#isinstance)\n",
        "\n",
        "Якщо буде цікаво, то можно почитати в офіційній документації про Data model: https://docs.python.org/3.6/reference/datamodel.html#the-standard-type-hierarchy"
      ]
    },
    {
      "cell_type": "code",
      "metadata": {
        "id": "fe5cH99lyA0V",
        "outputId": "2da5c28b-1073-4bab-e47c-210a7393de88",
        "colab": {
          "base_uri": "https://localhost:8080/",
          "height": 85
        }
      },
      "source": [
        "# Приклад перевірки типу\n",
        "x = 10.0\n",
        "print(x.is_integer())\n",
        "print('Type of x is <{}>'.format(type(x).__name__), \"yy\")\n",
        "print('x {} subclass of <int>'.format('IS' if issubclass(type(x), int) else 'IS NOT'))\n",
        "print('x {} instance of <str>'.format('IS' if isinstance(x, str) else 'IS NOT'))"
      ],
      "execution_count": null,
      "outputs": [
        {
          "output_type": "stream",
          "text": [
            "True\n",
            "Type of x is <float> yy\n",
            "x IS NOT subclass of <int>\n",
            "x IS NOT instance of <str>\n"
          ],
          "name": "stdout"
        }
      ]
    },
    {
      "cell_type": "code",
      "metadata": {
        "id": "2lc8MgPRyA0X",
        "outputId": "5f34c32b-5a4b-475a-92c8-583f324c8a94",
        "colab": {
          "base_uri": "https://localhost:8080/",
          "height": 34
        }
      },
      "source": [
        "# Приклад роботи з immutable об'єктами\n",
        "x = 10\n",
        "y = x\n",
        "\n",
        "y = 11\n",
        "\n",
        "print('Before:\\tx={}, y={}'.format(x, y))"
      ],
      "execution_count": null,
      "outputs": [
        {
          "output_type": "stream",
          "text": [
            "Before:\tx=10, y=11\n"
          ],
          "name": "stdout"
        }
      ]
    },
    {
      "cell_type": "code",
      "metadata": {
        "id": "TQLy-YR85jw2",
        "outputId": "4a55573f-9bef-4087-b7f0-b0e021e5a081",
        "colab": {
          "base_uri": "https://localhost:8080/",
          "height": 34
        }
      },
      "source": [
        "# Після збільшення Х на 10, значення Y залишається не змінним\n",
        "x += 10 # x = x + 10\n",
        "x = x + 10\n",
        "print('After:\\tx={}, y={}'.format(x, y))"
      ],
      "execution_count": null,
      "outputs": [
        {
          "output_type": "stream",
          "text": [
            "After:\tx=30, y=11\n"
          ],
          "name": "stdout"
        }
      ]
    },
    {
      "cell_type": "code",
      "metadata": {
        "id": "R1GCBNqd6lvO",
        "outputId": "721801bd-e882-4ea5-95e3-0dfb59266d3b",
        "colab": {
          "base_uri": "https://localhost:8080/",
          "height": 34
        }
      },
      "source": [
        "# Приклад роботи з mutable об'єктами\n",
        "x = [1, 2, 3, 4]  # Оголошення списку з 4 елементів; list - mutable type\n",
        "y = [1, 0, 1, 0]\n",
        "print('Before:\\tx={}, y={}'.format(x, y))"
      ],
      "execution_count": null,
      "outputs": [
        {
          "output_type": "stream",
          "text": [
            "Before:\tx=[1, 2, 3, 4], y=[1, 0, 1, 0]\n"
          ],
          "name": "stdout"
        }
      ]
    },
    {
      "cell_type": "code",
      "metadata": {
        "id": "pYBzGnIB1SGA",
        "outputId": "9188f061-1c3b-49af-b39a-1a91fc26b271",
        "colab": {
          "base_uri": "https://localhost:8080/",
          "height": 34
        }
      },
      "source": [
        "len(x)+len(y), \"text 1\" + \"text 2\""
      ],
      "execution_count": null,
      "outputs": [
        {
          "output_type": "execute_result",
          "data": {
            "text/plain": [
              "(8, 'text 1text 2')"
            ]
          },
          "metadata": {
            "tags": []
          },
          "execution_count": 17
        }
      ]
    },
    {
      "cell_type": "code",
      "metadata": {
        "id": "CndfzxtU6ngg",
        "outputId": "f9b13ca4-458b-4b83-ac3a-f7ab29aa0e5d",
        "colab": {
          "base_uri": "https://localhost:8080/",
          "height": 34
        }
      },
      "source": [
        "z = []\n",
        "\n",
        "for i in range(len(x)):\n",
        "  z.append(x[i] + y[i])\n",
        "\n",
        "z"
      ],
      "execution_count": null,
      "outputs": [
        {
          "output_type": "execute_result",
          "data": {
            "text/plain": [
              "[2, 2, 4, 4]"
            ]
          },
          "metadata": {
            "tags": []
          },
          "execution_count": 18
        }
      ]
    },
    {
      "cell_type": "code",
      "metadata": {
        "id": "bNcBQ0rX336T",
        "outputId": "fa129baa-c392-4b4e-9a92-e1eac3fc6273",
        "colab": {
          "base_uri": "https://localhost:8080/",
          "height": 164
        }
      },
      "source": [
        "9 / 0"
      ],
      "execution_count": null,
      "outputs": [
        {
          "output_type": "error",
          "ename": "ZeroDivisionError",
          "evalue": "ignored",
          "traceback": [
            "\u001b[0;31m---------------------------------------------------------------------------\u001b[0m",
            "\u001b[0;31mZeroDivisionError\u001b[0m                         Traceback (most recent call last)",
            "\u001b[0;32m<ipython-input-24-cb7aab57c3ef>\u001b[0m in \u001b[0;36m<module>\u001b[0;34m()\u001b[0m\n\u001b[0;32m----> 1\u001b[0;31m \u001b[0;36m9\u001b[0m \u001b[0;34m/\u001b[0m \u001b[0;36m0\u001b[0m\u001b[0;34m\u001b[0m\u001b[0;34m\u001b[0m\u001b[0m\n\u001b[0m",
            "\u001b[0;31mZeroDivisionError\u001b[0m: division by zero"
          ]
        }
      ]
    },
    {
      "cell_type": "code",
      "metadata": {
        "id": "IE1wteev2zC4",
        "outputId": "34664bf4-c4ed-4697-98f1-a9ef3e636c79",
        "colab": {
          "base_uri": "https://localhost:8080/",
          "height": 34
        }
      },
      "source": [
        "import numpy as np\n",
        "\n",
        "np.concatenate([np.array(x), np.array([9, 2, 88, 0], dtype='float')])"
      ],
      "execution_count": null,
      "outputs": [
        {
          "output_type": "execute_result",
          "data": {
            "text/plain": [
              "array([ 1.,  2.,  3.,  4.,  9.,  2., 88.,  0.])"
            ]
          },
          "metadata": {
            "tags": []
          },
          "execution_count": 29
        }
      ]
    },
    {
      "cell_type": "code",
      "metadata": {
        "id": "3XVXk8PV74FC",
        "outputId": "c2e3b85a-59dd-4724-8809-c587b9963bd8",
        "colab": {
          "base_uri": "https://localhost:8080/",
          "height": 34
        }
      },
      "source": [
        "z[0:3] = 8, 8, 8\n",
        "\n",
        "z"
      ],
      "execution_count": null,
      "outputs": [
        {
          "output_type": "execute_result",
          "data": {
            "text/plain": [
              "[8, 8, 8, 4]"
            ]
          },
          "metadata": {
            "tags": []
          },
          "execution_count": 30
        }
      ]
    },
    {
      "cell_type": "code",
      "metadata": {
        "id": "XJlQBv0FyA0b",
        "outputId": "16dc4cfc-3e20-476e-d0b9-f78e81ae405f",
        "colab": {
          "base_uri": "https://localhost:8080/",
          "height": 34
        }
      },
      "source": [
        "# Значення останнього елементу списку Y встановлено в 0\n",
        "# Зміна застосовується до X та Y\n",
        "y[1:3] = 0,2,0  # Встановлення значення останнього елементу в 0\n",
        "print('After:\\tx={}, y={}'.format(x, y))"
      ],
      "execution_count": null,
      "outputs": [
        {
          "output_type": "stream",
          "text": [
            "After:\tx=[1, 2, 3, 4], y=[1, 0, 2, 0, 0]\n"
          ],
          "name": "stdout"
        }
      ]
    },
    {
      "cell_type": "code",
      "metadata": {
        "id": "WU-VGaKZ6hCF",
        "outputId": "c1a88e59-52f4-475e-ada5-72e96dcddb61",
        "colab": {
          "base_uri": "https://localhost:8080/",
          "height": 34
        }
      },
      "source": [
        "[-9999,  0.00000000, 1, 2, 3, 4, True, False, 1.999999999999999]"
      ],
      "execution_count": null,
      "outputs": [
        {
          "output_type": "execute_result",
          "data": {
            "text/plain": [
              "[-9999, 0.0, 1, 2, 3, 4, True, False, 1.999999999999999]"
            ]
          },
          "metadata": {
            "tags": []
          },
          "execution_count": 32
        }
      ]
    },
    {
      "cell_type": "code",
      "metadata": {
        "id": "K9GBs1xdyA0e",
        "outputId": "ae81e22d-f01b-4874-8872-65d3995fef27",
        "colab": {
          "base_uri": "https://localhost:8080/",
          "height": 34
        }
      },
      "source": [
        "import numpy as np\n",
        "\n",
        "x = np.array([-9999,  0.00000000, 1, 2, 3, 4, True, False, 1.99999999999999], dtype='int') #, dtype = np.float\n",
        "#np.inf, -np.inf,np.nan, \"some text\", \"\",\n",
        "x"
      ],
      "execution_count": null,
      "outputs": [
        {
          "output_type": "execute_result",
          "data": {
            "text/plain": [
              "array([-9999,     0,     1,     2,     3,     4,     1,     0,     1])"
            ]
          },
          "metadata": {
            "tags": []
          },
          "execution_count": 39
        }
      ]
    },
    {
      "cell_type": "code",
      "metadata": {
        "id": "arYCO3kEyA0h",
        "outputId": "f61e428a-b64a-4246-e6d6-e5ecbef4e488",
        "colab": {
          "base_uri": "https://localhost:8080/",
          "height": 51
        }
      },
      "source": [
        "x = np.array([0, -1, 1, 2.0, True, '', '5', [2], None, np.inf, np.nan], dtype = np.bool8)\n",
        "\n",
        "y = np.array([True, False, True, False, True, False], dtype = np.int8)\n",
        "\n",
        "x"
      ],
      "execution_count": null,
      "outputs": [
        {
          "output_type": "execute_result",
          "data": {
            "text/plain": [
              "array([False,  True,  True,  True,  True, False,  True,  True, False,\n",
              "        True,  True])"
            ]
          },
          "metadata": {
            "tags": []
          },
          "execution_count": 44
        }
      ]
    },
    {
      "cell_type": "code",
      "metadata": {
        "id": "xcKDaroh_DwG"
      },
      "source": [
        "x = np.array([3,4,6,5,1,2,7])\n",
        "y = np.array([1,2,3,4,5,6,0])"
      ],
      "execution_count": null,
      "outputs": []
    },
    {
      "cell_type": "code",
      "metadata": {
        "id": "iHPWq54Q-6UH",
        "outputId": "e9642fa0-fce3-4dc6-a6ce-1cacc53e388e",
        "colab": {
          "base_uri": "https://localhost:8080/",
          "height": 119
        }
      },
      "source": [
        "print(x.shape)\n",
        "print(y.shape)\n",
        "\n",
        "x / y"
      ],
      "execution_count": null,
      "outputs": [
        {
          "output_type": "stream",
          "text": [
            "(7,)\n",
            "(7,)\n"
          ],
          "name": "stdout"
        },
        {
          "output_type": "stream",
          "text": [
            "/usr/local/lib/python3.6/dist-packages/ipykernel_launcher.py:4: RuntimeWarning: divide by zero encountered in true_divide\n",
            "  after removing the cwd from sys.path.\n"
          ],
          "name": "stderr"
        },
        {
          "output_type": "execute_result",
          "data": {
            "text/plain": [
              "array([3.        , 2.        , 2.        , 1.25      , 0.2       ,\n",
              "       0.33333333,        inf])"
            ]
          },
          "metadata": {
            "tags": []
          },
          "execution_count": 46
        }
      ]
    },
    {
      "cell_type": "code",
      "metadata": {
        "id": "QYY7rE2lyA0j",
        "outputId": "c983bcc0-7a6c-42f6-fd78-3c31e6981e54",
        "colab": {
          "base_uri": "https://localhost:8080/",
          "height": 51
        }
      },
      "source": [
        "# Приклад роботи з mutable об'єктами через модуль copy.deepcopy\n",
        "import copy\n",
        "\n",
        "from math import pi\n",
        "\n",
        "#pi = 3\n",
        "\n",
        "x = [1, 2, 3, 4, pi]\n",
        "\n",
        "y = copy.copy(x)\n",
        "\n",
        "print('Before:\\tx={}, y={}'.format(x, y))\n",
        "\n",
        "# Значення останнього елементу списку Y встановлено в 0.\n",
        "# Зміна застосовується до Y\n",
        "x[-1] = 0\n",
        "print('After:\\tx={}, y={}'.format(x, y))"
      ],
      "execution_count": null,
      "outputs": [
        {
          "output_type": "stream",
          "text": [
            "Before:\tx=[1, 2, 3, 4, 3.141592653589793], y=[1, 2, 3, 4, 3.141592653589793]\n",
            "After:\tx=[1, 2, 3, 4, 0], y=[1, 2, 3, 4, 3.141592653589793]\n"
          ],
          "name": "stdout"
        }
      ]
    },
    {
      "cell_type": "code",
      "metadata": {
        "id": "6BTBCyZcCXCA"
      },
      "source": [
        "??deepcopy"
      ],
      "execution_count": null,
      "outputs": []
    },
    {
      "cell_type": "markdown",
      "metadata": {
        "id": "bbanAJDAyA0p"
      },
      "source": [
        "# Вбудовані типи даних\n",
        "\n",
        "Основні типи даних\n",
        "* int\n",
        "* float\n",
        "* complex\n",
        "* bool\n",
        "* str\n",
        "* NoneType\n",
        "\n",
        "Python динамічно типізована мова програмування, тому в ній не потрібно оголошувати зміні з вказанням типу, як, наприклад, в C++, Java.\n",
        "\n",
        "Офіційна документація по Buit-in Types - https://docs.python.org/3.6/library/stdtypes.html"
      ]
    },
    {
      "cell_type": "code",
      "metadata": {
        "id": "SJ6xZeKRyA0p",
        "outputId": "dc34a978-4eda-4e4f-a036-0d29faf93477",
        "colab": {
          "base_uri": "https://localhost:8080/",
          "height": 34
        }
      },
      "source": [
        "x = [1,23,4]\n",
        "x[-1]"
      ],
      "execution_count": null,
      "outputs": [
        {
          "output_type": "execute_result",
          "data": {
            "text/plain": [
              "4"
            ]
          },
          "metadata": {
            "tags": []
          },
          "execution_count": 48
        }
      ]
    },
    {
      "cell_type": "code",
      "metadata": {
        "id": "5PcxLNy2yA0s",
        "outputId": "70564309-8f08-41ac-f1d5-5ee4e9d21b3d",
        "colab": {
          "base_uri": "https://localhost:8080/",
          "height": 119
        }
      },
      "source": [
        "# Приклад динамічної типізації\n",
        "test = 10  # Оголошення змінної типу <int>\n",
        "print('was %d integer ' % test)\n",
        "print('was {} integer '.format(test))\n",
        "print(f'was {test} integer ')\n",
        "print('was ' + str(test) + ' integer ')\n",
        "print('was integer ' + str(test))\n",
        "test = \"test\"  # Присвоєння змінній нового значення типу <str>\n",
        "print('became string %s' % test)"
      ],
      "execution_count": null,
      "outputs": [
        {
          "output_type": "stream",
          "text": [
            "was 10 integer \n",
            "was 10 integer \n",
            "was 10 integer \n",
            "was 10 integer \n",
            "was integer 10\n",
            "became string test\n"
          ],
          "name": "stdout"
        }
      ]
    },
    {
      "cell_type": "markdown",
      "metadata": {
        "id": "rZHKLEA4yA0v"
      },
      "source": [
        "## Тип int\n",
        "\n",
        "Використовується для представлення цілих чисел."
      ]
    },
    {
      "cell_type": "code",
      "metadata": {
        "scrolled": true,
        "id": "7Y_26DsQyA0v",
        "outputId": "71e2060f-a54e-48f8-b879-f82e071b7c0f",
        "colab": {
          "base_uri": "https://localhost:8080/",
          "height": 68
        }
      },
      "source": [
        "# Приклад роботи з int\n",
        "x = 10\n",
        "y = 3\n",
        "z = x * y\n",
        "print(\"z=x*y, z=%d\" % z)\n",
        "\n",
        "z = x / y\n",
        "print(\"z=x*y, z=%f\" % z)\n",
        "\n",
        "# Даний варіант ділення було додано в Python 3 для підтримки ділення цілих чисел\n",
        "# як в Python 2, де при ділені двох цілих чисел в результаті - ціле число, а дробова частина відкидається\n",
        "z = x ** y #2^3\n",
        "print(\"z=x*y, z=%f\" % z)"
      ],
      "execution_count": null,
      "outputs": [
        {
          "output_type": "stream",
          "text": [
            "z=x*y, z=30\n",
            "z=x*y, z=3.333333\n",
            "z=x*y, z=1000.000000\n"
          ],
          "name": "stdout"
        }
      ]
    },
    {
      "cell_type": "code",
      "metadata": {
        "id": "yKP5g5wjEliJ",
        "outputId": "ca2da8b1-8a31-469b-97c3-7c3d66458657",
        "colab": {
          "base_uri": "https://localhost:8080/",
          "height": 34
        }
      },
      "source": [
        "x % y #залишок"
      ],
      "execution_count": null,
      "outputs": [
        {
          "output_type": "execute_result",
          "data": {
            "text/plain": [
              "1"
            ]
          },
          "metadata": {
            "tags": []
          },
          "execution_count": 51
        }
      ]
    },
    {
      "cell_type": "code",
      "metadata": {
        "id": "OfSo-vvzFFx1",
        "outputId": "1529e44e-97ee-4946-a3d9-98c80e30bd05",
        "colab": {
          "base_uri": "https://localhost:8080/",
          "height": 34
        }
      },
      "source": [
        "int(x / y) == (x // y)"
      ],
      "execution_count": null,
      "outputs": [
        {
          "output_type": "execute_result",
          "data": {
            "text/plain": [
              "True"
            ]
          },
          "metadata": {
            "tags": []
          },
          "execution_count": 52
        }
      ]
    },
    {
      "cell_type": "markdown",
      "metadata": {
        "id": "AgT6JOY5yA01"
      },
      "source": [
        "## Тип float\n",
        "Використовується для представлення чисел з плаваючою крапкою.\n",
        "\n",
        "Нижче приклад роботи з типом float, який демонструє одну з проблем при використанні даного типу при порівнянні значень.\n",
        "\n",
        "Причина - особливості збереження та представлення чисел з плаваючою крапкою. Тому, для уникнення проблем рекомендується використовувати клас Decimal (https://docs.python.org/3.6/library/decimal.html#decimal-objects)."
      ]
    },
    {
      "cell_type": "code",
      "metadata": {
        "scrolled": true,
        "id": "MeGHmMHRyA02",
        "outputId": "4c49c303-854d-4a32-9825-649ae5cdf651",
        "colab": {
          "base_uri": "https://localhost:8080/",
          "height": 119
        }
      },
      "source": [
        "# Приклад роботи з float\n",
        "x = 10.6\n",
        "y = True + 2.51 + 1\n",
        "\n",
        "print('Values as they were defined')\n",
        "print('x = {}'.format(x))\n",
        "print('y = {}'.format(y))\n",
        "\n",
        "print('Values as they stored in memory')\n",
        "print('x = {0:.4f}'.format(x))\n",
        "print('y = {0:.100f}'.format(y))"
      ],
      "execution_count": null,
      "outputs": [
        {
          "output_type": "stream",
          "text": [
            "Values as they were defined\n",
            "x = 10.6\n",
            "y = 4.51\n",
            "Values as they stored in memory\n",
            "x = 10.6000\n",
            "y = 4.5099999999999997868371792719699442386627197265625000000000000000000000000000000000000000000000000000\n"
          ],
          "name": "stdout"
        }
      ]
    },
    {
      "cell_type": "code",
      "metadata": {
        "id": "tJ1rGFnEyA05",
        "outputId": "09dceba4-1001-4279-d74d-90a3796c0ba0",
        "colab": {
          "base_uri": "https://localhost:8080/",
          "height": 119
        }
      },
      "source": [
        "# Приклад проблеми, яка виникає при порівнянні значень типу <float>\n",
        "a = 0.1\n",
        "b = 0.2\n",
        "c = 0.3\n",
        "\n",
        "is_equal = (a + b) == c\n",
        "print('a + b {} c\\n'.format('==' if is_equal else '!='))\n",
        "\n",
        "print('Values as they stored in memory')\n",
        "print('\\ta = {0:.17f}'.format(a))\n",
        "print('\\tb = {0:.17f}'.format(b))\n",
        "print('\\tc = {0:.17f}'.format(c))"
      ],
      "execution_count": null,
      "outputs": [
        {
          "output_type": "stream",
          "text": [
            "a + b != c\n",
            "\n",
            "Values as they stored in memory\n",
            "\ta = 0.10000000000000001\n",
            "\tb = 0.20000000000000001\n",
            "\tc = 0.29999999999999999\n"
          ],
          "name": "stdout"
        }
      ]
    },
    {
      "cell_type": "code",
      "metadata": {
        "scrolled": true,
        "id": "VPrmMV0zyA08",
        "outputId": "902cf271-b49f-45c5-c518-ebf04fc9f64d",
        "colab": {
          "base_uri": "https://localhost:8080/",
          "height": 238
        }
      },
      "source": [
        "# Приклад роботи з Decimal\n",
        "from decimal import *\n",
        "\n",
        "context = getcontext()\n",
        "print(context, end='\\n')\n",
        "\n",
        "x_d = Decimal(str(x))\n",
        "y_d = Decimal(str(y))\n",
        "\n",
        "print('prec: {}'.format(context.prec))\n",
        "print('x = {0:.17f}'.format(x_d))\n",
        "print('y = {0:.17f}'.format(y_d))\n",
        "print()\n",
        "\n",
        "original_prec = context.prec\n",
        "context.prec = 2\n",
        "print('prec: {}'.format(context.prec))\n",
        "print('x = {}'.format(x_d))\n",
        "print('y = {}'.format(y_d))\n",
        "print()\n",
        "\n",
        "context.prec = original_prec\n",
        "# Приклад використання вбудованих функцій класу Decimal\n",
        "x_d = Decimal('100')\n",
        "z_d = x_d.sqrt()\n",
        "print('prec: {val}'.format(val=context.prec))\n",
        "print('sqrt(x_d) = {}'.format(z_d))\n",
        "\n",
        "z_d = x_d.log10()\n",
        "print('log(x_d) = {}'.format(z_d))\n",
        "print(z_d)"
      ],
      "execution_count": null,
      "outputs": [
        {
          "output_type": "stream",
          "text": [
            "Context(prec=28, rounding=ROUND_HALF_EVEN, Emin=-999999, Emax=999999, capitals=1, clamp=0, flags=[], traps=[InvalidOperation, DivisionByZero, Overflow])\n",
            "prec: 28\n",
            "x = 10.60000000000000000\n",
            "y = 4.51000000000000000\n",
            "\n",
            "prec: 2\n",
            "x = 10.6\n",
            "y = 4.51\n",
            "\n",
            "prec: 28\n",
            "sqrt(x_d) = 10\n",
            "log(x_d) = 2\n",
            "2\n"
          ],
          "name": "stdout"
        }
      ]
    },
    {
      "cell_type": "code",
      "metadata": {
        "id": "kQZwlt8TGBAd",
        "outputId": "6807548a-37a4-42f9-d1de-373d29056a1d",
        "colab": {
          "base_uri": "https://localhost:8080/",
          "height": 34
        }
      },
      "source": [
        "Decimal('0.1') + Decimal('0.2') #== Decimal('0.3')"
      ],
      "execution_count": null,
      "outputs": [
        {
          "output_type": "execute_result",
          "data": {
            "text/plain": [
              "Decimal('0.3')"
            ]
          },
          "metadata": {
            "tags": []
          },
          "execution_count": 58
        }
      ]
    },
    {
      "cell_type": "code",
      "metadata": {
        "id": "gaxVWP-VGQwV",
        "outputId": "6795a817-a848-4690-987f-75b9f719b66d",
        "colab": {
          "base_uri": "https://localhost:8080/",
          "height": 34
        }
      },
      "source": [
        "float(Decimal('0.1') + True)"
      ],
      "execution_count": null,
      "outputs": [
        {
          "output_type": "execute_result",
          "data": {
            "text/plain": [
              "1.1"
            ]
          },
          "metadata": {
            "tags": []
          },
          "execution_count": 59
        }
      ]
    },
    {
      "cell_type": "code",
      "metadata": {
        "id": "HqtMjJs2GcY4",
        "outputId": "4f16bd2a-f40f-4d78-9095-c808ed9b1b5b",
        "colab": {
          "base_uri": "https://localhost:8080/",
          "height": 34
        }
      },
      "source": [
        "z = np.array([0.1]) + np.array([0.2])\n",
        "\n",
        "print(z, np.array([0.3]))"
      ],
      "execution_count": null,
      "outputs": [
        {
          "output_type": "stream",
          "text": [
            "[0.3] [0.3]\n"
          ],
          "name": "stdout"
        }
      ]
    },
    {
      "cell_type": "code",
      "metadata": {
        "id": "GByiWnyfyA0-",
        "outputId": "64215bb9-bef4-4507-f604-794b06a2dd3f",
        "colab": {
          "base_uri": "https://localhost:8080/",
          "height": 102
        }
      },
      "source": [
        "(np.array([11.1 + True, 1, -1], dtype = np.float)/0) + \\\n",
        "(np.array([11.1 + True, 1, 1], dtype = np.float)/0)"
      ],
      "execution_count": null,
      "outputs": [
        {
          "output_type": "stream",
          "text": [
            "/usr/local/lib/python3.6/dist-packages/ipykernel_launcher.py:1: RuntimeWarning: divide by zero encountered in true_divide\n",
            "  \"\"\"Entry point for launching an IPython kernel.\n",
            "/usr/local/lib/python3.6/dist-packages/ipykernel_launcher.py:1: RuntimeWarning: invalid value encountered in add\n",
            "  \"\"\"Entry point for launching an IPython kernel.\n"
          ],
          "name": "stderr"
        },
        {
          "output_type": "execute_result",
          "data": {
            "text/plain": [
              "array([inf, inf, nan])"
            ]
          },
          "metadata": {
            "tags": []
          },
          "execution_count": 61
        }
      ]
    },
    {
      "cell_type": "markdown",
      "metadata": {
        "id": "02tUkDD6yA1B"
      },
      "source": [
        "## Тип str\n",
        "\n",
        "Тип, який використовується для представлення рядків.\n",
        "\n",
        "Python надає багато можливостей для роботи з даним типом, тому за це його і люблять :-)\n",
        "\n",
        "Що важливо запам'ятати:\n",
        "- Цей тип immutable, тобто його не можна модифікувати, наприклад, по індексу.\n",
        "- Рядки оголошуються в одинарних `'text'` чи подвійних `\"text\"` лапках, або потрійних одинарних `'''text'''` чи подвійних `\"\"\"text\"\"\"` лапках.\n",
        "- Python містить гнучкий механізм для форматування рядків.\n",
        "- В Python3 всі рядки представленні в вигляді послідовності `unicode` символів.\n",
        "- Для отримання довжини використовується вбудована функція `len(str_obj)`.\n",
        "\n",
        "Офіційна документація:\n",
        "- https://docs.python.org/3.6/library/stdtypes.html#text-sequence-type-str\n",
        "- https://docs.python.org/3.6/library/string.html\n",
        "- https://docs.python.org/3.6/library/string.html#format-examples - приклади форматування\n",
        "- https://docs.python.org/3.6/library/stdtypes.html#string-methods - стандартні методи str"
      ]
    },
    {
      "cell_type": "code",
      "metadata": {
        "scrolled": true,
        "id": "aCD2pzTgyA1B",
        "outputId": "91245e0c-7df7-4340-810b-daab59eaadb4",
        "colab": {
          "base_uri": "https://localhost:8080/",
          "height": 238
        }
      },
      "source": [
        "# Приклад роботи з str\n",
        "s1 = 'This is \\'test\\' string#1\\n'\n",
        "s2 = \"This is \\\"test\\\" string#2\\t\"\n",
        "s3 = \"\"\"\n",
        "This 'is' \"test\" string #3\\r\n",
        "\"\"\"\n",
        "\n",
        "print(\"s1 = \" + s1)\n",
        "print(\"s2 = %s\" % s2)\n",
        "print(\"s3 = {}\".format(s3))\n",
        "print('length = {var}\\n'.format(var=len(s1)))\n",
        "print(f\"s3 = {s3}\")\n",
        "print(f\"value = {x}\")\n",
        "print(\"value = \" + str(x))"
      ],
      "execution_count": null,
      "outputs": [
        {
          "output_type": "stream",
          "text": [
            "s1 = This is 'test' string#1\n",
            "\n",
            "s2 = This is \"test\" string#2\t\n",
            "s3 = \n",
            "This 'is' \"test\" string #3\r\n",
            "\n",
            "length = 24\n",
            "\n",
            "s3 = \n",
            "This 'is' \"test\" string #3\r\n",
            "\n",
            "value = 10.6\n",
            "value = 10.6\n"
          ],
          "name": "stdout"
        }
      ]
    },
    {
      "cell_type": "code",
      "metadata": {
        "id": "ICz_ZctsK-ke",
        "outputId": "8d577019-c44d-4ab2-bb83-2b1264a7881b",
        "colab": {
          "base_uri": "https://localhost:8080/",
          "height": 425
        }
      },
      "source": [
        "[i+\"Слава Україні!\" for i in s1]"
      ],
      "execution_count": null,
      "outputs": [
        {
          "output_type": "execute_result",
          "data": {
            "text/plain": [
              "['TСлава Україні!',\n",
              " 'hСлава Україні!',\n",
              " 'iСлава Україні!',\n",
              " 'sСлава Україні!',\n",
              " ' Слава Україні!',\n",
              " 'iСлава Україні!',\n",
              " 'sСлава Україні!',\n",
              " ' Слава Україні!',\n",
              " \"'Слава Україні!\",\n",
              " 'tСлава Україні!',\n",
              " 'eСлава Україні!',\n",
              " 'sСлава Україні!',\n",
              " 'tСлава Україні!',\n",
              " \"'Слава Україні!\",\n",
              " ' Слава Україні!',\n",
              " 'sСлава Україні!',\n",
              " 'tСлава Україні!',\n",
              " 'rСлава Україні!',\n",
              " 'iСлава Україні!',\n",
              " 'nСлава Україні!',\n",
              " 'gСлава Україні!',\n",
              " '#Слава Україні!',\n",
              " '1Слава Україні!',\n",
              " '\\nСлава Україні!']"
            ]
          },
          "metadata": {
            "tags": []
          },
          "execution_count": 165
        }
      ]
    },
    {
      "cell_type": "code",
      "metadata": {
        "id": "R7_32tD9yA1E",
        "outputId": "59a60e1f-d44d-449a-d224-3ccbb1a368d9",
        "colab": {
          "base_uri": "https://localhost:8080/",
          "height": 85
        }
      },
      "source": [
        "# str slicing\n",
        "tmp = s1[:]\n",
        "print('Original:\\t' + s1)\n",
        "print('Result:\\t\\t' + tmp)"
      ],
      "execution_count": null,
      "outputs": [
        {
          "output_type": "stream",
          "text": [
            "Original:\tThis is 'test' string#1\n",
            "\n",
            "Result:\t\tThis is 'test' string#1\n",
            "\n"
          ],
          "name": "stdout"
        }
      ]
    },
    {
      "cell_type": "code",
      "metadata": {
        "id": "YUOK9qA1yA1H",
        "outputId": "3fe51065-e5d1-42f2-e169-1ceaa5a5a823",
        "colab": {
          "base_uri": "https://localhost:8080/",
          "height": 34
        }
      },
      "source": [
        "# Приведення str верхнього регістру\n",
        "s1.upper(), s1.lower()"
      ],
      "execution_count": null,
      "outputs": [
        {
          "output_type": "execute_result",
          "data": {
            "text/plain": [
              "(\"THIS IS 'TEST' STRING#1\\n\", \"this is 'test' string#1\\n\")"
            ]
          },
          "metadata": {
            "tags": []
          },
          "execution_count": 70
        }
      ]
    },
    {
      "cell_type": "code",
      "metadata": {
        "id": "oGvc8TJrL2df",
        "outputId": "45497fbc-337a-4351-9378-32f12c3b233c",
        "colab": {
          "base_uri": "https://localhost:8080/",
          "height": 425
        }
      },
      "source": [
        "list(s1)"
      ],
      "execution_count": null,
      "outputs": [
        {
          "output_type": "execute_result",
          "data": {
            "text/plain": [
              "['T',\n",
              " 'h',\n",
              " 'i',\n",
              " 's',\n",
              " ' ',\n",
              " 'i',\n",
              " 's',\n",
              " ' ',\n",
              " \"'\",\n",
              " 't',\n",
              " 'e',\n",
              " 's',\n",
              " 't',\n",
              " \"'\",\n",
              " ' ',\n",
              " 's',\n",
              " 't',\n",
              " 'r',\n",
              " 'i',\n",
              " 'n',\n",
              " 'g',\n",
              " '#',\n",
              " '1',\n",
              " '\\n']"
            ]
          },
          "metadata": {
            "tags": []
          },
          "execution_count": 71
        }
      ]
    },
    {
      "cell_type": "code",
      "metadata": {
        "id": "wmLi6iDtyA1K",
        "outputId": "60ff9194-102e-4ee4-8415-cda621d3dcfd",
        "colab": {
          "base_uri": "https://localhost:8080/",
          "height": 68
        }
      },
      "source": [
        "# Приведення str до списку символів\n",
        "tmp = list(s1)\n",
        "np.array(tmp, dtype = 'str')"
      ],
      "execution_count": null,
      "outputs": [
        {
          "output_type": "execute_result",
          "data": {
            "text/plain": [
              "array(['T', 'h', 'i', 's', ' ', 'i', 's', ' ', \"'\", 't', 'e', 's', 't',\n",
              "       \"'\", ' ', 's', 't', 'r', 'i', 'n', 'g', '#', '1', '\\n'],\n",
              "      dtype='<U1')"
            ]
          },
          "metadata": {
            "tags": []
          },
          "execution_count": 73
        }
      ]
    },
    {
      "cell_type": "code",
      "metadata": {
        "scrolled": true,
        "id": "Uz13n2VByA1O",
        "outputId": "68a755e8-8c30-4f84-af92-d2b727cdae94",
        "colab": {
          "base_uri": "https://localhost:8080/",
          "height": 51
        }
      },
      "source": [
        "# Розділення str по роздільнику (по замовчуванням - пробіл)\n",
        "tmp = list(s1.split())\n",
        "print(tmp)\n",
        "\n",
        "tmp = list(s1.split('i'))\n",
        "print(tmp)"
      ],
      "execution_count": null,
      "outputs": [
        {
          "output_type": "stream",
          "text": [
            "['This', 'is', \"'test'\", 'string#1']\n",
            "['Th', 's ', \"s 'test' str\", 'ng#1\\n']\n"
          ],
          "name": "stdout"
        }
      ]
    },
    {
      "cell_type": "code",
      "metadata": {
        "id": "vuXu0YYTCXFC",
        "outputId": "9a8ec628-b95d-4cae-c2d1-c3de2c8fce27",
        "colab": {
          "base_uri": "https://localhost:8080/",
          "height": 35
        }
      },
      "source": [
        "s1.replace(\"i\", \"A\")"
      ],
      "execution_count": null,
      "outputs": [
        {
          "output_type": "execute_result",
          "data": {
            "application/vnd.google.colaboratory.intrinsic+json": {
              "type": "string"
            },
            "text/plain": [
              "\"ThAs As 'test' strAng#1\\n\""
            ]
          },
          "metadata": {
            "tags": []
          },
          "execution_count": 75
        }
      ]
    },
    {
      "cell_type": "code",
      "metadata": {
        "id": "W66HSKhGyA1Q",
        "outputId": "4a5d7e0e-90df-49cb-c67e-8d0ebaf7296f",
        "colab": {
          "base_uri": "https://localhost:8080/",
          "height": 34
        }
      },
      "source": [
        "# Трошки магії\n",
        "res = \"True \" + 'yyer'\n",
        "res"
      ],
      "execution_count": null,
      "outputs": [
        {
          "output_type": "execute_result",
          "data": {
            "text/plain": [
              "'True yyer'"
            ]
          },
          "metadata": {
            "tags": []
          },
          "execution_count": 173
        }
      ]
    },
    {
      "cell_type": "markdown",
      "metadata": {
        "id": "VmAIUULfyA1T"
      },
      "source": [
        "## Тип bool\n",
        "\n",
        "Примітивний тип, який може мати два можливих значення: True та False.\n",
        "\n",
        "Будь-який інший тип може бути приведений до типу `bool` з використанням конструктора `bool()`:\n",
        "- будь-яке число, яке рівне 0 - False, інакше - True;\n",
        "- None - завжди False;\n",
        "- пустий рядок - False, інакше - True;\n",
        "- для структурних типів (set, dict і т.д.) порожня послідовність - False, інакше - True."
      ]
    },
    {
      "cell_type": "code",
      "metadata": {
        "id": "aKTKm80dyA1U",
        "outputId": "91e6dd42-cc96-4ef1-cb9c-d825c2b49276",
        "colab": {
          "base_uri": "https://localhost:8080/",
          "height": 275
        }
      },
      "source": [
        "# Приклади роботи з типом bool\n",
        "b1 = True\n",
        "b2 = False\n",
        "b3 = bool(\"\")\n",
        "b4 = bool(\"abc\")\n",
        "b5 = bool(-2.2)\n",
        "b6 = bool(0.0)\n",
        "b7 = bool(-10)\n",
        "b8 = bool(np.array([]))\n",
        "b9 = bool(\" \")\n",
        "b10 = bool({})\n",
        "b11 = bool(None)\n",
        "b12 = bool(np.nan)\n",
        "\n",
        "# ==  is\n",
        "# != is not ~\n",
        "# <\n",
        "# >\n",
        "# >=\n",
        "# <=\n",
        "\n",
        "print('b1 is ' + str(b1))\n",
        "print('b2 is ' + str(b2))\n",
        "print('b3 is ' + str(b3))\n",
        "print('b4 is ' + str(b4))\n",
        "print('b5 is ' + str(b5))\n",
        "print('b6 is ' + str(b6))\n",
        "print('b7 is ' + str(b7))\n",
        "print('b8 is ' + str(b8))\n",
        "print('b9 is ' + str(b9))\n",
        "print('b10 is ' + str(b10))\n",
        "print('b11 is ' + str(b11))\n",
        "print('b12 is ' + str(b12))"
      ],
      "execution_count": null,
      "outputs": [
        {
          "output_type": "stream",
          "text": [
            "b1 is True\n",
            "b2 is False\n",
            "b3 is False\n",
            "b4 is True\n",
            "b5 is True\n",
            "b6 is False\n",
            "b7 is True\n",
            "b8 is False\n",
            "b9 is True\n",
            "b10 is False\n",
            "b11 is False\n",
            "b12 is True\n"
          ],
          "name": "stdout"
        },
        {
          "output_type": "stream",
          "text": [
            "/usr/local/lib/python3.6/dist-packages/ipykernel_launcher.py:9: DeprecationWarning: The truth value of an empty array is ambiguous. Returning False, but in future this will result in an error. Use `array.size > 0` to check that an array is not empty.\n",
            "  if __name__ == '__main__':\n"
          ],
          "name": "stderr"
        }
      ]
    },
    {
      "cell_type": "markdown",
      "metadata": {
        "id": "5XAAav9PyA1W"
      },
      "source": [
        "# Структури даних\n",
        "\n",
        "Основні, найчастіше вживані структури даних:\n",
        "* list\n",
        "* set\n",
        "* tuple\n",
        "* dict"
      ]
    },
    {
      "cell_type": "markdown",
      "metadata": {
        "id": "CppA0DM4yA1X"
      },
      "source": [
        "## list\n",
        "\n",
        "\n",
        "Вбудована структура даних, яка є впорядкованою (елементи зберігаються в порядку додання) та mutable.\n",
        "\n",
        "Що важливо запам'ятати:\n",
        "- елементи в списку можуть бути різного типу;\n",
        "- індексація розпочинається з 0;\n",
        "- зручні операції slicing по конструкції `list[a:b:c]`;\n",
        "- є можливість доступу до елементів по від'ємного індексу - з кінця списку.\n",
        "\n",
        "Містить ряд вбудованих методів для роботи, по частині яких нижче приведені приклади.\n",
        "\n",
        "Офіційна документація по вбудованим методам - https://docs.python.org/3/tutorial/datastructures.html#more-on-lists"
      ]
    },
    {
      "cell_type": "code",
      "metadata": {
        "scrolled": true,
        "id": "8bYKw8BfyA1Y",
        "outputId": "411fbaa3-8117-40b8-86e7-fa77c27bfbe8",
        "colab": {
          "base_uri": "https://localhost:8080/",
          "height": 68
        }
      },
      "source": [
        "# Оголошенния списку\n",
        "l1 = [1, 2, '3', 'text', Decimal('20'), False, None, [1, 3, [32, 4]]]  # Елементи різного типу\n",
        "l2 = []  # Порожній список\n",
        "l3 = list()  # З використанням конструтора типу <list>\n",
        "\n",
        "print(\"l1: \\t{}\".format(l1))\n",
        "print(\"l2: \\t{}\".format(l2))\n",
        "print(\"l3: \\t{}\".format(l3))"
      ],
      "execution_count": null,
      "outputs": [
        {
          "output_type": "stream",
          "text": [
            "l1: \t[1, 2, '3', 'text', Decimal('20'), False, None, [1, 3, [32, 4]]]\n",
            "l2: \t[]\n",
            "l3: \t[]\n"
          ],
          "name": "stdout"
        }
      ]
    },
    {
      "cell_type": "code",
      "metadata": {
        "id": "YJno4tE7yA1a",
        "outputId": "a5de5f50-ce23-48a1-9cb5-68a61c36d007",
        "colab": {
          "base_uri": "https://localhost:8080/",
          "height": 51
        }
      },
      "source": [
        "np.array(l1, dtype = np.object)"
      ],
      "execution_count": null,
      "outputs": [
        {
          "output_type": "execute_result",
          "data": {
            "text/plain": [
              "array([1, 2, '3', 'text', Decimal('20'), False, None,\n",
              "       list([1, 3, [32, 4]])], dtype=object)"
            ]
          },
          "metadata": {
            "tags": []
          },
          "execution_count": 78
        }
      ]
    },
    {
      "cell_type": "code",
      "metadata": {
        "id": "8RirYJfIyA1e",
        "outputId": "f36081ce-daec-42d0-8823-a600ab0d3aaa",
        "colab": {
          "base_uri": "https://localhost:8080/",
          "height": 68
        }
      },
      "source": [
        "# Приклади slicing\n",
        "print('First 5: ' + str(l1[:5]))\n",
        "print('From 2 to end: ' + str(l1[2:]))\n",
        "print(l1[:2:-3])"
      ],
      "execution_count": null,
      "outputs": [
        {
          "output_type": "stream",
          "text": [
            "First 5: [1, 2, '3', 'text', Decimal('20')]\n",
            "From 2 to end: ['3', 'text', Decimal('20'), False, None, [1, 3, [32, 4]]]\n",
            "[[1, 3, [32, 4]], Decimal('20')]\n"
          ],
          "name": "stdout"
        }
      ]
    },
    {
      "cell_type": "code",
      "metadata": {
        "id": "72QWa4lAyA1i",
        "outputId": "790a54e4-c12f-4546-d46e-0dfb450cd893",
        "colab": {
          "base_uri": "https://localhost:8080/",
          "height": 51
        }
      },
      "source": [
        "# Приклади роботи по індексу\n",
        "print('First: ' + str(l1[0]))\n",
        "print('Last: ' + str(l1[-1]))"
      ],
      "execution_count": null,
      "outputs": [
        {
          "output_type": "stream",
          "text": [
            "First: 1\n",
            "Last: [1, 3, [32, 4]]\n"
          ],
          "name": "stdout"
        }
      ]
    },
    {
      "cell_type": "code",
      "metadata": {
        "id": "tEVReaOMyA1l",
        "outputId": "e4524c17-e721-404c-ea87-a363e80c5ef3",
        "colab": {
          "base_uri": "https://localhost:8080/",
          "height": 34
        }
      },
      "source": [
        "# Приклади отримання довжини\n",
        "print('Length: ' + str(len(l1)))"
      ],
      "execution_count": null,
      "outputs": [
        {
          "output_type": "stream",
          "text": [
            "Length: 8\n"
          ],
          "name": "stdout"
        }
      ]
    },
    {
      "cell_type": "code",
      "metadata": {
        "id": "VXFwHi8GyA1p"
      },
      "source": [
        "#print(temp[0])\n",
        "#np.array([temp])[0][0]"
      ],
      "execution_count": null,
      "outputs": []
    },
    {
      "cell_type": "code",
      "metadata": {
        "id": "3iKAFOwRyA1r",
        "outputId": "32acf6fa-7f24-4bd9-bde2-d32b4ace058b",
        "colab": {
          "base_uri": "https://localhost:8080/",
          "height": 51
        }
      },
      "source": [
        "# Приклади вибірки 0 елементу з використанням pop\n",
        "temp = l1.pop()\n",
        "print('First removed: ' + str(l1))\n",
        "print(temp)"
      ],
      "execution_count": null,
      "outputs": [
        {
          "output_type": "stream",
          "text": [
            "First removed: [1, 2, '3', 'text', Decimal('20'), False, None]\n",
            "[1, 3, [32, 4]]\n"
          ],
          "name": "stdout"
        }
      ]
    },
    {
      "cell_type": "code",
      "metadata": {
        "id": "LaPoyfDWyA1v",
        "outputId": "29d2fbc1-1bff-4d9f-cdce-75b17c2d12ec",
        "colab": {
          "base_uri": "https://localhost:8080/",
          "height": 34
        }
      },
      "source": [
        "x"
      ],
      "execution_count": null,
      "outputs": [
        {
          "output_type": "execute_result",
          "data": {
            "text/plain": [
              "10.6"
            ]
          },
          "metadata": {
            "tags": []
          },
          "execution_count": 85
        }
      ]
    },
    {
      "cell_type": "code",
      "metadata": {
        "id": "aUExZfcoyA1x",
        "outputId": "4873e0b2-81cf-4eac-c3db-d22fa7aa975d",
        "colab": {
          "base_uri": "https://localhost:8080/",
          "height": 51
        }
      },
      "source": [
        "# Приклади додання елементу до списку\n",
        "l1.append(['NEW', 4])\n",
        "print('Added new element: ' + str(x))\n",
        "l1"
      ],
      "execution_count": null,
      "outputs": [
        {
          "output_type": "stream",
          "text": [
            "Added new element: 10.6\n"
          ],
          "name": "stdout"
        },
        {
          "output_type": "execute_result",
          "data": {
            "text/plain": [
              "[1, 2, '3', 'text', Decimal('20'), False, None, ['NEW', 4]]"
            ]
          },
          "metadata": {
            "tags": []
          },
          "execution_count": 86
        }
      ]
    },
    {
      "cell_type": "code",
      "metadata": {
        "id": "c8XLCEktyA1z",
        "outputId": "89d1a5cf-1377-44d3-8a58-f11246130b7a",
        "colab": {
          "base_uri": "https://localhost:8080/",
          "height": 34
        }
      },
      "source": [
        "# Приклади розширення одного списку іншим\n",
        "l1.extend(['e1', 'e2', 'e3'])\n",
        "print('Extended: ' + str(l1))"
      ],
      "execution_count": null,
      "outputs": [
        {
          "output_type": "stream",
          "text": [
            "Extended: [1, 2, '3', 'text', Decimal('20'), False, None, ['NEW', 4], 'e1', 'e2', 'e3']\n"
          ],
          "name": "stdout"
        }
      ]
    },
    {
      "cell_type": "code",
      "metadata": {
        "id": "m3KAEhh1yA11",
        "outputId": "62ca1228-f5cf-4118-b37a-d20f8fce0ffc",
        "colab": {
          "base_uri": "https://localhost:8080/",
          "height": 51
        }
      },
      "source": [
        "# Приклади додання двох списків\n",
        "test = l1 + ['e1', 'e2', 'e3']\n",
        "print(test)\n",
        "\n",
        "f = [\"terr\",'e1', 'e2', 'e3']\n",
        "f.sort()\n",
        "print(f)"
      ],
      "execution_count": null,
      "outputs": [
        {
          "output_type": "stream",
          "text": [
            "[1, 2, '3', 'text', Decimal('20'), False, None, ['NEW', 4], 'e1', 'e2', 'e3', 'e1', 'e2', 'e3']\n",
            "['e1', 'e2', 'e3', 'terr']\n"
          ],
          "name": "stdout"
        }
      ]
    },
    {
      "cell_type": "code",
      "metadata": {
        "id": "e7w5no2wyA13",
        "outputId": "680dcc08-5aad-43be-adb5-5ed3ad14b432",
        "colab": {
          "base_uri": "https://localhost:8080/",
          "height": 68
        }
      },
      "source": [
        "# Приклади сортування списків\n",
        "unsorted_list = [3, 65, 4, -2, -100, 0]\n",
        "print('Un-Sorted: ' + str(unsorted_list))\n",
        "\n",
        "unsorted_list.sort(reverse=True)\n",
        "print('Sorted: ' + str(unsorted_list))\n",
        "\n",
        "char_list = ['a', 'b', 'c', 'aa', 1 , '1', False]\n",
        "char_list[0] = 1#'Nothing'\n",
        "print(char_list)"
      ],
      "execution_count": null,
      "outputs": [
        {
          "output_type": "stream",
          "text": [
            "Un-Sorted: [3, 65, 4, -2, -100, 0]\n",
            "Sorted: [65, 4, 3, 0, -2, -100]\n",
            "[1, 'b', 'c', 'aa', 1, '1', False]\n"
          ],
          "name": "stdout"
        }
      ]
    },
    {
      "cell_type": "code",
      "metadata": {
        "id": "3CrRp-CqyA15",
        "outputId": "f1613796-e6d7-4609-cc99-56d9321d60b7",
        "colab": {
          "base_uri": "https://localhost:8080/",
          "height": 34
        }
      },
      "source": [
        "f = np.array(char_list, dtype = np.bool)\n",
        "f = np.array(f, dtype=np.float)\n",
        "f[f == 0] = 7.99\n",
        "f.sort()\n",
        "f"
      ],
      "execution_count": null,
      "outputs": [
        {
          "output_type": "execute_result",
          "data": {
            "text/plain": [
              "array([1.  , 1.  , 1.  , 1.  , 1.  , 1.  , 7.99])"
            ]
          },
          "metadata": {
            "tags": []
          },
          "execution_count": 90
        }
      ]
    },
    {
      "cell_type": "markdown",
      "metadata": {
        "id": "zpb3wS_4yA19"
      },
      "source": [
        "## tuple\n",
        "\n",
        "Структура даних, яка дуже схожа до списків, але з поправкою на те, що tuple - immutable, що означає, що після його створення модифікувати його вже не можливо, наприклад, по індексу.\n",
        "\n",
        "Зачасту використовується для:\n",
        "- передачі параметрів в методи через `*args`;\n",
        "- поверення декількох значень після виконання методу;\n",
        "- при роботі з CSV файлами.\n",
        "\n",
        "Офіційна документація - https://docs.python.org/3.6/library/stdtypes.html#tuple."
      ]
    },
    {
      "cell_type": "code",
      "metadata": {
        "id": "h80ssQ3cP4BA"
      },
      "source": [
        "t1 = (1, 2, 3)\n",
        "\n",
        "t1 = 1,2,3\n",
        "\n",
        "a, b, c = 1, 2, 3"
      ],
      "execution_count": null,
      "outputs": []
    },
    {
      "cell_type": "code",
      "metadata": {
        "id": "-5RRmVNNQgHl",
        "outputId": "5fb9f988-5138-47e5-c8e0-b946b456812e",
        "colab": {
          "base_uri": "https://localhost:8080/",
          "height": 34
        }
      },
      "source": [
        "(3,)"
      ],
      "execution_count": null,
      "outputs": [
        {
          "output_type": "execute_result",
          "data": {
            "text/plain": [
              "(3,)"
            ]
          },
          "metadata": {
            "tags": []
          },
          "execution_count": 95
        }
      ]
    },
    {
      "cell_type": "code",
      "metadata": {
        "scrolled": true,
        "id": "Zo6KNfV2yA19",
        "outputId": "530f9372-8472-4dde-b51a-27224a659ef9",
        "colab": {
          "base_uri": "https://localhost:8080/",
          "height": 119
        }
      },
      "source": [
        "# Приклад оголошення tuple\n",
        "\n",
        "t2 = tuple()\n",
        "t3 = ()\n",
        "t4 = 4, 5, 6, (7, 9, (4, 3))\n",
        "t5 = (1,)\n",
        "\n",
        "print('t1 type is: ' + str(type(t1)))\n",
        "print('t1: ' + str(t1))\n",
        "print('t2: ' + str(t2))\n",
        "print('t3: ' + str(t3))\n",
        "print('t4: ' + str(t4))\n",
        "print('t5: ' + str(type(t5)))"
      ],
      "execution_count": null,
      "outputs": [
        {
          "output_type": "stream",
          "text": [
            "t1 type is: <class 'tuple'>\n",
            "t1: (1, 2, 3)\n",
            "t2: ()\n",
            "t3: ()\n",
            "t4: (4, 5, 6, (7, 9, (4, 3)))\n",
            "t5: <class 'int'>\n"
          ],
          "name": "stdout"
        }
      ]
    },
    {
      "cell_type": "code",
      "metadata": {
        "id": "j6FZpYNHyA1_",
        "outputId": "4a8663dd-1ad8-4fa1-fe99-b54db6b3aad6",
        "colab": {
          "base_uri": "https://localhost:8080/",
          "height": 34
        }
      },
      "source": [
        "train_x, _, _, test_y = 1, 2, 3, 4\n",
        "_+2"
      ],
      "execution_count": null,
      "outputs": [
        {
          "output_type": "execute_result",
          "data": {
            "text/plain": [
              "5"
            ]
          },
          "metadata": {
            "tags": []
          },
          "execution_count": 100
        }
      ]
    },
    {
      "cell_type": "code",
      "metadata": {
        "id": "CG-DA_ICyA2B",
        "outputId": "453fe82a-731a-493b-e742-4e593f0d92e1",
        "colab": {
          "base_uri": "https://localhost:8080/",
          "height": 34
        }
      },
      "source": [
        "train_x = 1, 2, 3, 4\n",
        "train_x * 2"
      ],
      "execution_count": null,
      "outputs": [
        {
          "output_type": "execute_result",
          "data": {
            "text/plain": [
              "(1, 2, 3, 4, 1, 2, 3, 4)"
            ]
          },
          "metadata": {
            "tags": []
          },
          "execution_count": 101
        }
      ]
    },
    {
      "cell_type": "code",
      "metadata": {
        "id": "lgT6dIGTyA2F",
        "outputId": "80486a16-74f8-42e6-abc6-fed5513446a8",
        "colab": {
          "base_uri": "https://localhost:8080/",
          "height": 34
        }
      },
      "source": [
        "train_x"
      ],
      "execution_count": null,
      "outputs": [
        {
          "output_type": "execute_result",
          "data": {
            "text/plain": [
              "(1, 2, 3, 4)"
            ]
          },
          "metadata": {
            "tags": []
          },
          "execution_count": 102
        }
      ]
    },
    {
      "cell_type": "code",
      "metadata": {
        "id": "jGO8swqgyA2H",
        "outputId": "897ffb60-8d0c-4598-9136-3df914f03880",
        "colab": {
          "base_uri": "https://localhost:8080/",
          "height": 51
        }
      },
      "source": [
        "# Приклад створення нового tuple шляхом додання двух окремих\n",
        "tmp = (3, 4, 5, 6, 9)\n",
        "res = t1 + tmp\n",
        "print('Result: ' + str(res))\n",
        "print('Length: ' + str(len(res)))"
      ],
      "execution_count": null,
      "outputs": [
        {
          "output_type": "stream",
          "text": [
            "Result: (1, 2, 3, 3, 4, 5, 6, 9)\n",
            "Length: 8\n"
          ],
          "name": "stdout"
        }
      ]
    },
    {
      "cell_type": "code",
      "metadata": {
        "id": "9Yw7uulPyA2K"
      },
      "source": [
        "a, _, b, _, _ = tmp"
      ],
      "execution_count": null,
      "outputs": []
    },
    {
      "cell_type": "code",
      "metadata": {
        "id": "9vAAsnuGyA2M",
        "outputId": "a3a6ba76-ee65-45a2-f9a2-87106fbcff65",
        "colab": {
          "base_uri": "https://localhost:8080/",
          "height": 35
        }
      },
      "source": [
        "# Приклад \"розпакування\" tuple в окремі змінні\n",
        "#a, b, *_ = tmp  # _ використовується для ігнорування \"не потрібних\" значень\n",
        "\"a={}, b={}\".format(a, b)"
      ],
      "execution_count": null,
      "outputs": [
        {
          "output_type": "execute_result",
          "data": {
            "application/vnd.google.colaboratory.intrinsic+json": {
              "type": "string"
            },
            "text/plain": [
              "'a=3, b=5'"
            ]
          },
          "metadata": {
            "tags": []
          },
          "execution_count": 105
        }
      ]
    },
    {
      "cell_type": "code",
      "metadata": {
        "id": "MNdEJ7ExyA2O",
        "outputId": "a98d860e-60ed-4e95-837b-e5a2934cfffe",
        "colab": {
          "base_uri": "https://localhost:8080/",
          "height": 85
        }
      },
      "source": [
        "x = 0.5\n",
        "print(x.as_integer_ratio())\n",
        "numerator, denominator = x.as_integer_ratio()\n",
        "print('num = ' + str(numerator))\n",
        "print('den = {}'.format(denominator))\n",
        "print('num / den = ' + str(numerator / denominator))"
      ],
      "execution_count": null,
      "outputs": [
        {
          "output_type": "stream",
          "text": [
            "(1, 2)\n",
            "num = 1\n",
            "den = 2\n",
            "num / den = 0.5\n"
          ],
          "name": "stdout"
        }
      ]
    },
    {
      "cell_type": "code",
      "metadata": {
        "id": "InDQwcD6yA2Q",
        "outputId": "ee0df659-7a5b-4a7b-b5ff-264b1bcfe7df",
        "colab": {
          "base_uri": "https://localhost:8080/",
          "height": 51
        }
      },
      "source": [
        "# Демострація immutable\n",
        "try:\n",
        "    t1[0] = None\n",
        "except Exception as e:\n",
        "    print(\"Error on tuple modification: \"+ str(e))\n",
        "\n",
        "tuple(sorted(tmp, reverse=True))"
      ],
      "execution_count": null,
      "outputs": [
        {
          "output_type": "stream",
          "text": [
            "Error on tuple modification: 'tuple' object does not support item assignment\n"
          ],
          "name": "stdout"
        },
        {
          "output_type": "execute_result",
          "data": {
            "text/plain": [
              "(9, 6, 5, 4, 3)"
            ]
          },
          "metadata": {
            "tags": []
          },
          "execution_count": 107
        }
      ]
    },
    {
      "cell_type": "markdown",
      "metadata": {
        "id": "8r4fsK9VyA2S"
      },
      "source": [
        "## dict\n",
        "\n",
        "Структура даних, яка дозволяє зберігати дані в вигляді \"ключ-значення\".\n",
        "\n",
        "Важливо знати, що:\n",
        "- елементи словника зберігаються в невпорядкованому вигляді, тобто порядок додання елементів не зберігається (для цих цілей потрібно використовувати OrderedDict);\n",
        "- ключем може бути лише об'єкт, який immutable, тобто по ньому можна вирахувати hash, наприклад, list не може бути ключем.\n",
        "\n",
        "Офіційна документація - https://docs.python.org/3.6/library/stdtypes.html#mapping-types-dict"
      ]
    },
    {
      "cell_type": "code",
      "metadata": {
        "id": "N35pr5kXyA2T",
        "outputId": "bb904679-09ea-4c6e-da44-604b1539ae8f",
        "colab": {
          "base_uri": "https://localhost:8080/",
          "height": 85
        }
      },
      "source": [
        "# Приклади оголошення dict\n",
        "d1 = {}\n",
        "d2 = dict()\n",
        "d3 = dict((('a', 1), ('b', 2)))\n",
        "d4 = {\n",
        "    'a': [1,3,4,5], \n",
        "    'b': (2,3), \n",
        "    4: {5:{7:8}}, \n",
        "    None: 10,\n",
        "    (1,3): 7,\n",
        "    7.8: [],\n",
        "    True: (((5,())), 5)\n",
        "}\n",
        "\n",
        "print('d1 = ' + str(type(d1)))\n",
        "print('d2 = ' + str(type(d2)))\n",
        "print('d3 = ' + str(d3))\n",
        "print('d4 = ' + str(d4))"
      ],
      "execution_count": null,
      "outputs": [
        {
          "output_type": "stream",
          "text": [
            "d1 = <class 'dict'>\n",
            "d2 = <class 'dict'>\n",
            "d3 = {'a': 1, 'b': 2}\n",
            "d4 = {'a': [1, 3, 4, 5], 'b': (2, 3), 4: {5: {7: 8}}, None: 10, (1, 3): 7, 7.8: [], True: ((5, ()), 5)}\n"
          ],
          "name": "stdout"
        }
      ]
    },
    {
      "cell_type": "code",
      "metadata": {
        "id": "TABEzHbOTDXy",
        "outputId": "2b2b1202-1348-488d-d25c-77b534cbf1ff",
        "colab": {
          "base_uri": "https://localhost:8080/",
          "height": 34
        }
      },
      "source": [
        "data = {\n",
        "    'height': [184, 178, 167, 161, 188, 170],\n",
        "    'weight': [82, 71, 59, 61, 89, 77]\n",
        "}\n",
        "\n",
        "data"
      ],
      "execution_count": null,
      "outputs": [
        {
          "output_type": "execute_result",
          "data": {
            "text/plain": [
              "{'height': [184, 178, 167, 161, 188, 170], 'weight': [82, 71, 59, 61, 89, 77]}"
            ]
          },
          "metadata": {
            "tags": []
          },
          "execution_count": 112
        }
      ]
    },
    {
      "cell_type": "code",
      "metadata": {
        "id": "Y_Y19eS7TiUF",
        "outputId": "b5265a5f-0f70-49fa-9702-cefecbea840d",
        "colab": {
          "base_uri": "https://localhost:8080/",
          "height": 235
        }
      },
      "source": [
        "import pandas as pd\n",
        "\n",
        "df = pd.DataFrame(data)\n",
        "\n",
        "df.index = ['Roman', 'Sergiy', \"Sasha\", \"Inna\", \"Alex\", \"Vada\"]\n",
        "\n",
        "df\n",
        "\n",
        "df['weight_height_index'] = df['height'] / df['weight']\n",
        "\n",
        "df"
      ],
      "execution_count": null,
      "outputs": [
        {
          "output_type": "execute_result",
          "data": {
            "text/html": [
              "<div>\n",
              "<style scoped>\n",
              "    .dataframe tbody tr th:only-of-type {\n",
              "        vertical-align: middle;\n",
              "    }\n",
              "\n",
              "    .dataframe tbody tr th {\n",
              "        vertical-align: top;\n",
              "    }\n",
              "\n",
              "    .dataframe thead th {\n",
              "        text-align: right;\n",
              "    }\n",
              "</style>\n",
              "<table border=\"1\" class=\"dataframe\">\n",
              "  <thead>\n",
              "    <tr style=\"text-align: right;\">\n",
              "      <th></th>\n",
              "      <th>height</th>\n",
              "      <th>weight</th>\n",
              "      <th>weight_height_index</th>\n",
              "    </tr>\n",
              "  </thead>\n",
              "  <tbody>\n",
              "    <tr>\n",
              "      <th>Roman</th>\n",
              "      <td>184</td>\n",
              "      <td>82</td>\n",
              "      <td>2.243902</td>\n",
              "    </tr>\n",
              "    <tr>\n",
              "      <th>Sergiy</th>\n",
              "      <td>178</td>\n",
              "      <td>71</td>\n",
              "      <td>2.507042</td>\n",
              "    </tr>\n",
              "    <tr>\n",
              "      <th>Sasha</th>\n",
              "      <td>167</td>\n",
              "      <td>59</td>\n",
              "      <td>2.830508</td>\n",
              "    </tr>\n",
              "    <tr>\n",
              "      <th>Inna</th>\n",
              "      <td>161</td>\n",
              "      <td>61</td>\n",
              "      <td>2.639344</td>\n",
              "    </tr>\n",
              "    <tr>\n",
              "      <th>Alex</th>\n",
              "      <td>188</td>\n",
              "      <td>89</td>\n",
              "      <td>2.112360</td>\n",
              "    </tr>\n",
              "    <tr>\n",
              "      <th>Vada</th>\n",
              "      <td>170</td>\n",
              "      <td>77</td>\n",
              "      <td>2.207792</td>\n",
              "    </tr>\n",
              "  </tbody>\n",
              "</table>\n",
              "</div>"
            ],
            "text/plain": [
              "        height  weight  weight_height_index\n",
              "Roman      184      82             2.243902\n",
              "Sergiy     178      71             2.507042\n",
              "Sasha      167      59             2.830508\n",
              "Inna       161      61             2.639344\n",
              "Alex       188      89             2.112360\n",
              "Vada       170      77             2.207792"
            ]
          },
          "metadata": {
            "tags": []
          },
          "execution_count": 113
        }
      ]
    },
    {
      "cell_type": "code",
      "metadata": {
        "id": "U9AtHNSFU3MO",
        "outputId": "1a5442cb-9539-4d4f-835f-127abcbd8595",
        "colab": {
          "base_uri": "https://localhost:8080/",
          "height": 204
        }
      },
      "source": [
        "pd.DataFrame({\n",
        "    'x': 1,\n",
        "    'y': [1,2,3,4,5]\n",
        "})"
      ],
      "execution_count": null,
      "outputs": [
        {
          "output_type": "execute_result",
          "data": {
            "text/html": [
              "<div>\n",
              "<style scoped>\n",
              "    .dataframe tbody tr th:only-of-type {\n",
              "        vertical-align: middle;\n",
              "    }\n",
              "\n",
              "    .dataframe tbody tr th {\n",
              "        vertical-align: top;\n",
              "    }\n",
              "\n",
              "    .dataframe thead th {\n",
              "        text-align: right;\n",
              "    }\n",
              "</style>\n",
              "<table border=\"1\" class=\"dataframe\">\n",
              "  <thead>\n",
              "    <tr style=\"text-align: right;\">\n",
              "      <th></th>\n",
              "      <th>x</th>\n",
              "      <th>y</th>\n",
              "    </tr>\n",
              "  </thead>\n",
              "  <tbody>\n",
              "    <tr>\n",
              "      <th>0</th>\n",
              "      <td>1</td>\n",
              "      <td>1</td>\n",
              "    </tr>\n",
              "    <tr>\n",
              "      <th>1</th>\n",
              "      <td>1</td>\n",
              "      <td>2</td>\n",
              "    </tr>\n",
              "    <tr>\n",
              "      <th>2</th>\n",
              "      <td>1</td>\n",
              "      <td>3</td>\n",
              "    </tr>\n",
              "    <tr>\n",
              "      <th>3</th>\n",
              "      <td>1</td>\n",
              "      <td>4</td>\n",
              "    </tr>\n",
              "    <tr>\n",
              "      <th>4</th>\n",
              "      <td>1</td>\n",
              "      <td>5</td>\n",
              "    </tr>\n",
              "  </tbody>\n",
              "</table>\n",
              "</div>"
            ],
            "text/plain": [
              "   x  y\n",
              "0  1  1\n",
              "1  1  2\n",
              "2  1  3\n",
              "3  1  4\n",
              "4  1  5"
            ]
          },
          "metadata": {
            "tags": []
          },
          "execution_count": 114
        }
      ]
    },
    {
      "cell_type": "code",
      "metadata": {
        "id": "r-rgezUDyA2V",
        "outputId": "cd56316c-a3ab-4e78-8716-eca70529406a",
        "colab": {
          "base_uri": "https://localhost:8080/",
          "height": 142
        }
      },
      "source": [
        "df = pd.DataFrame({\n",
        "    'age': 20,\n",
        "    'type': 'yry',\n",
        "    (87, 89): [True, False, True]\n",
        "})\n",
        "\n",
        "df\n",
        "\n",
        "#np.sum(df['age'])"
      ],
      "execution_count": null,
      "outputs": [
        {
          "output_type": "execute_result",
          "data": {
            "text/html": [
              "<div>\n",
              "<style scoped>\n",
              "    .dataframe tbody tr th:only-of-type {\n",
              "        vertical-align: middle;\n",
              "    }\n",
              "\n",
              "    .dataframe tbody tr th {\n",
              "        vertical-align: top;\n",
              "    }\n",
              "\n",
              "    .dataframe thead th {\n",
              "        text-align: right;\n",
              "    }\n",
              "</style>\n",
              "<table border=\"1\" class=\"dataframe\">\n",
              "  <thead>\n",
              "    <tr style=\"text-align: right;\">\n",
              "      <th></th>\n",
              "      <th>age</th>\n",
              "      <th>type</th>\n",
              "      <th>(87, 89)</th>\n",
              "    </tr>\n",
              "  </thead>\n",
              "  <tbody>\n",
              "    <tr>\n",
              "      <th>0</th>\n",
              "      <td>20</td>\n",
              "      <td>yry</td>\n",
              "      <td>True</td>\n",
              "    </tr>\n",
              "    <tr>\n",
              "      <th>1</th>\n",
              "      <td>20</td>\n",
              "      <td>yry</td>\n",
              "      <td>False</td>\n",
              "    </tr>\n",
              "    <tr>\n",
              "      <th>2</th>\n",
              "      <td>20</td>\n",
              "      <td>yry</td>\n",
              "      <td>True</td>\n",
              "    </tr>\n",
              "  </tbody>\n",
              "</table>\n",
              "</div>"
            ],
            "text/plain": [
              "   age type  (87, 89)\n",
              "0   20  yry      True\n",
              "1   20  yry     False\n",
              "2   20  yry      True"
            ]
          },
          "metadata": {
            "tags": []
          },
          "execution_count": 115
        }
      ]
    },
    {
      "cell_type": "code",
      "metadata": {
        "id": "Ikd5esupyA2X",
        "outputId": "3349155c-22af-4960-bcba-d5d189206edb",
        "colab": {
          "base_uri": "https://localhost:8080/",
          "height": 68
        }
      },
      "source": [
        "# Приклад оголошення з використанням zip\n",
        "l1 = [1, 2, 4,6]\n",
        "l2 = [3, 4, 5,7]\n",
        "l3 = [6, 7, 8, 9]\n",
        "print(list(zip(l1, l2)))\n",
        "test = dict(zip(l1, l2))\n",
        "\n",
        "print(test)\n",
        "\n",
        "print(list(zip(l1, l2, l3)))"
      ],
      "execution_count": null,
      "outputs": [
        {
          "output_type": "stream",
          "text": [
            "[(1, 3), (2, 4), (4, 5), (6, 7)]\n",
            "{1: 3, 2: 4, 4: 5, 6: 7}\n",
            "[(1, 3, 6), (2, 4, 7), (4, 5, 8), (6, 7, 9)]\n"
          ],
          "name": "stdout"
        }
      ]
    },
    {
      "cell_type": "code",
      "metadata": {
        "id": "4Me4gPCfVoCb",
        "outputId": "53436389-50e1-4fe6-a513-433c7c8382b4",
        "colab": {
          "base_uri": "https://localhost:8080/",
          "height": 85
        }
      },
      "source": [
        "np.array(list(zip(l1, l2, l3)))"
      ],
      "execution_count": null,
      "outputs": [
        {
          "output_type": "execute_result",
          "data": {
            "text/plain": [
              "array([[1, 3, 6],\n",
              "       [2, 4, 7],\n",
              "       [4, 5, 8],\n",
              "       [6, 7, 9]])"
            ]
          },
          "metadata": {
            "tags": []
          },
          "execution_count": 119
        }
      ]
    },
    {
      "cell_type": "code",
      "metadata": {
        "id": "EKo6FbobyA2Z",
        "outputId": "c0cf7748-c1fb-43ce-9c1b-6cde17280ead",
        "colab": {
          "base_uri": "https://localhost:8080/",
          "height": 34
        }
      },
      "source": [
        "np.correlate(np.array(list(zip(l1, l2, l3)))[:,1], \n",
        "             np.array(list(zip(l1, l2, l3)))[:,2])"
      ],
      "execution_count": null,
      "outputs": [
        {
          "output_type": "execute_result",
          "data": {
            "text/plain": [
              "array([149])"
            ]
          },
          "metadata": {
            "tags": []
          },
          "execution_count": 120
        }
      ]
    },
    {
      "cell_type": "code",
      "metadata": {
        "id": "0Kh-B0JbyA2a",
        "outputId": "cb8e56de-4d5f-4ad9-83dc-7d9e96622097",
        "colab": {
          "base_uri": "https://localhost:8080/",
          "height": 136
        }
      },
      "source": [
        "f = np.array(list(zip(l1, l2, l3)))\n",
        "f, f[:, [0,2]]"
      ],
      "execution_count": null,
      "outputs": [
        {
          "output_type": "execute_result",
          "data": {
            "text/plain": [
              "(array([[1, 3, 6],\n",
              "        [2, 4, 7],\n",
              "        [4, 5, 8],\n",
              "        [6, 7, 9]]), array([[1, 6],\n",
              "        [2, 7],\n",
              "        [4, 8],\n",
              "        [6, 9]]))"
            ]
          },
          "metadata": {
            "tags": []
          },
          "execution_count": 121
        }
      ]
    },
    {
      "cell_type": "code",
      "metadata": {
        "id": "SIRLC73HyA2c",
        "outputId": "1aaba4e0-7d18-4cec-ab5c-c643b0d64400",
        "colab": {
          "base_uri": "https://localhost:8080/",
          "height": 34
        }
      },
      "source": [
        "# Приклад присвоєння нового значення по ключу\n",
        "d1['key'] = 'val'\n",
        "d1"
      ],
      "execution_count": null,
      "outputs": [
        {
          "output_type": "execute_result",
          "data": {
            "text/plain": [
              "{'key': 'val'}"
            ]
          },
          "metadata": {
            "tags": []
          },
          "execution_count": 123
        }
      ]
    },
    {
      "cell_type": "code",
      "metadata": {
        "id": "WYn9GwKbyA2e",
        "outputId": "a55e5acd-f549-4bed-fbaf-c8e77be03844",
        "colab": {
          "base_uri": "https://localhost:8080/",
          "height": 34
        }
      },
      "source": [
        "list(d1.values()), d1.keys()"
      ],
      "execution_count": null,
      "outputs": [
        {
          "output_type": "execute_result",
          "data": {
            "text/plain": [
              "(['val'], dict_keys(['key']))"
            ]
          },
          "metadata": {
            "tags": []
          },
          "execution_count": 124
        }
      ]
    },
    {
      "cell_type": "code",
      "metadata": {
        "id": "bZYn-NzhyA2f",
        "outputId": "01868e1a-63e0-444c-d27d-7ed8ce097065",
        "colab": {
          "base_uri": "https://localhost:8080/",
          "height": 51
        }
      },
      "source": [
        "# Приклад вибірки елементу словника по ключу з підстановкою\n",
        "# дефолтного значення, якщо ключ в словнику не знайдений\n",
        "# при використанні методу pop елемент зі словнику видаляється\n",
        "tmp = d4.pop(None, \"Такого ключа немає у словнику\")\n",
        "print(tmp)\n",
        "print(d4) # значення -100, так як ключа test в словнику немає"
      ],
      "execution_count": null,
      "outputs": [
        {
          "output_type": "stream",
          "text": [
            "10\n",
            "{'a': [1, 3, 4, 5], 'b': (2, 3), 4: {5: {7: 8}}, (1, 3): 7, 7.8: [], True: ((5, ()), 5)}\n"
          ],
          "name": "stdout"
        }
      ]
    },
    {
      "cell_type": "code",
      "metadata": {
        "id": "AGJeFjDEyA2k",
        "outputId": "816baa27-83db-48ac-81ef-fe6fd97d98b9",
        "colab": {
          "base_uri": "https://localhost:8080/",
          "height": 51
        }
      },
      "source": [
        "tmp = d4.pop('b', 2)\n",
        "print('pop \"b\" = ' + str(tmp))\n",
        "d4 # Елемент з ключем b видалений зі словника"
      ],
      "execution_count": null,
      "outputs": [
        {
          "output_type": "stream",
          "text": [
            "pop \"b\" = (2, 3)\n"
          ],
          "name": "stdout"
        },
        {
          "output_type": "execute_result",
          "data": {
            "text/plain": [
              "{(1, 3): 7, 4: {5: {7: 8}}, 7.8: [], True: ((5, ()), 5), 'a': [1, 3, 4, 5]}"
            ]
          },
          "metadata": {
            "tags": []
          },
          "execution_count": 126
        }
      ]
    },
    {
      "cell_type": "code",
      "metadata": {
        "id": "2TCvkrcYyA2l",
        "outputId": "252e1623-aa41-4bc1-e599-ad41b923279a",
        "colab": {
          "base_uri": "https://localhost:8080/",
          "height": 35
        }
      },
      "source": [
        "# Приклад вибірки значення по ключу з використанням методу get\n",
        "tmp = d3.get('aa', \"Такого ключа немає у словнику\")\n",
        "tmp"
      ],
      "execution_count": null,
      "outputs": [
        {
          "output_type": "execute_result",
          "data": {
            "application/vnd.google.colaboratory.intrinsic+json": {
              "type": "string"
            },
            "text/plain": [
              "'Такого ключа немає у словнику'"
            ]
          },
          "metadata": {
            "tags": []
          },
          "execution_count": 127
        }
      ]
    },
    {
      "cell_type": "code",
      "metadata": {
        "id": "cxeTyaH6yA2o",
        "outputId": "a5e45c61-5b8f-4d62-9c7f-5113d4cc5d33",
        "colab": {
          "base_uri": "https://localhost:8080/",
          "height": 51
        }
      },
      "source": [
        "# Приклад вибірки значення по ключу з використанням методу get і значенням по замовчуванню\n",
        "tmp = d4.get('b', 'nothing')\n",
        "print('get \"b\" = ' + str(tmp))\n",
        "print('d4 = ' + str(d4))"
      ],
      "execution_count": null,
      "outputs": [
        {
          "output_type": "stream",
          "text": [
            "get \"b\" = nothing\n",
            "d4 = {'a': [1, 3, 4, 5], 4: {5: {7: 8}}, (1, 3): 7, 7.8: [], True: ((5, ()), 5)}\n"
          ],
          "name": "stdout"
        }
      ]
    },
    {
      "cell_type": "code",
      "metadata": {
        "id": "qWpSVh-ayA2q",
        "outputId": "b38d0aeb-c545-4e0f-e0ac-6654eb0eee75",
        "colab": {
          "base_uri": "https://localhost:8080/",
          "height": 51
        }
      },
      "source": [
        "# Приклад вибірки всіх включів та значень\n",
        "print('d4 keys = ' + str(d4.keys()))\n",
        "print('d4 values = ' + str(d4.values()))"
      ],
      "execution_count": null,
      "outputs": [
        {
          "output_type": "stream",
          "text": [
            "d4 keys = dict_keys(['a', 4, (1, 3), 7.8, True])\n",
            "d4 values = dict_values([[1, 3, 4, 5], {5: {7: 8}}, 7, [], ((5, ()), 5)])\n"
          ],
          "name": "stdout"
        }
      ]
    },
    {
      "cell_type": "code",
      "metadata": {
        "id": "n6dNvKPrPUAf",
        "outputId": "697fb567-cb2d-4d9e-bb2e-b966a5103e5b",
        "colab": {
          "base_uri": "https://localhost:8080/",
          "height": 34
        }
      },
      "source": [
        "d4.items()"
      ],
      "execution_count": null,
      "outputs": [
        {
          "output_type": "execute_result",
          "data": {
            "text/plain": [
              "dict_items([('a', [1, 3, 4, 5]), (4, {5: {7: 8}}), ((1, 3), 7), (7.8, []), (True, ((5, ()), 5))])"
            ]
          },
          "metadata": {
            "tags": []
          },
          "execution_count": 130
        }
      ]
    },
    {
      "cell_type": "code",
      "metadata": {
        "id": "lNuY8ct9yA2r",
        "outputId": "9139da40-ff54-4b37-81d5-0b18254ef36f",
        "colab": {
          "base_uri": "https://localhost:8080/",
          "height": 102
        }
      },
      "source": [
        "# Приклад проходження по елементам в словнику через цикл for\n",
        "for k, v in d4.items():\n",
        "    print('{}-{}'.format(k, str(v)))"
      ],
      "execution_count": null,
      "outputs": [
        {
          "output_type": "stream",
          "text": [
            "a-[1, 3, 4, 5]\n",
            "4-{5: {7: 8}}\n",
            "(1, 3)-7\n",
            "7.8-[]\n",
            "True-((5, ()), 5)\n"
          ],
          "name": "stdout"
        }
      ]
    },
    {
      "cell_type": "code",
      "metadata": {
        "id": "pX-o7uXxyA2t",
        "outputId": "40165ed4-49c7-4645-fb3d-9b998cf29523",
        "colab": {
          "base_uri": "https://localhost:8080/",
          "height": 102
        }
      },
      "source": [
        "list(d4.items())"
      ],
      "execution_count": null,
      "outputs": [
        {
          "output_type": "execute_result",
          "data": {
            "text/plain": [
              "[('a', [1, 3, 4, 5]),\n",
              " (4, {5: {7: 8}}),\n",
              " ((1, 3), 7),\n",
              " (7.8, []),\n",
              " (True, ((5, ()), 5))]"
            ]
          },
          "metadata": {
            "tags": []
          },
          "execution_count": 132
        }
      ]
    },
    {
      "cell_type": "code",
      "metadata": {
        "id": "iw78DXCByA2v",
        "outputId": "7b2e76c3-80d5-4f5c-ed38-0cd6375385ba",
        "colab": {
          "base_uri": "https://localhost:8080/",
          "height": 198
        }
      },
      "source": [
        "# Приклад видалення елементу зі словника з використанням команди del\n",
        "del d4[None]\n",
        "d4"
      ],
      "execution_count": null,
      "outputs": [
        {
          "output_type": "error",
          "ename": "KeyError",
          "evalue": "ignored",
          "traceback": [
            "\u001b[0;31m---------------------------------------------------------------------------\u001b[0m",
            "\u001b[0;31mKeyError\u001b[0m                                  Traceback (most recent call last)",
            "\u001b[0;32m<ipython-input-133-be51f966430e>\u001b[0m in \u001b[0;36m<module>\u001b[0;34m()\u001b[0m\n\u001b[1;32m      1\u001b[0m \u001b[0;31m# Приклад видалення елементу зі словника з використанням команди del\u001b[0m\u001b[0;34m\u001b[0m\u001b[0;34m\u001b[0m\u001b[0;34m\u001b[0m\u001b[0m\n\u001b[0;32m----> 2\u001b[0;31m \u001b[0;32mdel\u001b[0m \u001b[0md4\u001b[0m\u001b[0;34m[\u001b[0m\u001b[0;32mNone\u001b[0m\u001b[0;34m]\u001b[0m\u001b[0;34m\u001b[0m\u001b[0;34m\u001b[0m\u001b[0m\n\u001b[0m\u001b[1;32m      3\u001b[0m \u001b[0md4\u001b[0m\u001b[0;34m\u001b[0m\u001b[0;34m\u001b[0m\u001b[0m\n",
            "\u001b[0;31mKeyError\u001b[0m: None"
          ]
        }
      ]
    },
    {
      "cell_type": "code",
      "metadata": {
        "id": "TzkdoRSlyA2w",
        "outputId": "f79e1de9-35ed-4b0c-895f-4fea0e09b89f",
        "colab": {
          "base_uri": "https://localhost:8080/",
          "height": 142
        }
      },
      "source": [
        "del df['type']\n",
        "\n",
        "df"
      ],
      "execution_count": null,
      "outputs": [
        {
          "output_type": "execute_result",
          "data": {
            "text/html": [
              "<div>\n",
              "<style scoped>\n",
              "    .dataframe tbody tr th:only-of-type {\n",
              "        vertical-align: middle;\n",
              "    }\n",
              "\n",
              "    .dataframe tbody tr th {\n",
              "        vertical-align: top;\n",
              "    }\n",
              "\n",
              "    .dataframe thead th {\n",
              "        text-align: right;\n",
              "    }\n",
              "</style>\n",
              "<table border=\"1\" class=\"dataframe\">\n",
              "  <thead>\n",
              "    <tr style=\"text-align: right;\">\n",
              "      <th></th>\n",
              "      <th>age</th>\n",
              "      <th>(87, 89)</th>\n",
              "    </tr>\n",
              "  </thead>\n",
              "  <tbody>\n",
              "    <tr>\n",
              "      <th>0</th>\n",
              "      <td>20</td>\n",
              "      <td>True</td>\n",
              "    </tr>\n",
              "    <tr>\n",
              "      <th>1</th>\n",
              "      <td>20</td>\n",
              "      <td>False</td>\n",
              "    </tr>\n",
              "    <tr>\n",
              "      <th>2</th>\n",
              "      <td>20</td>\n",
              "      <td>True</td>\n",
              "    </tr>\n",
              "  </tbody>\n",
              "</table>\n",
              "</div>"
            ],
            "text/plain": [
              "   age  (87, 89)\n",
              "0   20      True\n",
              "1   20     False\n",
              "2   20      True"
            ]
          },
          "metadata": {
            "tags": []
          },
          "execution_count": 134
        }
      ]
    },
    {
      "cell_type": "code",
      "metadata": {
        "id": "DDNqVSLfyA2z",
        "outputId": "cdc8e593-6ec0-428c-9072-e17c10dbea95",
        "colab": {
          "base_uri": "https://localhost:8080/",
          "height": 51
        }
      },
      "source": [
        "# Приклад помилки звернення по ключу\n",
        "val = d1.get('val')\n",
        "if val is None:\n",
        "    print('here')\n",
        "\n",
        "try:\n",
        "    print(d1['val'])\n",
        "except Exception as e:\n",
        "    print('Error on get invalid key: ' + str(type(e)))"
      ],
      "execution_count": null,
      "outputs": [
        {
          "output_type": "stream",
          "text": [
            "here\n",
            "Error on get invalid key: <class 'KeyError'>\n"
          ],
          "name": "stdout"
        }
      ]
    },
    {
      "cell_type": "markdown",
      "metadata": {
        "id": "Z1P7QwKlyA21"
      },
      "source": [
        "## set\n",
        "\n",
        "Структура даних, яка дає можливість зберігати та працювати з невпорядкованим, унікальним набором елементів.\n",
        "\n",
        "Набільш корисний функціонал - це виконання операцій union, intersection, difference, symmetric difference.\n",
        "\n",
        "Офіційна документація - https://docs.python.org/3/library/stdtypes.html#set"
      ]
    },
    {
      "cell_type": "code",
      "metadata": {
        "scrolled": true,
        "id": "H1eIkjRCyA21",
        "outputId": "02ea9802-d76c-4886-99e8-eaa219ee4bb6",
        "colab": {
          "base_uri": "https://localhost:8080/",
          "height": 85
        }
      },
      "source": [
        "# Приклади оголошення set\n",
        "\n",
        "s1 = {0, 5, 3, -1, -3, 0}\n",
        "s2 = set()\n",
        "s3 = {}\n",
        "s4 = {10, 23, 54, -100, 287, -39, 0}\n",
        "type(s3)\n",
        "print('s1 = ' + str(s1))\n",
        "print('s2 = ' + str(s2))\n",
        "print('s3 = ' + str(s3))\n",
        "print('s4 = ' + str(s4))"
      ],
      "execution_count": null,
      "outputs": [
        {
          "output_type": "stream",
          "text": [
            "s1 = {0, 3, 5, -3, -1}\n",
            "s2 = set()\n",
            "s3 = {}\n",
            "s4 = {0, 10, 54, 23, -39, -100, 287}\n"
          ],
          "name": "stdout"
        }
      ]
    },
    {
      "cell_type": "code",
      "metadata": {
        "id": "xKqEDlYEyA23",
        "outputId": "132e92e1-2a7a-41ae-bb66-3e594130c40d",
        "colab": {
          "base_uri": "https://localhost:8080/",
          "height": 34
        }
      },
      "source": [
        "np.array(list(set(np.array([1,2,23,4,5,2,1,1,4,67]))))"
      ],
      "execution_count": null,
      "outputs": [
        {
          "output_type": "execute_result",
          "data": {
            "text/plain": [
              "array([ 1,  2, 67,  4,  5, 23])"
            ]
          },
          "metadata": {
            "tags": []
          },
          "execution_count": 243
        }
      ]
    },
    {
      "cell_type": "markdown",
      "metadata": {
        "id": "6jAQgxS7yA26"
      },
      "source": [
        "### Використання операцій над `set` через оператори"
      ]
    },
    {
      "cell_type": "code",
      "metadata": {
        "id": "DXTTjAFoyA27",
        "outputId": "eb92fa83-9dad-42fd-e7a2-c765b7b6b5c1",
        "colab": {
          "base_uri": "https://localhost:8080/",
          "height": 68
        }
      },
      "source": [
        "print('s1 = ' + str(s1))\n",
        "print('s4 = ' + str(s4))\n",
        "s1 | s4  # union"
      ],
      "execution_count": null,
      "outputs": [
        {
          "output_type": "stream",
          "text": [
            "s1 = {0, 3, 5, -3, -1}\n",
            "s4 = {0, 10, 54, 23, -39, -100, 287}\n"
          ],
          "name": "stdout"
        },
        {
          "output_type": "execute_result",
          "data": {
            "text/plain": [
              "{-100, -39, -3, -1, 0, 3, 5, 10, 23, 54, 287}"
            ]
          },
          "metadata": {
            "tags": []
          },
          "execution_count": 137
        }
      ]
    },
    {
      "cell_type": "code",
      "metadata": {
        "id": "jB-u_n9kyA28",
        "outputId": "282f4ff2-fc2e-4323-b1f7-2f6209319182",
        "colab": {
          "base_uri": "https://localhost:8080/",
          "height": 68
        }
      },
      "source": [
        "print('s1 = ' + str(s1))\n",
        "print('s4 = ' + str(s4))\n",
        "s1 & s4  # intersection"
      ],
      "execution_count": null,
      "outputs": [
        {
          "output_type": "stream",
          "text": [
            "s1 = {0, 3, 5, -3, -1}\n",
            "s4 = {0, 10, 54, 23, -39, -100, 287}\n"
          ],
          "name": "stdout"
        },
        {
          "output_type": "execute_result",
          "data": {
            "text/plain": [
              "{0}"
            ]
          },
          "metadata": {
            "tags": []
          },
          "execution_count": 138
        }
      ]
    },
    {
      "cell_type": "code",
      "metadata": {
        "id": "2jabcnpyyA2-",
        "outputId": "305bbe48-b02b-430d-dfa9-e709d555553d",
        "colab": {
          "base_uri": "https://localhost:8080/",
          "height": 68
        }
      },
      "source": [
        "print('s1 = ' + str(s1))\n",
        "print('s4 = ' + str(s4))\n",
        "s1 - s4  # difference"
      ],
      "execution_count": null,
      "outputs": [
        {
          "output_type": "stream",
          "text": [
            "s1 = {0, 3, 5, -3, -1}\n",
            "s4 = {0, 10, 54, 23, -39, -100, 287}\n"
          ],
          "name": "stdout"
        },
        {
          "output_type": "execute_result",
          "data": {
            "text/plain": [
              "{-3, -1, 3, 5}"
            ]
          },
          "metadata": {
            "tags": []
          },
          "execution_count": 139
        }
      ]
    },
    {
      "cell_type": "code",
      "metadata": {
        "id": "6bBidupNyA3A",
        "outputId": "9db39ddd-6abe-4aa2-8a95-9d2a9f4e1fe9",
        "colab": {
          "base_uri": "https://localhost:8080/",
          "height": 68
        }
      },
      "source": [
        "print('s1 = ' + str(s1))\n",
        "print('s4 = ' + str(s4))\n",
        "s1 ^ s4  # symmetric difference"
      ],
      "execution_count": null,
      "outputs": [
        {
          "output_type": "stream",
          "text": [
            "s1 = {0, 3, 5, -3, -1}\n",
            "s4 = {0, 10, 54, 23, -39, -100, 287}\n"
          ],
          "name": "stdout"
        },
        {
          "output_type": "execute_result",
          "data": {
            "text/plain": [
              "{-100, -39, -3, -1, 3, 5, 10, 23, 54, 287}"
            ]
          },
          "metadata": {
            "tags": []
          },
          "execution_count": 140
        }
      ]
    },
    {
      "cell_type": "markdown",
      "metadata": {
        "id": "ctuxYmt3yA3C"
      },
      "source": [
        "### Використання операцій над `set` через вбудовані методи"
      ]
    },
    {
      "cell_type": "code",
      "metadata": {
        "id": "JRGQjYmryA3D",
        "outputId": "91295f4a-6337-4d1b-e256-8285361f52e2",
        "colab": {
          "base_uri": "https://localhost:8080/",
          "height": 68
        }
      },
      "source": [
        "print('s1 = ' + str(s1))\n",
        "print('s4 = ' + str(s4))\n",
        "s1.union(s4)  # unio"
      ],
      "execution_count": null,
      "outputs": [
        {
          "output_type": "stream",
          "text": [
            "s1 = {0, 3, 5, -3, -1}\n",
            "s4 = {0, 10, 54, 23, -39, -100, 287}\n"
          ],
          "name": "stdout"
        },
        {
          "output_type": "execute_result",
          "data": {
            "text/plain": [
              "{-100, -39, -3, -1, 0, 3, 5, 10, 23, 54, 287}"
            ]
          },
          "metadata": {
            "tags": []
          },
          "execution_count": 141
        }
      ]
    },
    {
      "cell_type": "code",
      "metadata": {
        "id": "W9vxeRJ5yA3F",
        "outputId": "c81a84c8-b58f-4220-d619-d69f35f5ac2b",
        "colab": {
          "base_uri": "https://localhost:8080/",
          "height": 68
        }
      },
      "source": [
        "print('s1 = ' + str(s1))\n",
        "print('s4 = ' + str(s4))\n",
        "s1.intersection(s4)  # intersection"
      ],
      "execution_count": null,
      "outputs": [
        {
          "output_type": "stream",
          "text": [
            "s1 = {0, 3, 5, -3, -1}\n",
            "s4 = {0, 10, 54, 23, -39, -100, 287}\n"
          ],
          "name": "stdout"
        },
        {
          "output_type": "execute_result",
          "data": {
            "text/plain": [
              "{0}"
            ]
          },
          "metadata": {
            "tags": []
          },
          "execution_count": 142
        }
      ]
    },
    {
      "cell_type": "code",
      "metadata": {
        "id": "f4_XBM0byA3H",
        "outputId": "9047cc48-01be-4abe-81d5-65e687d144e7",
        "colab": {
          "base_uri": "https://localhost:8080/",
          "height": 68
        }
      },
      "source": [
        "print('s1 = ' + str(s1))\n",
        "print('s4 = ' + str(s4))\n",
        "s1.difference(s4)  # difference"
      ],
      "execution_count": null,
      "outputs": [
        {
          "output_type": "stream",
          "text": [
            "s1 = {0, 3, 5, -3, -1}\n",
            "s4 = {0, 10, 54, 23, -39, -100, 287}\n"
          ],
          "name": "stdout"
        },
        {
          "output_type": "execute_result",
          "data": {
            "text/plain": [
              "{-3, -1, 3, 5}"
            ]
          },
          "metadata": {
            "tags": []
          },
          "execution_count": 143
        }
      ]
    },
    {
      "cell_type": "code",
      "metadata": {
        "id": "PhssmWiGyA3K",
        "outputId": "482a4236-5a52-4c60-d1fc-77fc3c5dc097",
        "colab": {
          "base_uri": "https://localhost:8080/",
          "height": 68
        }
      },
      "source": [
        "print('s1 = ' + str(s1))\n",
        "print('s4 = ' + str(s4))\n",
        "s1.symmetric_difference(s4)  # symmetric difference"
      ],
      "execution_count": null,
      "outputs": [
        {
          "output_type": "stream",
          "text": [
            "s1 = {0, 3, 5, -3, -1}\n",
            "s4 = {0, 10, 54, 23, -39, -100, 287}\n"
          ],
          "name": "stdout"
        },
        {
          "output_type": "execute_result",
          "data": {
            "text/plain": [
              "{-100, -39, -3, -1, 3, 5, 10, 23, 54, 287}"
            ]
          },
          "metadata": {
            "tags": []
          },
          "execution_count": 144
        }
      ]
    },
    {
      "cell_type": "markdown",
      "metadata": {
        "id": "IFgg23NByA3M"
      },
      "source": [
        "# Оператори управління потоком\n",
        "\n",
        "## Конструкції умов: if, elif, else\n",
        "\n",
        "Конструкції умов, які ще називають `if-then`, дають можливість виконувати окремі блоки кода, в залежності від певної Boolean умови.\n",
        "\n",
        "Також існує тернарний оператор `x1 if b1 else x2`, який зазвичай використовується при ініцілазації змінних."
      ]
    },
    {
      "cell_type": "code",
      "metadata": {
        "id": "PTdlPlIjX9oX",
        "outputId": "5cb13ab7-03a1-4b6d-945d-cc796bcb5c33",
        "colab": {
          "base_uri": "https://localhost:8080/",
          "height": 34
        }
      },
      "source": [
        "print(\"10 > 50\") if result else print('10 < 50')"
      ],
      "execution_count": null,
      "outputs": [
        {
          "output_type": "stream",
          "text": [
            "10 > 50\n"
          ],
          "name": "stdout"
        }
      ]
    },
    {
      "cell_type": "code",
      "metadata": {
        "id": "Bzi6F8IvyA3M",
        "outputId": "d010d520-1fc4-4562-e671-7aa7a9fd40e0",
        "colab": {
          "base_uri": "https://localhost:8080/",
          "height": 68
        }
      },
      "source": [
        "# Приклад використання if\n",
        "result = 10 > 50\n",
        "\n",
        "if result:\n",
        "    print('10 > 50')\n",
        "else:\n",
        "    print('10 < 50')\n",
        "\n",
        "# Приклад використання if-elif-else\n",
        "a = 10\n",
        "b = 50\n",
        "if a > b:\n",
        "    print('a > b')\n",
        "elif a == b:\n",
        "    print('a == b')\n",
        "else:\n",
        "    print(\"a ? b = ???\")\n",
        "\n",
        "l1 = [1, 2, 3]\n",
        "l2 = [1, 2, 3]\n",
        "l3 = l2\n",
        "\n",
        "print(l2 is l3)"
      ],
      "execution_count": null,
      "outputs": [
        {
          "output_type": "stream",
          "text": [
            "10 < 50\n",
            "a ? b = ???\n",
            "True\n"
          ],
          "name": "stdout"
        }
      ]
    },
    {
      "cell_type": "code",
      "metadata": {
        "id": "Jlaf7KURyA3N",
        "outputId": "140ef87c-6a1e-48da-ccad-fae913bbeb51",
        "colab": {
          "base_uri": "https://localhost:8080/",
          "height": 34
        }
      },
      "source": [
        "# Приклад використання тернарного оператора\n",
        "a = 10\n",
        "b = 50\n",
        "c = a if a > b else b\n",
        "print('C = ' + str(c))\n",
        "\n",
        "def func(a=None):\n",
        "    aa = a if a is not None else 10"
      ],
      "execution_count": null,
      "outputs": [
        {
          "output_type": "stream",
          "text": [
            "C = 50\n"
          ],
          "name": "stdout"
        }
      ]
    },
    {
      "cell_type": "code",
      "metadata": {
        "id": "7-dzVocpyA3P",
        "outputId": "1ed63464-df90-4cf3-e1c7-b4e184c9c400"
      },
      "source": [
        "?np.array"
      ],
      "execution_count": null,
      "outputs": [
        {
          "output_type": "display_data",
          "data": {
            "text/plain": [
              "\u001b[0;31mDocstring:\u001b[0m\n",
              "array(object, dtype=None, copy=True, order='K', subok=False, ndmin=0)\n",
              "\n",
              "Create an array.\n",
              "\n",
              "Parameters\n",
              "----------\n",
              "object : array_like\n",
              "    An array, any object exposing the array interface, an object whose\n",
              "    __array__ method returns an array, or any (nested) sequence.\n",
              "dtype : data-type, optional\n",
              "    The desired data-type for the array.  If not given, then the type will\n",
              "    be determined as the minimum type required to hold the objects in the\n",
              "    sequence.  This argument can only be used to 'upcast' the array.  For\n",
              "    downcasting, use the .astype(t) method.\n",
              "copy : bool, optional\n",
              "    If true (default), then the object is copied.  Otherwise, a copy will\n",
              "    only be made if __array__ returns a copy, if obj is a nested sequence,\n",
              "    or if a copy is needed to satisfy any of the other requirements\n",
              "    (`dtype`, `order`, etc.).\n",
              "order : {'K', 'A', 'C', 'F'}, optional\n",
              "    Specify the memory layout of the array. If object is not an array, the\n",
              "    newly created array will be in C order (row major) unless 'F' is\n",
              "    specified, in which case it will be in Fortran order (column major).\n",
              "    If object is an array the following holds.\n",
              "\n",
              "    ===== ========= ===================================================\n",
              "    order  no copy                     copy=True\n",
              "    ===== ========= ===================================================\n",
              "    'K'   unchanged F & C order preserved, otherwise most similar order\n",
              "    'A'   unchanged F order if input is F and not C, otherwise C order\n",
              "    'C'   C order   C order\n",
              "    'F'   F order   F order\n",
              "    ===== ========= ===================================================\n",
              "\n",
              "    When ``copy=False`` and a copy is made for other reasons, the result is\n",
              "    the same as if ``copy=True``, with some exceptions for `A`, see the\n",
              "    Notes section. The default order is 'K'.\n",
              "subok : bool, optional\n",
              "    If True, then sub-classes will be passed-through, otherwise\n",
              "    the returned array will be forced to be a base-class array (default).\n",
              "ndmin : int, optional\n",
              "    Specifies the minimum number of dimensions that the resulting\n",
              "    array should have.  Ones will be pre-pended to the shape as\n",
              "    needed to meet this requirement.\n",
              "\n",
              "Returns\n",
              "-------\n",
              "out : ndarray\n",
              "    An array object satisfying the specified requirements.\n",
              "\n",
              "See Also\n",
              "--------\n",
              "empty_like : Return an empty array with shape and type of input.\n",
              "ones_like : Return an array of ones with shape and type of input.\n",
              "zeros_like : Return an array of zeros with shape and type of input.\n",
              "full_like : Return a new array with shape of input filled with value.\n",
              "empty : Return a new uninitialized array.\n",
              "ones : Return a new array setting values to one.\n",
              "zeros : Return a new array setting values to zero.\n",
              "full : Return a new array of given shape filled with value.\n",
              "\n",
              "\n",
              "Notes\n",
              "-----\n",
              "When order is 'A' and `object` is an array in neither 'C' nor 'F' order,\n",
              "and a copy is forced by a change in dtype, then the order of the result is\n",
              "not necessarily 'C' as expected. This is likely a bug.\n",
              "\n",
              "Examples\n",
              "--------\n",
              ">>> np.array([1, 2, 3])\n",
              "array([1, 2, 3])\n",
              "\n",
              "Upcasting:\n",
              "\n",
              ">>> np.array([1, 2, 3.0])\n",
              "array([ 1.,  2.,  3.])\n",
              "\n",
              "More than one dimension:\n",
              "\n",
              ">>> np.array([[1, 2], [3, 4]])\n",
              "array([[1, 2],\n",
              "       [3, 4]])\n",
              "\n",
              "Minimum dimensions 2:\n",
              "\n",
              ">>> np.array([1, 2, 3], ndmin=2)\n",
              "array([[1, 2, 3]])\n",
              "\n",
              "Type provided:\n",
              "\n",
              ">>> np.array([1, 2, 3], dtype=complex)\n",
              "array([ 1.+0.j,  2.+0.j,  3.+0.j])\n",
              "\n",
              "Data-type consisting of more than one element:\n",
              "\n",
              ">>> x = np.array([(1,2),(3,4)],dtype=[('a','<i4'),('b','<i4')])\n",
              ">>> x['a']\n",
              "array([1, 3])\n",
              "\n",
              "Creating an array from sub-classes:\n",
              "\n",
              ">>> np.array(np.mat('1 2; 3 4'))\n",
              "array([[1, 2],\n",
              "       [3, 4]])\n",
              "\n",
              ">>> np.array(np.mat('1 2; 3 4'), subok=True)\n",
              "matrix([[1, 2],\n",
              "        [3, 4]])\n",
              "\u001b[0;31mType:\u001b[0m      builtin_function_or_method\n"
            ]
          },
          "metadata": {
            "tags": []
          }
        }
      ]
    },
    {
      "cell_type": "markdown",
      "metadata": {
        "id": "RZklL7iayA3Q"
      },
      "source": [
        "## Цикли: for, while\n",
        "\n",
        "В Python цикли представлені `for` та `while`.\n",
        "\n",
        "Цикли можна робити вкладеними, але це може негативно вплинути на швидкість роботи програми (особливо з надзвичайно великими масивами даних), читаємість коду.\n",
        "\n",
        "Для роботи з циклами використовуються команди:\n",
        "- `continue`: пропустити і перейти до наступної ітерації\n",
        "- `break`: перервати виконання циклу"
      ]
    },
    {
      "cell_type": "code",
      "metadata": {
        "id": "C8j9iigDyA3Q",
        "outputId": "7b9211c4-b95a-4ff2-8fe0-1dca3ecad49b",
        "colab": {
          "base_uri": "https://localhost:8080/",
          "height": 34
        }
      },
      "source": [
        "# Приклад створення списку з 10 перших чисел\n",
        "tmp = []\n",
        "for i in range(21, 30, 1): \n",
        "    u = i+8\n",
        "    tmp.append(u**2)\n",
        "tmp"
      ],
      "execution_count": null,
      "outputs": [
        {
          "output_type": "execute_result",
          "data": {
            "text/plain": [
              "[841, 900, 961, 1024, 1089, 1156, 1225, 1296, 1369]"
            ]
          },
          "metadata": {
            "tags": []
          },
          "execution_count": 148
        }
      ]
    },
    {
      "cell_type": "code",
      "metadata": {
        "id": "XPSLg-ZHyA3S",
        "outputId": "16d031af-356f-4afd-ff2f-e7443031c989",
        "colab": {
          "base_uri": "https://localhost:8080/",
          "height": 714
        }
      },
      "source": [
        "# Приклад використання while\n",
        "a = 10\n",
        "b = 50\n",
        "\n",
        "while a < b:\n",
        "    print(a)\n",
        "    a += 1\n",
        "a"
      ],
      "execution_count": null,
      "outputs": [
        {
          "output_type": "stream",
          "text": [
            "10\n",
            "11\n",
            "12\n",
            "13\n",
            "14\n",
            "15\n",
            "16\n",
            "17\n",
            "18\n",
            "19\n",
            "20\n",
            "21\n",
            "22\n",
            "23\n",
            "24\n",
            "25\n",
            "26\n",
            "27\n",
            "28\n",
            "29\n",
            "30\n",
            "31\n",
            "32\n",
            "33\n",
            "34\n",
            "35\n",
            "36\n",
            "37\n",
            "38\n",
            "39\n",
            "40\n",
            "41\n",
            "42\n",
            "43\n",
            "44\n",
            "45\n",
            "46\n",
            "47\n",
            "48\n",
            "49\n"
          ],
          "name": "stdout"
        },
        {
          "output_type": "execute_result",
          "data": {
            "text/plain": [
              "50"
            ]
          },
          "metadata": {
            "tags": []
          },
          "execution_count": 149
        }
      ]
    },
    {
      "cell_type": "code",
      "metadata": {
        "id": "V7_WbhWTZ2mo"
      },
      "source": [
        "tmp.extend([4, 88, 13, 99])"
      ],
      "execution_count": null,
      "outputs": []
    },
    {
      "cell_type": "code",
      "metadata": {
        "id": "lqWprm-WyA3T",
        "outputId": "24baa7f1-bd8c-446b-a929-a6946ce6f347",
        "colab": {
          "base_uri": "https://localhost:8080/",
          "height": 34
        }
      },
      "source": [
        "# Приклад використання continue\n",
        "# якщо значення елементу списку 4 або 7, то їх обробка не проводиться,\n",
        "# але при цьому виконання циклу не завершується.\n",
        "res = [[], []]\n",
        "for val in tmp:\n",
        "    if val in [4, 7]: # val >= 4 and val <= 7; 4 <= val <= 7\n",
        "        continue\n",
        "        #break\n",
        "    if not bool(val % 2):  # приклад роботи з bool на основі int: якщо остача 0, то False, будь-яке інше значення - True\n",
        "        res[0].append(val)\n",
        "    else:\n",
        "        res[1].append(val)\n",
        "    \n",
        "res"
      ],
      "execution_count": null,
      "outputs": [
        {
          "output_type": "execute_result",
          "data": {
            "text/plain": [
              "[[900, 1024, 1156, 1296], [841, 961, 1089, 1225, 1369]]"
            ]
          },
          "metadata": {
            "tags": []
          },
          "execution_count": 262
        }
      ]
    },
    {
      "cell_type": "code",
      "metadata": {
        "id": "IXbxv2M3yA3V",
        "outputId": "f5b093f5-b0b1-4483-d0b7-22b67823c7bb",
        "colab": {
          "base_uri": "https://localhost:8080/",
          "height": 34
        }
      },
      "source": [
        "# Приклад використання break\n",
        "# якщо значення елементу списку більше 5, то цикл завершується і\n",
        "# подальша обробака наступних елементів не виконується\n",
        "res = [[], []]\n",
        "for val in tmp:\n",
        "    if val > 5:\n",
        "        break\n",
        "    if not bool(val % 2):\n",
        "        res[0].append(val)\n",
        "    else:\n",
        "        res[1].append(val)\n",
        "    \n",
        "res"
      ],
      "execution_count": null,
      "outputs": [
        {
          "output_type": "execute_result",
          "data": {
            "text/plain": [
              "[[], []]"
            ]
          },
          "metadata": {
            "tags": []
          },
          "execution_count": 263
        }
      ]
    },
    {
      "cell_type": "markdown",
      "metadata": {
        "id": "MAY7M1RyyA3W"
      },
      "source": [
        "# Практичні завдання"
      ]
    },
    {
      "cell_type": "markdown",
      "metadata": {
        "id": "boB7pr9_yA3X"
      },
      "source": [
        "## Завдання 1\n",
        "\n",
        "Створити список з 10 елементів типу `int` від 1 до 10.\n",
        "\n",
        "Знайти:\n",
        "- суму всіх чисел\n",
        "- добуток всіх чисел\n",
        "- добуток тільки парних чисел\n",
        "- сформувати новий список, кожний елемент якого це квадрат числа кожного елементу з вихідного списку\n",
        "\n",
        "Результати роботи записувати в змінну `result` типу `dict`, де ключ - це номер завдання, а значення - результат"
      ]
    },
    {
      "cell_type": "code",
      "metadata": {
        "id": "7nj9Sy3IyA3X",
        "outputId": "775711aa-3a23-4ef5-d31a-53ab9443cd92"
      },
      "source": [
        "in_list = list(range(1, 11))\n",
        "result = dict()\n",
        "\n",
        "# task 1\n",
        "tmp = 0\n",
        "for val in in_list:\n",
        "    tmp += val\n",
        "\n",
        "result[1] = tmp\n",
        "result"
      ],
      "execution_count": null,
      "outputs": [
        {
          "output_type": "execute_result",
          "data": {
            "text/plain": [
              "{1: 55}"
            ]
          },
          "metadata": {
            "tags": []
          },
          "execution_count": 62
        }
      ]
    },
    {
      "cell_type": "code",
      "metadata": {
        "id": "VTfEcnrQyA3Z",
        "outputId": "1004522d-cc63-4bfa-c636-fcb40dcb298e"
      },
      "source": [
        "# task 2\n",
        "tmp = 1\n",
        "for val in in_list:\n",
        "    tmp *= val\n",
        "\n",
        "result[2] = tmp\n",
        "result"
      ],
      "execution_count": null,
      "outputs": [
        {
          "output_type": "execute_result",
          "data": {
            "text/plain": [
              "{1: 55, 2: 3628800}"
            ]
          },
          "metadata": {
            "tags": []
          },
          "execution_count": 63
        }
      ]
    },
    {
      "cell_type": "code",
      "metadata": {
        "id": "qeO9IAgsyA3a"
      },
      "source": [
        "# task 3\n",
        "tmp = 1\n",
        "for val in in_list:\n",
        "    tmp *= val if not val % 2 else 1\n",
        "\n",
        "result[3] = tmp"
      ],
      "execution_count": null,
      "outputs": []
    },
    {
      "cell_type": "code",
      "metadata": {
        "id": "MLlpbzxnyA3d",
        "outputId": "72695e6e-af9e-4363-e196-3f0cc0574a50"
      },
      "source": [
        "# task 4\n",
        "tmp = []\n",
        "i = 0\n",
        "while True:\n",
        "    val = in_list[i]\n",
        "    tmp.append(val ** 2)\n",
        "    \n",
        "    i += 1\n",
        "    if i >= len(in_list):\n",
        "        break\n",
        "\n",
        "result[4] = tmp\n",
        "result"
      ],
      "execution_count": null,
      "outputs": [
        {
          "output_type": "execute_result",
          "data": {
            "text/plain": [
              "{1: 55, 2: 3628800, 3: 3840, 4: [1, 4, 9, 16, 25, 36, 49, 64, 81, 100]}"
            ]
          },
          "metadata": {
            "tags": []
          },
          "execution_count": 65
        }
      ]
    },
    {
      "cell_type": "markdown",
      "metadata": {
        "id": "5iA1Ej6jyA3g"
      },
      "source": [
        "## Завдання 2\n",
        "Створити список з 20 елементів типу `int` від 1 до 20.\n",
        "\n",
        "Знайти:\n",
        "- розбити список на два списки: парні та непарні числа; результата записати до словника з двома ключами під парні і непарні числа;\n",
        "- кожне парне число піднести до степені, де степінь - це кожне непарне число; результат записати до словника, де ключ це рядок \"a ** b\", а значення - це результат піднесення до степені;\n",
        "- розділити список на два, однакових за довжиною; по кожному списку створити новий, в якому всі двозначні числа розділені на цифри, наприклад, 13 - це 1 і 3;\n",
        "- на основі отриманих списків з попереднього кроку, створити два set, над якими провести операції union, intersection, difference, symmetric_difference, а результати записати до словника, де ключ - це тип операції, а значення - отриманий результат."
      ]
    },
    {
      "cell_type": "code",
      "metadata": {
        "id": "y_aE6tB4yA3g",
        "outputId": "c1ee7d45-10b7-4760-a691-5113dbc3772f"
      },
      "source": [
        "import copy\n",
        "in_list = list(range(1, 21))\n",
        "\n",
        "# task 1\n",
        "key_1 = 'x % 2 == 0'\n",
        "key_2 = 'x % 2 != 0'\n",
        "result_1 = {\n",
        "    key_1: [],\n",
        "    key_2: []\n",
        "}\n",
        "\n",
        "for val in in_list:\n",
        "    if val % 2:\n",
        "        result_key = key_2\n",
        "    else:\n",
        "        result_key = key_1\n",
        "    result_1[result_key].append(val)\n",
        "result_1"
      ],
      "execution_count": null,
      "outputs": [
        {
          "output_type": "execute_result",
          "data": {
            "text/plain": [
              "{'x % 2 == 0': [2, 4, 6, 8, 10, 12, 14, 16, 18, 20],\n",
              " 'x % 2 != 0': [1, 3, 5, 7, 9, 11, 13, 15, 17, 19]}"
            ]
          },
          "metadata": {
            "tags": []
          },
          "execution_count": 66
        }
      ]
    },
    {
      "cell_type": "code",
      "metadata": {
        "id": "VEjPoEUEyA3i",
        "outputId": "ebc67d5d-ff40-4b01-c7bc-28a1d2ed806e"
      },
      "source": [
        "# task 2\n",
        "list_1 = copy.deepcopy(result_1[key_1])\n",
        "list_2 = copy.deepcopy(result_1[key_2])\n",
        "\n",
        "result_2 = dict()\n",
        "i = 0\n",
        "j = 0\n",
        "\n",
        "while True:\n",
        "    a = list_1[i]\n",
        "    b = list_2[j]\n",
        "    result_key = '{} ** {}'.format(a, b)\n",
        "    \n",
        "    result_2[result_key] = a ** b\n",
        "    \n",
        "    i += 1\n",
        "    j += 1\n",
        "    if i >= len(list_1) or j >= len(list_2):\n",
        "        break\n",
        "\n",
        "result_2"
      ],
      "execution_count": null,
      "outputs": [
        {
          "output_type": "execute_result",
          "data": {
            "text/plain": [
              "{'2 ** 1': 2,\n",
              " '4 ** 3': 64,\n",
              " '6 ** 5': 7776,\n",
              " '8 ** 7': 2097152,\n",
              " '10 ** 9': 1000000000,\n",
              " '12 ** 11': 743008370688,\n",
              " '14 ** 13': 793714773254144,\n",
              " '16 ** 15': 1152921504606846976,\n",
              " '18 ** 17': 2185911559738696531968,\n",
              " '20 ** 19': 5242880000000000000000000}"
            ]
          },
          "metadata": {
            "tags": []
          },
          "execution_count": 67
        }
      ]
    },
    {
      "cell_type": "code",
      "metadata": {
        "id": "cunZRFw9yA3j",
        "outputId": "47480f33-63c5-456a-807a-ae09bb7a3b91"
      },
      "source": [
        "# task 3\n",
        "list_1 = in_list[:len(in_list) // 2]\n",
        "list_2 = in_list[len(in_list) // 2:]\n",
        "\n",
        "key_1 = 'list_1'\n",
        "key_2 = 'list_2'\n",
        "key_set = {key_1, key_2}\n",
        "\n",
        "tmp_list = {\n",
        "    key_1: list_1,\n",
        "    key_2: list_2\n",
        "}\n",
        "result_3 = dict(((key_1, []), (key_2, [])))\n",
        "\n",
        "for key in key_set:\n",
        "    tmp_result = result_3[key]\n",
        "    \n",
        "    for val in tmp_list[key]:\n",
        "        tmp_result.extend(list(str(val)))\n",
        "\n",
        "result_3"
      ],
      "execution_count": null,
      "outputs": [
        {
          "output_type": "execute_result",
          "data": {
            "text/plain": [
              "{'list_1': ['1', '2', '3', '4', '5', '6', '7', '8', '9', '1', '0'],\n",
              " 'list_2': ['1',\n",
              "  '1',\n",
              "  '1',\n",
              "  '2',\n",
              "  '1',\n",
              "  '3',\n",
              "  '1',\n",
              "  '4',\n",
              "  '1',\n",
              "  '5',\n",
              "  '1',\n",
              "  '6',\n",
              "  '1',\n",
              "  '7',\n",
              "  '1',\n",
              "  '8',\n",
              "  '1',\n",
              "  '9',\n",
              "  '2',\n",
              "  '0']}"
            ]
          },
          "metadata": {
            "tags": []
          },
          "execution_count": 68
        }
      ]
    },
    {
      "cell_type": "code",
      "metadata": {
        "id": "tfxBYAOayA3k",
        "outputId": "11fc0406-0587-4938-bfe7-2ef4b1c8c05f"
      },
      "source": [
        "# task 4\n",
        "\n",
        "set_1 = set(result_3[key_1])\n",
        "set_2 = set(result_3[key_2])\n",
        "\n",
        "result_4 = {\n",
        "    'union': set_1.union(set_2),\n",
        "    'intersection': set_1.intersection(set_2),\n",
        "    'difference': set_1.difference(set_2),\n",
        "    'symmetric_difference': set_1.symmetric_difference(set_2) \n",
        "}\n",
        "\n",
        "result_4"
      ],
      "execution_count": null,
      "outputs": [
        {
          "output_type": "execute_result",
          "data": {
            "text/plain": [
              "{'union': {'0', '1', '2', '3', '4', '5', '6', '7', '8', '9'},\n",
              " 'intersection': {'0', '1', '2', '3', '4', '5', '6', '7', '8', '9'},\n",
              " 'difference': set(),\n",
              " 'symmetric_difference': set()}"
            ]
          },
          "metadata": {
            "tags": []
          },
          "execution_count": 69
        }
      ]
    },
    {
      "cell_type": "code",
      "metadata": {
        "id": "aIQrBZv5yA3l",
        "outputId": "0113b04e-89a1-421d-e8b1-2eecdf3029ed"
      },
      "source": [
        "x = input()\n",
        "g = []\n",
        "if int(x) == 0:\n",
        "    print(\"\")\n",
        "else:\n",
        "    for i in range(int(x)+1):\n",
        "        for j in range(i):\n",
        "            g.append(i)\n",
        "    for h in g[0:int(x)]:\n",
        "        print(h, end = \" \")\n",
        "#print(g)"
      ],
      "execution_count": null,
      "outputs": [
        {
          "output_type": "stream",
          "text": [
            " 4\n"
          ],
          "name": "stdin"
        },
        {
          "output_type": "stream",
          "text": [
            "1 2 2 3 "
          ],
          "name": "stdout"
        }
      ]
    },
    {
      "cell_type": "code",
      "metadata": {
        "id": "akt0jx5wyA3n",
        "outputId": "e932a2f5-1a4f-4c2d-8a97-0ef3ab7bd6ec"
      },
      "source": [
        "# put your python code here\n",
        "\n",
        "x = input()\n",
        "y = input()\n",
        "\n",
        "z = []\n",
        "\n",
        "for i, value in enumerate(x):\n",
        "    if(value == y):\n",
        "        z.append(i)\n",
        "\n",
        "if len(z) == 0:\n",
        "    print(\"Отсутствует\")\n",
        "else:\n",
        "    for j in z:\n",
        "        print(j, end = \" \")"
      ],
      "execution_count": null,
      "outputs": [
        {
          "output_type": "stream",
          "text": [
            " 5\n",
            " 5\n"
          ],
          "name": "stdin"
        },
        {
          "output_type": "stream",
          "text": [
            "0 "
          ],
          "name": "stdout"
        }
      ]
    },
    {
      "cell_type": "code",
      "metadata": {
        "id": "woSqcYH6yA3p",
        "outputId": "f2c7dada-aad4-4579-c39c-bffe285ae557"
      },
      "source": [
        "for i in str(input()).split(\" \"):\n",
        "    print(int(i))"
      ],
      "execution_count": null,
      "outputs": [
        {
          "output_type": "stream",
          "text": [
            " 5\n"
          ],
          "name": "stdin"
        },
        {
          "output_type": "stream",
          "text": [
            "5\n"
          ],
          "name": "stdout"
        }
      ]
    },
    {
      "cell_type": "code",
      "metadata": {
        "id": "DUzDvHkQyA3q"
      },
      "source": [
        "import tensorflow"
      ],
      "execution_count": null,
      "outputs": []
    },
    {
      "cell_type": "markdown",
      "metadata": {
        "id": "4MlmDOS3yA3r"
      },
      "source": [
        "2+2"
      ]
    },
    {
      "cell_type": "code",
      "metadata": {
        "id": "uCgQg0MnyA3r"
      },
      "source": [
        ""
      ],
      "execution_count": null,
      "outputs": []
    }
  ]
}