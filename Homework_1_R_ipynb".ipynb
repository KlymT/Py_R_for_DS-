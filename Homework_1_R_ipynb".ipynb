{
  "nbformat": 4,
  "nbformat_minor": 0,
  "metadata": {
    "colab": {
      "name": "Homework 1 R.ipynb\"",
      "provenance": [],
      "collapsed_sections": [],
      "authorship_tag": "ABX9TyMQpF4kQUwUJCnVMHmuRUj1",
      "include_colab_link": true
    },
    "kernelspec": {
      "name": "ir",
      "display_name": "R"
    }
  },
  "cells": [
    {
      "cell_type": "markdown",
      "metadata": {
        "id": "view-in-github",
        "colab_type": "text"
      },
      "source": [
        "<a href=\"https://colab.research.google.com/github/KlymT/Py_R_for_DS-/blob/master/Homework_1_R_ipynb%22.ipynb\" target=\"_parent\"><img src=\"https://colab.research.google.com/assets/colab-badge.svg\" alt=\"Open In Colab\"/></a>"
      ]
    },
    {
      "cell_type": "markdown",
      "metadata": {
        "id": "9J6bLcQxc_LN"
      },
      "source": [
        "**1. Напишіть програму, яка буде визначати, чи є номер телефону \"крутим\".**\n",
        "\n",
        "\"Крутий\" номер - це випадки, коли:\n",
        "    \n",
        "- у номері підряд йдуть 4 і більше однакових цифри;\n",
        "- у номері підряд йдуть 4 і більше цифри у порядку спадання чи зростання;\n",
        "- сума перших 5 цифр номеру дорівнює сумі 5 останніх.\n",
        "\n",
        "Приклади \"крутих\" номерів:\n",
        "\n",
        "1. 0981177770 (випадок 1)\n",
        "2. 0951234567 (випадок 2)\n",
        "3. 0670171123 (випадок 3)\n",
        "\n",
        "Програма бере на вхід строку з номером із 10 знаків. На вихід друкує або \"Крутий\", або \"Звичайний\""
      ]
    },
    {
      "cell_type": "code",
      "metadata": {
        "id": "BIomXcF3VFSB",
        "outputId": "cc9d0ea4-3b50-4a58-9893-d7edb7ef6c61",
        "colab": {
          "base_uri": "https://localhost:8080/",
          "height": 34
        }
      },
      "source": [
        "n = 0981177770 #readline('Phone number: ')\n",
        "n1 = sapply(1:9, function(i) as.numeric(substr(n,i, i)))\n",
        "#n2 = sapply(1:7, function(i) as.numeric(substr(n,i, i+3)))\n",
        "#n3 = sapply(1:9, function(i) as.numeric(substr(n,i, i+1)))\n",
        "n = c(0, n1)\n",
        "\n",
        "\n",
        "i2 = n[1]\n",
        "i3 = 0   \n",
        "for (i in n[2:10]) {\n",
        "  if (i==i2) {\n",
        "    i3 = i3+1}\n",
        "  else {\n",
        "    if (i3 < 3) {\n",
        "      i3 = 0}}\n",
        "  i2 = i}\n",
        "\n",
        "i2 = n[1]\n",
        "i4 = 0   \n",
        "for (i in n[2:10]) {\n",
        "  if (i-1==i2) {\n",
        "    i4 = i4+1}\n",
        "  else {\n",
        "    if (i4 < 3) {\n",
        "      i4 = 0}}\n",
        "  i2 = i}\n",
        "\n",
        "i2 = n[1]\n",
        "i5 = 0   \n",
        "for (i in n[2:10]) {\n",
        "  if (i+1==i2) {\n",
        "    i5 = i5+1}\n",
        "  else {\n",
        "    if (i5 < 3) {\n",
        "    i5 = 0}}\n",
        "  i2 = i}\n",
        "\n",
        "if (sum(c(i3, i4, i5))>3) {\n",
        "  print(\"Крутий\")\n",
        "} else {\n",
        "if (sum(n[1:5])-sum(n[6:10])==0) {\n",
        "  print(\"Крутий\") \n",
        "} else {\n",
        "  print(\"Звичайий\")\n",
        "}}\n"
      ],
      "execution_count": null,
      "outputs": [
        {
          "output_type": "stream",
          "text": [
            "[1] \"Звичайий\"\n"
          ],
          "name": "stdout"
        }
      ]
    },
    {
      "cell_type": "code",
      "metadata": {
        "id": "lpbZU5hpZaiL",
        "outputId": "2b26de1b-da46-4932-953e-5fc9cc32f672",
        "colab": {
          "base_uri": "https://localhost:8080/",
          "height": 34
        }
      },
      "source": [
        "t1 = 1\n",
        "t1 = t1+1\n",
        "t1"
      ],
      "execution_count": null,
      "outputs": [
        {
          "output_type": "display_data",
          "data": {
            "text/plain": [
              "[1] 2"
            ],
            "text/latex": "2",
            "text/markdown": "2",
            "text/html": [
              "2"
            ]
          },
          "metadata": {
            "tags": []
          }
        }
      ]
    }
  ]
}