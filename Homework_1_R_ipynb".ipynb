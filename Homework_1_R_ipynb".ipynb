{
  "nbformat": 4,
  "nbformat_minor": 0,
  "metadata": {
    "colab": {
      "name": "Homework 1 R.ipynb\"",
      "provenance": [],
      "collapsed_sections": [],
      "authorship_tag": "ABX9TyO6IILfvogbcXrGy1DBeovn",
      "include_colab_link": true
    },
    "kernelspec": {
      "name": "ir",
      "display_name": "R"
    }
  },
  "cells": [
    {
      "cell_type": "markdown",
      "metadata": {
        "id": "view-in-github",
        "colab_type": "text"
      },
      "source": [
        "<a href=\"https://colab.research.google.com/github/KlymT/Py_R_for_DS-/blob/master/Homework_1_R_ipynb%22.ipynb\" target=\"_parent\"><img src=\"https://colab.research.google.com/assets/colab-badge.svg\" alt=\"Open In Colab\"/></a>"
      ]
    },
    {
      "cell_type": "markdown",
      "metadata": {
        "id": "9J6bLcQxc_LN"
      },
      "source": [
        "**1. Напишіть програму, яка буде визначати, чи є номер телефону \"крутим\".**\n",
        "\n",
        "\"Крутий\" номер - це випадки, коли:\n",
        "    \n",
        "- у номері підряд йдуть 4 і більше однакових цифри;\n",
        "- у номері підряд йдуть 4 і більше цифри у порядку спадання чи зростання;\n",
        "- сума перших 5 цифр номеру дорівнює сумі 5 останніх.\n",
        "\n",
        "Приклади \"крутих\" номерів:\n",
        "\n",
        "1. 0981177770 (випадок 1)\n",
        "2. 0951234567 (випадок 2)\n",
        "3. 0670171123 (випадок 3)\n",
        "\n",
        "Програма бере на вхід строку з номером із 10 знаків. На вихід друкує або \"Крутий\", або \"Звичайний\""
      ]
    },
    {
      "cell_type": "code",
      "metadata": {
        "id": "BIomXcF3VFSB",
        "outputId": "a3d91d82-158e-457d-9e64-7c21b8c100a3",
        "colab": {
          "base_uri": "https://localhost:8080/",
          "height": 51
        }
      },
      "source": [
        "n = readline('Phone number: ')\n",
        "n1 = sapply(1:9, function(i) as.numeric(substr(n,i, i)))\n",
        "n = c(0, n1)\n",
        "\n",
        "i2 = n[1]\n",
        "i3 = 0   \n",
        "for (i in n[2:10]) {\n",
        "  if (i==i2) {\n",
        "    i3 = i3+1}\n",
        "  else {\n",
        "    if (i3 < 3) {\n",
        "      i3 = 0}}\n",
        "  i2 = i}\n",
        "\n",
        "i2 = n[1]\n",
        "i4 = 0   \n",
        "for (i in n[2:10]) {\n",
        "  if (i-1==i2) {\n",
        "    i4 = i4+1}\n",
        "  else {\n",
        "    if (i4 < 3) {\n",
        "      i4 = 0}}\n",
        "  i2 = i}\n",
        "\n",
        "i2 = n[1]\n",
        "i5 = 0   \n",
        "for (i in n[2:10]) {\n",
        "  if (i+1==i2) {\n",
        "    i5 = i5+1}\n",
        "  else {\n",
        "    if (i5 < 3) {\n",
        "    i5 = 0}}\n",
        "  i2 = i}\n",
        "\n",
        "if (sum(c(i3, i4, i5))>2) {\n",
        "  print(\"Крутий\")\n",
        "} else {\n",
        "if (sum(n[1:5])-sum(n[6:10])==0) {\n",
        "  print(\"Крутий\") \n",
        "} else {\n",
        "  print(\"Звичайий\")\n",
        "}}\n"
      ],
      "execution_count": 13,
      "outputs": [
        {
          "output_type": "stream",
          "text": [
            "Phone number: 123456789\n",
            "[1] \"Крутий\"\n"
          ],
          "name": "stdout"
        }
      ]
    },
    {
      "cell_type": "markdown",
      "metadata": {
        "id": "iV-xbom1EeOy"
      },
      "source": [
        "2. Напишіть програму, яка буде видавати з масиву локацій координати найближчої точки до центру.\n",
        "\n",
        "Перший ввід - координати широт. Другий ввід - координати довгот.\n",
        "\n",
        "Кожне нове значення розділяйте пробілом.\n",
        "\n",
        "Вивід - tuple з координатами довготи і широти, які найближчі до центру локацій.\n",
        "\n",
        "Центр локацій - це середнє арифметичне введених координат довгот і широт.\n",
        "\n",
        "Для простоти відстань міряємо в евклідовій метриці.\n",
        "\n",
        "Всі розрахунки потрібно зробити без підключення додаткових модулів."
      ]
    },
    {
      "cell_type": "code",
      "metadata": {
        "id": "Ba5DbYVWFX4X",
        "outputId": "25c74316-849c-48cb-beaf-0fc6b0d4d196",
        "colab": {
          "base_uri": "https://localhost:8080/",
          "height": 65
        }
      },
      "source": [
        "lat = readline(prompt=\"Lat: \")\n",
        "lon = readline(prompt=\"Lon: \")\n",
        "l = strsplit(lat, \" \")\n",
        "lat = c(as.numeric(l[[1]]))\n",
        "l = strsplit(lon, \" \")\n",
        "lon = c(as.numeric(l[[1]]))\n",
        "x = sum(lat)/length(lat)\n",
        "y = sum(lon)/length(lon)\n",
        "dist = ((lat - x)^2+(lon - y)^2)^0.5\n",
        "l = list (lat, lon, dist)\n",
        "\n"
      ],
      "execution_count": 55,
      "outputs": [
        {
          "output_type": "stream",
          "text": [
            "Lat: 1 2 3 4 5\n",
            "Lon: 1 2 3 4 5\n"
          ],
          "name": "stdout"
        },
        {
          "output_type": "display_data",
          "data": {
            "text/plain": [
              "list()"
            ],
            "text/latex": "\\begin{enumerate}\n\\end{enumerate}\n",
            "text/markdown": "\n\n",
            "text/html": [
              "<ol>\n",
              "</ol>\n"
            ]
          },
          "metadata": {
            "tags": []
          }
        }
      ]
    },
    {
      "cell_type": "code",
      "metadata": {
        "id": "BmxJfavSE0b5"
      },
      "source": [
        "lat <- readline(prompt=\"Lat: \")\n",
        "lon <- readline(prompt=\"Lon: \")\n",
        "\n",
        "lat = [float(x) for x in lat.split()]\n",
        "lon = [float(x) for x in lon.split()]\n",
        "x = sum(lat)/len(lat)\n",
        "y = sum(lon)/len(lon)\n",
        "centr = (x, y)\n",
        "print('The centr is', centr)\n",
        "dist = list(map(lambda a, b: ((a-x)**2 + (b-y)**2)**0.5, lat, lon))\n",
        "#print(dist)\n",
        "#print(min(dist))\n",
        "a = dist.index(min(dist))\n",
        "min_midl_dist = (lat[a], lon[a])\n",
        "print(min_midl_dist)"
      ],
      "execution_count": null,
      "outputs": []
    }
  ]
}