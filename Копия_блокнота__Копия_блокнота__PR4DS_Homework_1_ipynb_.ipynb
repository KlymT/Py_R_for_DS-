{
  "nbformat": 4,
  "nbformat_minor": 0,
  "metadata": {
    "kernelspec": {
      "display_name": "Python 3",
      "language": "python",
      "name": "python3"
    },
    "language_info": {
      "codemirror_mode": {
        "name": "ipython",
        "version": 3
      },
      "file_extension": ".py",
      "mimetype": "text/x-python",
      "name": "python",
      "nbconvert_exporter": "python",
      "pygments_lexer": "ipython3",
      "version": "3.7.3"
    },
    "toc": {
      "base_numbering": 1,
      "nav_menu": {},
      "number_sections": true,
      "sideBar": true,
      "skip_h1_title": false,
      "title_cell": "Table of Contents",
      "title_sidebar": "Contents",
      "toc_cell": false,
      "toc_position": {},
      "toc_section_display": true,
      "toc_window_display": false
    },
    "colab": {
      "name": "Копия блокнота _Копия блокнота _PR4DS Homework 1.ipynb_",
      "provenance": [],
      "collapsed_sections": [],
      "include_colab_link": true
    }
  },
  "cells": [
    {
      "cell_type": "markdown",
      "metadata": {
        "id": "view-in-github",
        "colab_type": "text"
      },
      "source": [
        "<a href=\"https://colab.research.google.com/github/KlymT/Py_R_for_DS-/blob/master/%D0%9A%D0%BE%D0%BF%D0%B8%D1%8F_%D0%B1%D0%BB%D0%BE%D0%BA%D0%BD%D0%BE%D1%82%D0%B0__%D0%9A%D0%BE%D0%BF%D0%B8%D1%8F_%D0%B1%D0%BB%D0%BE%D0%BA%D0%BD%D0%BE%D1%82%D0%B0__PR4DS_Homework_1_ipynb_.ipynb\" target=\"_parent\"><img src=\"https://colab.research.google.com/assets/colab-badge.svg\" alt=\"Open In Colab\"/></a>"
      ]
    },
    {
      "cell_type": "markdown",
      "metadata": {
        "id": "2f-43kjCc_LL"
      },
      "source": [
        "# Домашнє завдання №1\n",
        "\n",
        "**УВАГА: Одне із завдань має бути вирішено на R, інше одне - на Python.**"
      ]
    },
    {
      "cell_type": "markdown",
      "metadata": {
        "id": "9J6bLcQxc_LN"
      },
      "source": [
        "**1. Напишіть програму, яка буде визначати, чи є номер телефону \"крутим\".**\n",
        "\n",
        "\"Крутий\" номер - це випадки, коли:\n",
        "    \n",
        "- у номері підряд йдуть 4 і більше однакових цифри;\n",
        "- у номері підряд йдуть 4 і більше цифри у порядку спадання чи зростання;\n",
        "- сума перших 5 цифр номеру дорівнює сумі 5 останніх.\n",
        "\n",
        "Приклади \"крутих\" номерів:\n",
        "\n",
        "1. 0981177770 (випадок 1)\n",
        "2. 0951234567 (випадок 2)\n",
        "3. 0670171123 (випадок 3)\n",
        "\n",
        "Програма бере на вхід строку з номером із 10 знаків. На вихід друкує або \"Крутий\", або \"Звичайний\""
      ]
    },
    {
      "cell_type": "code",
      "metadata": {
        "id": "iD5ok5LZc_LP",
        "outputId": "743237ab-cddd-45d8-8dd1-e88a2b8cd5ee",
        "colab": {
          "base_uri": "https://localhost:8080/",
          "height": 50
        }
      },
      "source": [
        "phone_number = input() #Зчитування вводу здійснюється через функцію input, вона зберігає ввід як строку\n",
        "\n",
        "condition_true = True\n",
        "\n",
        "#int()\n",
        "\n",
        "if condition_true:\n",
        "    print(\"Крутий\")\n",
        "else:\n",
        "    print(\"Звичайний\")"
      ],
      "execution_count": null,
      "outputs": [
        {
          "output_type": "stream",
          "text": [
            "0505209797\n",
            "Крутий\n"
          ],
          "name": "stdout"
        }
      ]
    },
    {
      "cell_type": "markdown",
      "metadata": {
        "id": "3aK3APmwgVxc"
      },
      "source": [
        "Основа рішення на R:"
      ]
    },
    {
      "cell_type": "code",
      "metadata": {
        "id": "uM2KzzzBgVch",
        "outputId": "83d4ba4d-3ce7-48ad-ae0a-903e88648799",
        "colab": {
          "base_uri": "https://localhost:8080/",
          "height": 34
        }
      },
      "source": [
        "%%r\n",
        "\n",
        "phone_number <- readline(prompt=\"Phone number: \")\n",
        "\n",
        "condition_true <- TRUE\n",
        "\n",
        "if(condition_true){\n",
        "    print(\"Крутий\")\n",
        "} else {\n",
        "    print(\"Звичайний\")\n",
        "}\n",
        "    "
      ],
      "execution_count": null,
      "outputs": [
        {
          "output_type": "stream",
          "text": [
            "UsageError: Cell magic `%%r` not found.\n"
          ],
          "name": "stderr"
        }
      ]
    },
    {
      "cell_type": "markdown",
      "metadata": {
        "id": "2OI4X6nAc_LU"
      },
      "source": [
        "**2. Напишіть програму, яка буде видавати з масиву локацій координати найближчої точки до центру.**\n",
        "\n",
        "Перший ввід - координати широт.\n",
        "Другий ввід - координати довгот.\n",
        "\n",
        "Кожне нове значення розділяйте пробілом.\n",
        "\n",
        "Вивід - tuple з координатами довготи і широти, які найближчі до центру локацій.\n",
        "\n",
        "Центр локацій - це середнє арифметичне введених координат довгот і широт.\n",
        "\n",
        "Для простоти відстань міряємо в евклідовій метриці.\n",
        "\n",
        "Всі розрахунки потрібно зробити без підключення додаткових модулів."
      ]
    },
    {
      "cell_type": "code",
      "metadata": {
        "id": "efsodc9tc_LV",
        "outputId": "ce2b8f4d-ae3b-4f55-f37a-082f38373f6c",
        "colab": {
          "base_uri": "https://localhost:8080/",
          "height": 51
        }
      },
      "source": [
        "lat = input()\n",
        "lon = input()"
      ],
      "execution_count": null,
      "outputs": [
        {
          "output_type": "stream",
          "text": [
            "3\n",
            "3\n"
          ],
          "name": "stdout"
        }
      ]
    },
    {
      "cell_type": "markdown",
      "metadata": {
        "id": "i4XS_H7Dgz0H"
      },
      "source": [
        "Основа рішення на R:"
      ]
    },
    {
      "cell_type": "code",
      "metadata": {
        "jupyter": {
          "outputs_hidden": true
        },
        "id": "mMjtoRBEc_LZ",
        "outputId": "b1acda76-323a-45a3-edd6-19afa0d7ae56",
        "colab": {
          "base_uri": "https://localhost:8080/",
          "height": 34
        }
      },
      "source": [
        "%%r\n",
        "\n",
        "lat <- readline(prompt=\"Lat: \")\n",
        "lon <- readline(prompt=\"Lon: \")"
      ],
      "execution_count": null,
      "outputs": [
        {
          "output_type": "stream",
          "text": [
            "UsageError: Cell magic `%%r` not found.\n"
          ],
          "name": "stderr"
        }
      ]
    },
    {
      "cell_type": "code",
      "metadata": {
        "id": "LHHuSd-Fg9gt"
      },
      "source": [
        ""
      ],
      "execution_count": null,
      "outputs": []
    }
  ]
}