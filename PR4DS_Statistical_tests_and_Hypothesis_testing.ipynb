{
  "nbformat": 4,
  "nbformat_minor": 0,
  "metadata": {
    "colab": {
      "name": "PR4DS Statistical tests and Hypothesis testing.ipynb",
      "provenance": [],
      "toc_visible": true,
      "include_colab_link": true
    },
    "kernelspec": {
      "name": "python3",
      "display_name": "Python 3"
    }
  },
  "cells": [
    {
      "cell_type": "markdown",
      "metadata": {
        "id": "view-in-github",
        "colab_type": "text"
      },
      "source": [
        "<a href=\"https://colab.research.google.com/github/KlymT/Py_R_for_DS-/blob/master/PR4DS_Statistical_tests_and_Hypothesis_testing.ipynb\" target=\"_parent\"><img src=\"https://colab.research.google.com/assets/colab-badge.svg\" alt=\"Open In Colab\"/></a>"
      ]
    },
    {
      "cell_type": "markdown",
      "metadata": {
        "id": "oPxRSfpAOvqn"
      },
      "source": [
        "## Перевірка статистичних гіпотез\n",
        "\n",
        "### Що таке тестування гіпотез?\n",
        "\n",
        "\n",
        "Статистична гіпотеза - це твердження або здогадка\n",
        "що стосується одного або декількох груп населення.\n",
        "Щоб довести, що гіпотеза є істинною, або хибною, з абсолютною\n",
        "певність, нам потрібні абсолютні знання. Тобто ми\n",
        "доведеться оглянути все населення.\n",
        "Натомість тестування гіпотез стосується того, як використовувати випадковий випадок\n",
        "зразок для судження, чи є докази, що підтверджують чи ні\n",
        "гіпотеза.\n",
        "\n",
        "Тестування гіпотез формулюється двома гіпотезами:\n",
        "• H0: нульова гіпотеза;\n",
        "• H1: альтернативна гіпотеза.\n",
        "\n",
        "• H0 : p = 0.05\n",
        "• H1 : p > 0.05"
      ]
    },
    {
      "cell_type": "markdown",
      "metadata": {
        "id": "I_qfwsU-6DSN"
      },
      "source": [
        "# Статистичні тести з scipy.stats\n",
        "\n",
        "У пакету можливості дуже широкі, проте я виділив найбільш популярні і необхідні функції.\n",
        "\n",
        "## Описові статистики\n",
        "\n",
        "```describe(a[, axis, ddof, bias, nan_policy])```\t- вивід описових статистик по масиву.\n",
        "\n",
        "```kurtosis(a[, axis, fisher, bias, nan_policy])``` - вивід ексцесу даного масиву.\n",
        "\n",
        "```mode(a[, axis, nan_policy])```\t- вивід модального значення масиву.\n",
        "\n",
        "```skew(a[, axis, bias, nan_policy])``` - вивід асиметрії масиву даних.\n",
        "\n",
        "```variation(a[, axis, nan_policy])``` - вивід міри варіації переданого масиву.\n",
        "\n",
        "```find_repeats(arr)``` -  вивід повторів і кількості повторів у масиві.\n",
        "\n",
        "```iqr(x[, axis, rng, scale, nan_policy, …])``` - вивід інтерквартильного розмаху масиву.\n",
        "\n",
        "```sem(a[, axis, ddof, nan_policy])``` - стандартна помилка середнього.\n",
        "\n",
        "```cumfreq(a[, numbins, defaultreallimits, weights])``` - вивід кумулятивних частот.\n",
        "\n",
        "Перегляд даних SmartPLS ++ ++ надає інформацію про надмірний куртоз та перекошеність кожної змінної в наборі даних. Ви можете інтерпретувати значення таким чином:\n",
        "\n",
        "\"Skewness оцінює ступінь симетричності розподілу змінної. Якщо розподіл відповідей на змінну тягнеться до правого або лівого хвоста розподілу, то розподіл називається перекошеним. Куртоз - це міра того, чи розподіл є занадто піковий (дуже вузьке поширення з більшістю відповідей у ​​центрі) \". (Волосся та ін., 2017, стор. 61).\n",
        "\n",
        "\"Коли і перекос, і куртоз дорівнюють нулю (ситуація, з якою дослідники навряд чи можуть коли-небудь зіткнутися), модель відповідей вважається нормальним розподілом. Загальне керівництво щодо косості полягає в тому, що якщо число більше +1 або менше, ніж - 1, це вказує на істотно перекошений розподіл. Для куртозу загальним правилом є те, що якщо число більше +1, розподіл занадто максимум. Так само, куртоз менше -1 означає, що занадто велике розподіл Поширення, які виявляють косисть та / або куртоз, які перевищують ці вказівки, вважаються ненормальними \". (Волосся та ін., 2017, стор. 61).\n",
        "\n",
        "## Функції кореляції\n",
        "\n",
        "```pearsonr(x, y)``` - кореляція Пірсона для неперервних шкал.\n",
        "\n",
        "```spearmanr(a[, b, axis, nan_policy])``` - кореляція рангів Спірмена.\n",
        "\n",
        "```kendalltau(x, y[, initial_lexsort, …])``` - кореляція Кендала для порядкових шкал.\n",
        "\n",
        "```linregress(x[, y])``` - розрахунок лінійної регресії.\n",
        "\n",
        "```f_oneway(*args)```\t- одновибіркова ANOVA.\n",
        "\n",
        "## Статистичні тести\n",
        "\n",
        "```ttest_1samp(a, popmean[, axis, nan_policy])``` - одновибірковий т-тест для середніх значень.\n",
        "\n",
        "```ttest_ind(a, b[, axis, equal_var, nan_policy])``` - двовибірковий т-тест для середніх значень (перевірка схожості).\n",
        "\n",
        "```chisquare(f_obs[, f_exp, ddof, axis])``` - Хі-квадрат тест на нормальність.\n",
        "\n",
        "```ks_2samp(data1, data2)``` - Колмогоров-Смірнов тест на нормальність двох вибірок.\n",
        "\n",
        "```shapiro(x)``` - Шапіро-Вілко тест на нормальність розподілу даних.\n",
        "\n",
        "```chi2_contingency(observed[, correction, lambda_])``` - Хі-квадрат тест для таблиць спряженості."
      ]
    },
    {
      "cell_type": "code",
      "metadata": {
        "id": "E-d___AX6DSO"
      },
      "source": [
        "from scipy import stats\n",
        "import numpy as np\n",
        "import pandas as pd"
      ],
      "execution_count": null,
      "outputs": []
    },
    {
      "cell_type": "code",
      "metadata": {
        "id": "AyPXLx466DSX",
        "outputId": "310de884-62d1-42d5-8f8b-915a29e9a46b",
        "colab": {
          "base_uri": "https://localhost:8080/",
          "height": 51
        }
      },
      "source": [
        "female = np.array([1,2,3,4,5,6,1,1,-10, -10,0, 1,-1])\n",
        "male = np.array([2,2,2,4,4,5,1,1,1,10,20,10,6, 20, 11,88])\n",
        "#is_goal = df['distance'].values[df.is_goal]\n",
        "#not_goal = df['distance'].values[df.is_goal == False]\n",
        "print(np.average(female))\n",
        "print(np.average(male))"
      ],
      "execution_count": null,
      "outputs": [
        {
          "output_type": "stream",
          "text": [
            "0.23076923076923078\n",
            "11.6875\n"
          ],
          "name": "stdout"
        }
      ]
    },
    {
      "cell_type": "code",
      "metadata": {
        "id": "sluCqxKHD5c1",
        "outputId": "2ef0a53d-979e-4b01-f655-20eec5f90df6",
        "colab": {
          "base_uri": "https://localhost:8080/",
          "height": 54
        }
      },
      "source": [
        "stats.cumfreq(male)"
      ],
      "execution_count": null,
      "outputs": [
        {
          "output_type": "execute_result",
          "data": {
            "text/plain": [
              "CumfreqResult(cumcount=array([ 9., 13., 15., 15., 15., 15., 15., 15., 15., 16.]), lowerlimit=-3.833333333333333, binsize=9.666666666666666, extrapoints=0)"
            ]
          },
          "metadata": {
            "tags": []
          },
          "execution_count": 3
        }
      ]
    },
    {
      "cell_type": "code",
      "metadata": {
        "id": "1JUF6KvSE8OU",
        "outputId": "fb01dd5d-7b44-4ea9-8c3c-c1b51408828b",
        "colab": {
          "base_uri": "https://localhost:8080/",
          "height": 299
        }
      },
      "source": [
        "pd.Series(male).hist()"
      ],
      "execution_count": null,
      "outputs": [
        {
          "output_type": "execute_result",
          "data": {
            "text/plain": [
              "(<matplotlib.axes._subplots.AxesSubplot at 0x7febb4479780>,\n",
              " <matplotlib.axes._subplots.AxesSubplot at 0x7febb4479780>)"
            ]
          },
          "metadata": {
            "tags": []
          },
          "execution_count": 10
        },
        {
          "output_type": "display_data",
          "data": {
            "image/png": "[encoded data removed]",
            "text/plain": [
              "<Figure size 432x288 with 1 Axes>"
            ]
          },
          "metadata": {
            "tags": [],
            "needs_background": "light"
          }
        }
      ]
    },
    {
      "cell_type": "code",
      "metadata": {
        "id": "ataB3QXe2-vm",
        "outputId": "1ae08c80-c751-49a0-d8eb-fcd1440b6438",
        "colab": {
          "base_uri": "https://localhost:8080/",
          "height": 34
        }
      },
      "source": [
        "stats.kurtosis(male), stats.skew(male) #0, 0"
      ],
      "execution_count": null,
      "outputs": [
        {
          "output_type": "execute_result",
          "data": {
            "text/plain": [
              "(8.808104209394145, 3.1314676369621597)"
            ]
          },
          "metadata": {
            "tags": []
          },
          "execution_count": 9
        }
      ]
    },
    {
      "cell_type": "code",
      "metadata": {
        "id": "49ptcPH54drP",
        "outputId": "854fc8d5-6292-44c7-e079-ffeeed870054",
        "colab": {
          "base_uri": "https://localhost:8080/",
          "height": 282
        }
      },
      "source": [
        "pd.Series(np.log(male)).hist()"
      ],
      "execution_count": null,
      "outputs": [
        {
          "output_type": "execute_result",
          "data": {
            "text/plain": [
              "<matplotlib.axes._subplots.AxesSubplot at 0x7febb431f6a0>"
            ]
          },
          "metadata": {
            "tags": []
          },
          "execution_count": 11
        },
        {
          "output_type": "display_data",
          "data": {
            "image/png": "[encoded data removed]",
            "text/plain": [
              "<Figure size 432x288 with 1 Axes>"
            ]
          },
          "metadata": {
            "tags": [],
            "needs_background": "light"
          }
        }
      ]
    },
    {
      "cell_type": "code",
      "metadata": {
        "id": "rTzaeHez5yyp",
        "outputId": "8e66af4e-4cfd-4cb3-f193-dd8d24834dd8",
        "colab": {
          "base_uri": "https://localhost:8080/",
          "height": 282
        }
      },
      "source": [
        "pd.Series((female + np.abs(female.min()) + 1)**2.34).hist()"
      ],
      "execution_count": null,
      "outputs": [
        {
          "output_type": "execute_result",
          "data": {
            "text/plain": [
              "<matplotlib.axes._subplots.AxesSubplot at 0x7febb40a3978>"
            ]
          },
          "metadata": {
            "tags": []
          },
          "execution_count": 28
        },
        {
          "output_type": "display_data",
          "data": {
            "image/png": "[encoded data removed]",
            "text/plain": [
              "<Figure size 432x288 with 1 Axes>"
            ]
          },
          "metadata": {
            "tags": [],
            "needs_background": "light"
          }
        }
      ]
    },
    {
      "cell_type": "code",
      "metadata": {
        "id": "VvRSqDSE5CBc",
        "outputId": "4fa743a1-6699-4c84-d608-d2e562ca961c",
        "colab": {
          "base_uri": "https://localhost:8080/",
          "height": 34
        }
      },
      "source": [
        "stats.kurtosis(female), stats.skew(female) #0, 0"
      ],
      "execution_count": null,
      "outputs": [
        {
          "output_type": "execute_result",
          "data": {
            "text/plain": [
              "(0.5736042960250218, -1.257496318618123)"
            ]
          },
          "metadata": {
            "tags": []
          },
          "execution_count": 19
        }
      ]
    },
    {
      "cell_type": "code",
      "metadata": {
        "id": "IcByBQRp6Tct",
        "outputId": "2c15775d-982d-453a-ef52-7594611efe36",
        "colab": {
          "base_uri": "https://localhost:8080/",
          "height": 34
        }
      },
      "source": [
        "stats.kurtosis((female + np.abs(female.min()) + 1)**2.34), stats.skew((female + np.abs(female.min()) + 1)**2.34)"
      ],
      "execution_count": null,
      "outputs": [
        {
          "output_type": "execute_result",
          "data": {
            "text/plain": [
              "(-0.46731951269727157, 0.005407056958162602)"
            ]
          },
          "metadata": {
            "tags": []
          },
          "execution_count": 27
        }
      ]
    },
    {
      "cell_type": "code",
      "metadata": {
        "id": "I_YJkcqc6DSj",
        "outputId": "6dfa4409-bbed-47c6-e30e-c7b247506032",
        "colab": {
          "base_uri": "https://localhost:8080/",
          "height": 51
        }
      },
      "source": [
        "print(\"Т-тест Стьюдента для порівняння середніх у двох групах:\\n\", stats.ttest_ind(female, male))"
      ],
      "execution_count": null,
      "outputs": [
        {
          "output_type": "stream",
          "text": [
            "Т-тест Стьюдента для порівняння середніх у двох групах:\n",
            " Ttest_indResult(statistic=-1.8945458049787802, pvalue=0.06890999020328603)\n"
          ],
          "name": "stdout"
        }
      ]
    },
    {
      "cell_type": "code",
      "metadata": {
        "id": "hQmPDQDz6DSn",
        "outputId": "542732db-f94e-4024-872e-01544081ae29",
        "colab": {
          "base_uri": "https://localhost:8080/",
          "height": 34
        }
      },
      "source": [
        "tt = stats.ttest_ind(female, male)\n",
        "if tt.pvalue < 0.05:\n",
        "    print(\"Гіпотезу прийнято - статистика по групах відмінна\")\n",
        "else:\n",
        "    print(\"Гіпотезу відхилено - нема відмінностей по групах\")"
      ],
      "execution_count": null,
      "outputs": [
        {
          "output_type": "stream",
          "text": [
            "Гіпотезу відхилено - нема відмінностей по групах\n"
          ],
          "name": "stdout"
        }
      ]
    },
    {
      "cell_type": "code",
      "metadata": {
        "id": "wqIvUkl_6DSs",
        "outputId": "74202790-a631-4cd8-8350-b08d3a2c331d",
        "colab": {
          "base_uri": "https://localhost:8080/",
          "height": 102
        }
      },
      "source": [
        "from scipy.spatial.distance import pdist\n",
        "\n",
        "x = np.array([[0,1,1,2], [1,0,0,4], [2,0,0,5]])\n",
        "print(\"Масив:\\n\",x)\n",
        "d = pdist(x, 'euclidean')\n",
        "print(\"Дистанції між рядами:\",d)"
      ],
      "execution_count": null,
      "outputs": [
        {
          "output_type": "stream",
          "text": [
            "Масив:\n",
            " [[0 1 1 2]\n",
            " [1 0 0 4]\n",
            " [2 0 0 5]]\n",
            "Дистанції між рядами: [2.64575131 3.87298335 1.41421356]\n"
          ],
          "name": "stdout"
        }
      ]
    },
    {
      "cell_type": "markdown",
      "metadata": {
        "id": "velB77cHx-0V"
      },
      "source": [
        "# Тести нормальності розподілу\n",
        "\n",
        "H0: дані нормально розподілені.\n",
        "\n",
        "H1: дані не нормально розподілені.\n",
        "\n",
        "## Shapiro-Wilk Normality Test\n",
        "\n",
        "Більш підходить для малих вибірок."
      ]
    },
    {
      "cell_type": "code",
      "metadata": {
        "id": "tLaumqUe3g7A"
      },
      "source": [
        "import pandas as pd\n",
        "\n",
        "df = pd.read_csv(\"https://raw.githubusercontent.com/alexlorenzo/Pet.my/master/datasets/train.csv\")"
      ],
      "execution_count": null,
      "outputs": []
    },
    {
      "cell_type": "code",
      "metadata": {
        "id": "RcWDZYAGObrc",
        "outputId": "51ee01e1-d778-41d4-8e35-58766b072ce6",
        "colab": {
          "base_uri": "https://localhost:8080/",
          "height": 898
        }
      },
      "source": [
        "df"
      ],
      "execution_count": null,
      "outputs": [
        {
          "output_type": "execute_result",
          "data": {
            "text/html": [
              "<div>\n",
              "<style scoped>\n",
              "    .dataframe tbody tr th:only-of-type {\n",
              "        vertical-align: middle;\n",
              "    }\n",
              "\n",
              "    .dataframe tbody tr th {\n",
              "        vertical-align: top;\n",
              "    }\n",
              "\n",
              "    .dataframe thead th {\n",
              "        text-align: right;\n",
              "    }\n",
              "</style>\n",
              "<table border=\"1\" class=\"dataframe\">\n",
              "  <thead>\n",
              "    <tr style=\"text-align: right;\">\n",
              "      <th></th>\n",
              "      <th>Type</th>\n",
              "      <th>Name</th>\n",
              "      <th>Age</th>\n",
              "      <th>Breed1</th>\n",
              "      <th>Breed2</th>\n",
              "      <th>Gender</th>\n",
              "      <th>Color1</th>\n",
              "      <th>Color2</th>\n",
              "      <th>Color3</th>\n",
              "      <th>MaturitySize</th>\n",
              "      <th>FurLength</th>\n",
              "      <th>Vaccinated</th>\n",
              "      <th>Dewormed</th>\n",
              "      <th>Sterilized</th>\n",
              "      <th>Health</th>\n",
              "      <th>Quantity</th>\n",
              "      <th>Fee</th>\n",
              "      <th>State</th>\n",
              "      <th>RescuerID</th>\n",
              "      <th>VideoAmt</th>\n",
              "      <th>Description</th>\n",
              "      <th>PetID</th>\n",
              "      <th>PhotoAmt</th>\n",
              "      <th>AdoptionSpeed</th>\n",
              "    </tr>\n",
              "  </thead>\n",
              "  <tbody>\n",
              "    <tr>\n",
              "      <th>0</th>\n",
              "      <td>2</td>\n",
              "      <td>Nibble</td>\n",
              "      <td>3</td>\n",
              "      <td>299</td>\n",
              "      <td>0</td>\n",
              "      <td>1</td>\n",
              "      <td>1</td>\n",
              "      <td>7</td>\n",
              "      <td>0</td>\n",
              "      <td>1</td>\n",
              "      <td>1</td>\n",
              "      <td>2</td>\n",
              "      <td>2</td>\n",
              "      <td>2</td>\n",
              "      <td>1</td>\n",
              "      <td>1</td>\n",
              "      <td>100</td>\n",
              "      <td>41326</td>\n",
              "      <td>8480853f516546f6cf33aa88cd76c379</td>\n",
              "      <td>0</td>\n",
              "      <td>Nibble is a 3+ month old ball of cuteness. He ...</td>\n",
              "      <td>86e1089a3</td>\n",
              "      <td>1.0</td>\n",
              "      <td>2</td>\n",
              "    </tr>\n",
              "    <tr>\n",
              "      <th>1</th>\n",
              "      <td>2</td>\n",
              "      <td>No Name Yet</td>\n",
              "      <td>1</td>\n",
              "      <td>265</td>\n",
              "      <td>0</td>\n",
              "      <td>1</td>\n",
              "      <td>1</td>\n",
              "      <td>2</td>\n",
              "      <td>0</td>\n",
              "      <td>2</td>\n",
              "      <td>2</td>\n",
              "      <td>3</td>\n",
              "      <td>3</td>\n",
              "      <td>3</td>\n",
              "      <td>1</td>\n",
              "      <td>1</td>\n",
              "      <td>0</td>\n",
              "      <td>41401</td>\n",
              "      <td>3082c7125d8fb66f7dd4bff4192c8b14</td>\n",
              "      <td>0</td>\n",
              "      <td>I just found it alone yesterday near my apartm...</td>\n",
              "      <td>6296e909a</td>\n",
              "      <td>2.0</td>\n",
              "      <td>0</td>\n",
              "    </tr>\n",
              "    <tr>\n",
              "      <th>2</th>\n",
              "      <td>1</td>\n",
              "      <td>Brisco</td>\n",
              "      <td>1</td>\n",
              "      <td>307</td>\n",
              "      <td>0</td>\n",
              "      <td>1</td>\n",
              "      <td>2</td>\n",
              "      <td>7</td>\n",
              "      <td>0</td>\n",
              "      <td>2</td>\n",
              "      <td>2</td>\n",
              "      <td>1</td>\n",
              "      <td>1</td>\n",
              "      <td>2</td>\n",
              "      <td>1</td>\n",
              "      <td>1</td>\n",
              "      <td>0</td>\n",
              "      <td>41326</td>\n",
              "      <td>fa90fa5b1ee11c86938398b60abc32cb</td>\n",
              "      <td>0</td>\n",
              "      <td>Their pregnant mother was dumped by her irresp...</td>\n",
              "      <td>3422e4906</td>\n",
              "      <td>7.0</td>\n",
              "      <td>3</td>\n",
              "    </tr>\n",
              "    <tr>\n",
              "      <th>3</th>\n",
              "      <td>1</td>\n",
              "      <td>Miko</td>\n",
              "      <td>4</td>\n",
              "      <td>307</td>\n",
              "      <td>0</td>\n",
              "      <td>2</td>\n",
              "      <td>1</td>\n",
              "      <td>2</td>\n",
              "      <td>0</td>\n",
              "      <td>2</td>\n",
              "      <td>1</td>\n",
              "      <td>1</td>\n",
              "      <td>1</td>\n",
              "      <td>2</td>\n",
              "      <td>1</td>\n",
              "      <td>1</td>\n",
              "      <td>150</td>\n",
              "      <td>41401</td>\n",
              "      <td>9238e4f44c71a75282e62f7136c6b240</td>\n",
              "      <td>0</td>\n",
              "      <td>Good guard dog, very alert, active, obedience ...</td>\n",
              "      <td>5842f1ff5</td>\n",
              "      <td>8.0</td>\n",
              "      <td>2</td>\n",
              "    </tr>\n",
              "    <tr>\n",
              "      <th>4</th>\n",
              "      <td>1</td>\n",
              "      <td>Hunter</td>\n",
              "      <td>1</td>\n",
              "      <td>307</td>\n",
              "      <td>0</td>\n",
              "      <td>1</td>\n",
              "      <td>1</td>\n",
              "      <td>0</td>\n",
              "      <td>0</td>\n",
              "      <td>2</td>\n",
              "      <td>1</td>\n",
              "      <td>2</td>\n",
              "      <td>2</td>\n",
              "      <td>2</td>\n",
              "      <td>1</td>\n",
              "      <td>1</td>\n",
              "      <td>0</td>\n",
              "      <td>41326</td>\n",
              "      <td>95481e953f8aed9ec3d16fc4509537e8</td>\n",
              "      <td>0</td>\n",
              "      <td>This handsome yet cute boy is up for adoption....</td>\n",
              "      <td>850a43f90</td>\n",
              "      <td>3.0</td>\n",
              "      <td>2</td>\n",
              "    </tr>\n",
              "    <tr>\n",
              "      <th>...</th>\n",
              "      <td>...</td>\n",
              "      <td>...</td>\n",
              "      <td>...</td>\n",
              "      <td>...</td>\n",
              "      <td>...</td>\n",
              "      <td>...</td>\n",
              "      <td>...</td>\n",
              "      <td>...</td>\n",
              "      <td>...</td>\n",
              "      <td>...</td>\n",
              "      <td>...</td>\n",
              "      <td>...</td>\n",
              "      <td>...</td>\n",
              "      <td>...</td>\n",
              "      <td>...</td>\n",
              "      <td>...</td>\n",
              "      <td>...</td>\n",
              "      <td>...</td>\n",
              "      <td>...</td>\n",
              "      <td>...</td>\n",
              "      <td>...</td>\n",
              "      <td>...</td>\n",
              "      <td>...</td>\n",
              "      <td>...</td>\n",
              "    </tr>\n",
              "    <tr>\n",
              "      <th>14988</th>\n",
              "      <td>2</td>\n",
              "      <td>NaN</td>\n",
              "      <td>2</td>\n",
              "      <td>266</td>\n",
              "      <td>0</td>\n",
              "      <td>3</td>\n",
              "      <td>1</td>\n",
              "      <td>0</td>\n",
              "      <td>0</td>\n",
              "      <td>2</td>\n",
              "      <td>2</td>\n",
              "      <td>2</td>\n",
              "      <td>2</td>\n",
              "      <td>2</td>\n",
              "      <td>1</td>\n",
              "      <td>4</td>\n",
              "      <td>0</td>\n",
              "      <td>41326</td>\n",
              "      <td>61c84bd7bcb6fb31d2d480b1bcf9682e</td>\n",
              "      <td>0</td>\n",
              "      <td>I have 4 kittens that need to be adopt urgentl...</td>\n",
              "      <td>dc0935a84</td>\n",
              "      <td>3.0</td>\n",
              "      <td>2</td>\n",
              "    </tr>\n",
              "    <tr>\n",
              "      <th>14989</th>\n",
              "      <td>2</td>\n",
              "      <td>Serato &amp; Eddie</td>\n",
              "      <td>60</td>\n",
              "      <td>265</td>\n",
              "      <td>264</td>\n",
              "      <td>3</td>\n",
              "      <td>1</td>\n",
              "      <td>4</td>\n",
              "      <td>7</td>\n",
              "      <td>2</td>\n",
              "      <td>2</td>\n",
              "      <td>1</td>\n",
              "      <td>1</td>\n",
              "      <td>1</td>\n",
              "      <td>1</td>\n",
              "      <td>2</td>\n",
              "      <td>0</td>\n",
              "      <td>41326</td>\n",
              "      <td>1d5096c4a5e159a3b750c5cfcf6ceabf</td>\n",
              "      <td>0</td>\n",
              "      <td>Serato(female cat- 3 color) is 4 years old and...</td>\n",
              "      <td>a01ab5b30</td>\n",
              "      <td>3.0</td>\n",
              "      <td>4</td>\n",
              "    </tr>\n",
              "    <tr>\n",
              "      <th>14990</th>\n",
              "      <td>2</td>\n",
              "      <td>Monkies</td>\n",
              "      <td>2</td>\n",
              "      <td>265</td>\n",
              "      <td>266</td>\n",
              "      <td>3</td>\n",
              "      <td>5</td>\n",
              "      <td>6</td>\n",
              "      <td>7</td>\n",
              "      <td>3</td>\n",
              "      <td>2</td>\n",
              "      <td>2</td>\n",
              "      <td>1</td>\n",
              "      <td>3</td>\n",
              "      <td>1</td>\n",
              "      <td>5</td>\n",
              "      <td>30</td>\n",
              "      <td>41326</td>\n",
              "      <td>6f40a7acfad5cc0bb3e44591ea446c05</td>\n",
              "      <td>0</td>\n",
              "      <td>Mix breed, good temperament kittens. Love huma...</td>\n",
              "      <td>d981b6395</td>\n",
              "      <td>5.0</td>\n",
              "      <td>3</td>\n",
              "    </tr>\n",
              "    <tr>\n",
              "      <th>14991</th>\n",
              "      <td>2</td>\n",
              "      <td>Ms Daym</td>\n",
              "      <td>9</td>\n",
              "      <td>266</td>\n",
              "      <td>0</td>\n",
              "      <td>2</td>\n",
              "      <td>4</td>\n",
              "      <td>7</td>\n",
              "      <td>0</td>\n",
              "      <td>1</td>\n",
              "      <td>1</td>\n",
              "      <td>1</td>\n",
              "      <td>1</td>\n",
              "      <td>1</td>\n",
              "      <td>1</td>\n",
              "      <td>1</td>\n",
              "      <td>0</td>\n",
              "      <td>41336</td>\n",
              "      <td>c311c0c569245baa147d91fa4e351ae4</td>\n",
              "      <td>0</td>\n",
              "      <td>she is very shy..adventures and independent..s...</td>\n",
              "      <td>e4da1c9e4</td>\n",
              "      <td>3.0</td>\n",
              "      <td>4</td>\n",
              "    </tr>\n",
              "    <tr>\n",
              "      <th>14992</th>\n",
              "      <td>1</td>\n",
              "      <td>Fili</td>\n",
              "      <td>1</td>\n",
              "      <td>307</td>\n",
              "      <td>307</td>\n",
              "      <td>1</td>\n",
              "      <td>2</td>\n",
              "      <td>0</td>\n",
              "      <td>0</td>\n",
              "      <td>2</td>\n",
              "      <td>1</td>\n",
              "      <td>2</td>\n",
              "      <td>2</td>\n",
              "      <td>2</td>\n",
              "      <td>1</td>\n",
              "      <td>1</td>\n",
              "      <td>0</td>\n",
              "      <td>41332</td>\n",
              "      <td>9ed1d5493d223eaa5024c1a031dbc9c2</td>\n",
              "      <td>0</td>\n",
              "      <td>Fili just loves laying around and also loves b...</td>\n",
              "      <td>a83d95ead</td>\n",
              "      <td>1.0</td>\n",
              "      <td>3</td>\n",
              "    </tr>\n",
              "  </tbody>\n",
              "</table>\n",
              "<p>14993 rows × 24 columns</p>\n",
              "</div>"
            ],
            "text/plain": [
              "       Type            Name  Age  ...      PetID  PhotoAmt  AdoptionSpeed\n",
              "0         2          Nibble    3  ...  86e1089a3       1.0              2\n",
              "1         2     No Name Yet    1  ...  6296e909a       2.0              0\n",
              "2         1          Brisco    1  ...  3422e4906       7.0              3\n",
              "3         1            Miko    4  ...  5842f1ff5       8.0              2\n",
              "4         1          Hunter    1  ...  850a43f90       3.0              2\n",
              "...     ...             ...  ...  ...        ...       ...            ...\n",
              "14988     2             NaN    2  ...  dc0935a84       3.0              2\n",
              "14989     2  Serato & Eddie   60  ...  a01ab5b30       3.0              4\n",
              "14990     2         Monkies    2  ...  d981b6395       5.0              3\n",
              "14991     2         Ms Daym    9  ...  e4da1c9e4       3.0              4\n",
              "14992     1            Fili    1  ...  a83d95ead       1.0              3\n",
              "\n",
              "[14993 rows x 24 columns]"
            ]
          },
          "metadata": {
            "tags": []
          },
          "execution_count": 31
        }
      ]
    },
    {
      "cell_type": "code",
      "metadata": {
        "id": "ue4ry8lGL_Uu",
        "outputId": "f01950f8-d968-4851-fe67-01a9a1f0a0f3",
        "colab": {
          "base_uri": "https://localhost:8080/",
          "height": 282
        }
      },
      "source": [
        "#df.Age[df.Age > 15] = 15\n",
        "\n",
        "np.log1p(df.Age[df.Age < 15]).hist()"
      ],
      "execution_count": null,
      "outputs": [
        {
          "output_type": "execute_result",
          "data": {
            "text/plain": [
              "<matplotlib.axes._subplots.AxesSubplot at 0x7febb35b20f0>"
            ]
          },
          "metadata": {
            "tags": []
          },
          "execution_count": 32
        },
        {
          "output_type": "display_data",
          "data": {
            "image/png": "[encoded data removed]",
            "text/plain": [
              "<Figure size 432x288 with 1 Axes>"
            ]
          },
          "metadata": {
            "tags": [],
            "needs_background": "light"
          }
        }
      ]
    },
    {
      "cell_type": "code",
      "metadata": {
        "id": "4qOlM-W4puDH",
        "outputId": "62881c67-a6d3-485c-c5cb-e90d69faf11b",
        "colab": {
          "base_uri": "https://localhost:8080/",
          "height": 51
        }
      },
      "source": [
        "from scipy.stats import shapiro\n",
        "\n",
        "data = pd.Series(np.log1p(df.Age[df.Age < 15])).sample(1000)\n",
        "\n",
        "stat, p = shapiro(data)\n",
        "\n",
        "print('stat=%.3f, p=%.3f' % (stat, p))\n",
        "\n",
        "if p > 0.05:\n",
        "\tprint('Probably Gaussian')\n",
        "else:\n",
        "\tprint('Probably not Gaussian')"
      ],
      "execution_count": null,
      "outputs": [
        {
          "output_type": "stream",
          "text": [
            "stat=0.933, p=0.000\n",
            "Probably not Gaussian\n"
          ],
          "name": "stdout"
        }
      ]
    },
    {
      "cell_type": "markdown",
      "metadata": {
        "id": "J8pOFSNjuvN-"
      },
      "source": [
        "## D'Agostino's K^2 Normality Test\n",
        "\n",
        "Краще застосовувати, коли є значення, що дублюються."
      ]
    },
    {
      "cell_type": "code",
      "metadata": {
        "id": "Rm5OMOPtOjbz",
        "outputId": "a517100a-1b20-4c10-e1ee-f1b07f57fdc7",
        "colab": {
          "base_uri": "https://localhost:8080/",
          "height": 367
        }
      },
      "source": [
        "df.PhotoAmt[df.PhotoAmt > 15] = 15\n",
        "\n",
        "np.log1p(df.PhotoAmt).hist()"
      ],
      "execution_count": null,
      "outputs": [
        {
          "output_type": "stream",
          "text": [
            "/usr/local/lib/python3.6/dist-packages/ipykernel_launcher.py:1: SettingWithCopyWarning: \n",
            "A value is trying to be set on a copy of a slice from a DataFrame\n",
            "\n",
            "See the caveats in the documentation: https://pandas.pydata.org/pandas-docs/stable/user_guide/indexing.html#returning-a-view-versus-a-copy\n",
            "  \"\"\"Entry point for launching an IPython kernel.\n"
          ],
          "name": "stderr"
        },
        {
          "output_type": "execute_result",
          "data": {
            "text/plain": [
              "<matplotlib.axes._subplots.AxesSubplot at 0x7febb2fc19e8>"
            ]
          },
          "metadata": {
            "tags": []
          },
          "execution_count": 35
        },
        {
          "output_type": "display_data",
          "data": {
            "image/png": "[encoded data removed]",
            "text/plain": [
              "<Figure size 432x288 with 1 Axes>"
            ]
          },
          "metadata": {
            "tags": [],
            "needs_background": "light"
          }
        }
      ]
    },
    {
      "cell_type": "code",
      "metadata": {
        "id": "8EIcxp1t_LhD",
        "outputId": "3b0ee096-55c4-409d-d646-1b5d1d0f60fd",
        "colab": {
          "base_uri": "https://localhost:8080/",
          "height": 282
        }
      },
      "source": [
        "((df.PhotoAmt)**0.44).hist()"
      ],
      "execution_count": null,
      "outputs": [
        {
          "output_type": "execute_result",
          "data": {
            "text/plain": [
              "<matplotlib.axes._subplots.AxesSubplot at 0x7febb3fd4e80>"
            ]
          },
          "metadata": {
            "tags": []
          },
          "execution_count": 47
        },
        {
          "output_type": "display_data",
          "data": {
            "image/png": "[encoded data removed]",
            "text/plain": [
              "<Figure size 432x288 with 1 Axes>"
            ]
          },
          "metadata": {
            "tags": [],
            "needs_background": "light"
          }
        }
      ]
    },
    {
      "cell_type": "code",
      "metadata": {
        "id": "9xvqmS0Bpx5o",
        "outputId": "f7b46720-989e-45c8-aa54-7faa95055a45",
        "colab": {
          "base_uri": "https://localhost:8080/",
          "height": 71
        }
      },
      "source": [
        "from scipy.stats import normaltest\n",
        "\n",
        "data = ((df.PhotoAmt)**0.44)\n",
        "stat, p = normaltest(data)\n",
        "\n",
        "print('stat=%.3f, p=%.190f' % (stat, p))\n",
        "\n",
        "if p > 0.05:\n",
        "\tprint('Probably Gaussian')\n",
        "else:\n",
        "\tprint('Probably not Gaussian')"
      ],
      "execution_count": null,
      "outputs": [
        {
          "output_type": "stream",
          "text": [
            "stat=315.524, p=0.0000000000000000000000000000000000000000000000000000000000000000000030530516482281955889662321168284637197046409773179813272393646983614757492658460514978302793430244588450542821842264627067\n",
            "Probably not Gaussian\n"
          ],
          "name": "stdout"
        }
      ]
    },
    {
      "cell_type": "markdown",
      "metadata": {
        "id": "gItSIOJquzND"
      },
      "source": [
        "## Anderson-Darling Normality Test"
      ]
    },
    {
      "cell_type": "code",
      "metadata": {
        "id": "0GX52iiDPyyV",
        "outputId": "2c57d04e-627e-46c2-9fa8-fc5c8b235059",
        "colab": {
          "base_uri": "https://localhost:8080/",
          "height": 282
        }
      },
      "source": [
        "df.PhotoAmt.hist()"
      ],
      "execution_count": null,
      "outputs": [
        {
          "output_type": "execute_result",
          "data": {
            "text/plain": [
              "<matplotlib.axes._subplots.AxesSubplot at 0x7febb009fba8>"
            ]
          },
          "metadata": {
            "tags": []
          },
          "execution_count": 49
        },
        {
          "output_type": "display_data",
          "data": {
            "image/png": "[encoded data removed]",
            "text/plain": [
              "<Figure size 432x288 with 1 Axes>"
            ]
          },
          "metadata": {
            "tags": [],
            "needs_background": "light"
          }
        }
      ]
    },
    {
      "cell_type": "code",
      "metadata": {
        "id": "a9z_VhUIp25R",
        "outputId": "48ef9cc4-5d9a-47ac-e0b4-a95aa72c76fd",
        "colab": {
          "base_uri": "https://localhost:8080/",
          "height": 119
        }
      },
      "source": [
        "from scipy.stats import anderson\n",
        "data = df.PhotoAmt**0.43\n",
        "result = anderson(data)\n",
        "print('stat=%.3f' % (result.statistic))\n",
        "for i in range(len(result.critical_values)):\n",
        "\tsl, cv = result.significance_level[i], result.critical_values[i]\n",
        "\tif result.statistic < cv:\n",
        "\t\tprint('Probably Gaussian at the %.1f%% level' % (sl))\n",
        "\telse:\n",
        "\t\tprint('Probably not Gaussian at the %.1f%% level' % (sl))"
      ],
      "execution_count": null,
      "outputs": [
        {
          "output_type": "stream",
          "text": [
            "stat=233.859\n",
            "Probably not Gaussian at the 15.0% level\n",
            "Probably not Gaussian at the 10.0% level\n",
            "Probably not Gaussian at the 5.0% level\n",
            "Probably not Gaussian at the 2.5% level\n",
            "Probably not Gaussian at the 1.0% level\n"
          ],
          "name": "stdout"
        }
      ]
    },
    {
      "cell_type": "markdown",
      "metadata": {
        "id": "H4tfwb7su3fw"
      },
      "source": [
        "# Тести кореляції\n",
        "\n",
        "## Pearson's Correlation test\n",
        "\n",
        "Використовується тільки для метричних ознак."
      ]
    },
    {
      "cell_type": "code",
      "metadata": {
        "id": "b_tbO3EQUbcq",
        "outputId": "e8233f3f-a1e5-4d1f-b0b9-9a72a69e96fa",
        "colab": {
          "base_uri": "https://localhost:8080/",
          "height": 296
        }
      },
      "source": [
        "df.plot.scatter(x = 'VideoAmt', y = 'PhotoAmt')"
      ],
      "execution_count": null,
      "outputs": [
        {
          "output_type": "execute_result",
          "data": {
            "text/plain": [
              "<matplotlib.axes._subplots.AxesSubplot at 0x7febaff9b4e0>"
            ]
          },
          "metadata": {
            "tags": []
          },
          "execution_count": 53
        },
        {
          "output_type": "display_data",
          "data": {
            "image/png": "[encoded data removed]",
            "text/plain": [
              "<Figure size 432x288 with 1 Axes>"
            ]
          },
          "metadata": {
            "tags": [],
            "needs_background": "light"
          }
        }
      ]
    },
    {
      "cell_type": "code",
      "metadata": {
        "id": "idDsGt2cp8GQ",
        "outputId": "ea4c4ef1-dd3c-4227-8d85-e82ca6cf03f9",
        "colab": {
          "base_uri": "https://localhost:8080/",
          "height": 51
        }
      },
      "source": [
        "from scipy.stats import pearsonr\n",
        "\n",
        "data1 = np.log1p(df.Age)\n",
        "data2 = np.log1p(df.Fee)\n",
        "\n",
        "stat, p = pearsonr(data1, data2)\n",
        "\n",
        "print('stat=%.3f, p=%.3f' % (stat, p))\n",
        "\n",
        "if p > 0.05:\n",
        "\tprint('Probably independent')\n",
        "else:\n",
        "\tprint('Probably dependent')"
      ],
      "execution_count": null,
      "outputs": [
        {
          "output_type": "stream",
          "text": [
            "stat=0.119, p=0.000\n",
            "Probably dependent\n"
          ],
          "name": "stdout"
        }
      ]
    },
    {
      "cell_type": "markdown",
      "metadata": {
        "id": "Uko_BYLbu8Wv"
      },
      "source": [
        "## Spearman's Rank Correlation Test\n",
        "\n",
        "Використовується тільки для рангових ознак."
      ]
    },
    {
      "cell_type": "code",
      "metadata": {
        "id": "5sXZLWYWqAl0",
        "outputId": "36718b59-c740-477b-ce7a-2261691c4586",
        "colab": {
          "base_uri": "https://localhost:8080/",
          "height": 51
        }
      },
      "source": [
        "from scipy.stats import spearmanr\n",
        "\n",
        "data1 = df.AdoptionSpeed\n",
        "data2 = df.MaturitySize\n",
        "stat, p = spearmanr(data1, data2)\n",
        "\n",
        "print('stat=%.3f, p=%.3f' % (stat, p))\n",
        "if p > 0.05:\n",
        "\tprint('Probably independent')\n",
        "else:\n",
        "\tprint('Probably dependent')"
      ],
      "execution_count": null,
      "outputs": [
        {
          "output_type": "stream",
          "text": [
            "stat=0.050, p=0.000\n",
            "Probably dependent\n"
          ],
          "name": "stdout"
        }
      ]
    },
    {
      "cell_type": "markdown",
      "metadata": {
        "id": "NraNxgJ6u_xT"
      },
      "source": [
        "## Kendall's Rank Correlation Test\n",
        "\n",
        "Використовується тільки для рангових ознак."
      ]
    },
    {
      "cell_type": "code",
      "metadata": {
        "id": "30xPcfzXqEK7",
        "outputId": "c7f9365c-62ea-4a59-c6b1-1022368c0185",
        "colab": {
          "base_uri": "https://localhost:8080/",
          "height": 51
        }
      },
      "source": [
        "from scipy.stats import kendalltau\n",
        "\n",
        "data1 = df.AdoptionSpeed\n",
        "data2 = df.MaturitySize\n",
        "\n",
        "stat, p = kendalltau(data1, data2)\n",
        "print('stat=%.3f, p=%.3f' % (stat, p))\n",
        "if p > 0.05:\n",
        "\tprint('Probably independent')\n",
        "else:\n",
        "\tprint('Probably dependent')"
      ],
      "execution_count": null,
      "outputs": [
        {
          "output_type": "stream",
          "text": [
            "stat=0.044, p=0.000\n",
            "Probably dependent\n"
          ],
          "name": "stdout"
        }
      ]
    },
    {
      "cell_type": "markdown",
      "metadata": {
        "id": "xFQ8IFgGvECn"
      },
      "source": [
        "## Chi-Squared Test\n",
        "\n",
        "Використовується тільки для категоріальних ознак."
      ]
    },
    {
      "cell_type": "code",
      "metadata": {
        "id": "aysf8f62YP-k",
        "outputId": "38012410-dde8-4c88-cd62-55d1d37a2fcd",
        "colab": {
          "base_uri": "https://localhost:8080/",
          "height": 142
        }
      },
      "source": [
        "df.groupby(['AdoptionSpeed', 'Type']).size().unstack(level=0)"
      ],
      "execution_count": null,
      "outputs": [
        {
          "output_type": "execute_result",
          "data": {
            "text/html": [
              "<div>\n",
              "<style scoped>\n",
              "    .dataframe tbody tr th:only-of-type {\n",
              "        vertical-align: middle;\n",
              "    }\n",
              "\n",
              "    .dataframe tbody tr th {\n",
              "        vertical-align: top;\n",
              "    }\n",
              "\n",
              "    .dataframe thead th {\n",
              "        text-align: right;\n",
              "    }\n",
              "</style>\n",
              "<table border=\"1\" class=\"dataframe\">\n",
              "  <thead>\n",
              "    <tr style=\"text-align: right;\">\n",
              "      <th>AdoptionSpeed</th>\n",
              "      <th>0</th>\n",
              "      <th>1</th>\n",
              "      <th>2</th>\n",
              "      <th>3</th>\n",
              "      <th>4</th>\n",
              "    </tr>\n",
              "    <tr>\n",
              "      <th>Type</th>\n",
              "      <th></th>\n",
              "      <th></th>\n",
              "      <th></th>\n",
              "      <th></th>\n",
              "      <th></th>\n",
              "    </tr>\n",
              "  </thead>\n",
              "  <tbody>\n",
              "    <tr>\n",
              "      <th>1</th>\n",
              "      <td>170</td>\n",
              "      <td>1435</td>\n",
              "      <td>2164</td>\n",
              "      <td>1949</td>\n",
              "      <td>2414</td>\n",
              "    </tr>\n",
              "    <tr>\n",
              "      <th>2</th>\n",
              "      <td>240</td>\n",
              "      <td>1655</td>\n",
              "      <td>1873</td>\n",
              "      <td>1310</td>\n",
              "      <td>1783</td>\n",
              "    </tr>\n",
              "  </tbody>\n",
              "</table>\n",
              "</div>"
            ],
            "text/plain": [
              "AdoptionSpeed    0     1     2     3     4\n",
              "Type                                      \n",
              "1              170  1435  2164  1949  2414\n",
              "2              240  1655  1873  1310  1783"
            ]
          },
          "metadata": {
            "tags": []
          },
          "execution_count": 57
        }
      ]
    },
    {
      "cell_type": "code",
      "metadata": {
        "id": "s6mz45FSqHYL",
        "outputId": "f7889abd-51bb-4011-9d6c-b0c6cffe59bc",
        "colab": {
          "base_uri": "https://localhost:8080/",
          "height": 51
        }
      },
      "source": [
        "from scipy.stats import chi2_contingency\n",
        "\n",
        "table = [df.Gender,\n",
        "         df.Type]\n",
        "\n",
        "table = [df.AdoptionSpeed,\n",
        "         df.Gender]\n",
        "\n",
        "#table = [[2,1,1,2,1,1,1],\n",
        "#         [1,2,2,1,2,2,2]]\n",
        "\n",
        "stat, p, dof, expected = chi2_contingency(table)\n",
        "print('stat=%.3f, p=%.3f' % (stat, p))\n",
        "\n",
        "if p > 0.05:\n",
        "\tprint('Probably independent')\n",
        "else:\n",
        "\tprint('Probably dependent')"
      ],
      "execution_count": null,
      "outputs": [
        {
          "output_type": "stream",
          "text": [
            "stat=5987.749, p=1.000\n",
            "Probably independent\n"
          ],
          "name": "stdout"
        }
      ]
    },
    {
      "cell_type": "code",
      "metadata": {
        "id": "KI6v_7VcYNEa",
        "outputId": "180c19c6-4954-4601-975a-46875829ff1d",
        "colab": {
          "base_uri": "https://localhost:8080/",
          "height": 408
        }
      },
      "source": [
        "table"
      ],
      "execution_count": null,
      "outputs": [
        {
          "output_type": "execute_result",
          "data": {
            "text/plain": [
              "[0        2\n",
              " 1        0\n",
              " 2        3\n",
              " 3        2\n",
              " 4        2\n",
              "         ..\n",
              " 14988    2\n",
              " 14989    4\n",
              " 14990    3\n",
              " 14991    4\n",
              " 14992    3\n",
              " Name: AdoptionSpeed, Length: 14993, dtype: int64, 0        2\n",
              " 1        2\n",
              " 2        1\n",
              " 3        1\n",
              " 4        1\n",
              "         ..\n",
              " 14988    2\n",
              " 14989    2\n",
              " 14990    2\n",
              " 14991    2\n",
              " 14992    1\n",
              " Name: Type, Length: 14993, dtype: int64]"
            ]
          },
          "metadata": {
            "tags": []
          },
          "execution_count": 122
        }
      ]
    },
    {
      "cell_type": "markdown",
      "metadata": {
        "id": "04xoVrNzvRy2"
      },
      "source": [
        "## Paired Student's t-test\n",
        "\n",
        "Використовується тільки для пари категоріальна + метрична ознака."
      ]
    },
    {
      "cell_type": "code",
      "metadata": {
        "id": "rqlGTjkEZ9T7",
        "outputId": "62a26afa-5418-4400-bbad-97338574fe37",
        "colab": {
          "base_uri": "https://localhost:8080/",
          "height": 142
        }
      },
      "source": [
        "df = df.loc[df['Gender'] != 3, :]\n",
        "\n",
        "df.groupby('Gender').agg({'Age': np.mean})"
      ],
      "execution_count": null,
      "outputs": [
        {
          "output_type": "execute_result",
          "data": {
            "text/html": [
              "<div>\n",
              "<style scoped>\n",
              "    .dataframe tbody tr th:only-of-type {\n",
              "        vertical-align: middle;\n",
              "    }\n",
              "\n",
              "    .dataframe tbody tr th {\n",
              "        vertical-align: top;\n",
              "    }\n",
              "\n",
              "    .dataframe thead th {\n",
              "        text-align: right;\n",
              "    }\n",
              "</style>\n",
              "<table border=\"1\" class=\"dataframe\">\n",
              "  <thead>\n",
              "    <tr style=\"text-align: right;\">\n",
              "      <th></th>\n",
              "      <th>Age</th>\n",
              "    </tr>\n",
              "    <tr>\n",
              "      <th>Gender</th>\n",
              "      <th></th>\n",
              "    </tr>\n",
              "  </thead>\n",
              "  <tbody>\n",
              "    <tr>\n",
              "      <th>1</th>\n",
              "      <td>12.370484</td>\n",
              "    </tr>\n",
              "    <tr>\n",
              "      <th>2</th>\n",
              "      <td>10.679813</td>\n",
              "    </tr>\n",
              "  </tbody>\n",
              "</table>\n",
              "</div>"
            ],
            "text/plain": [
              "              Age\n",
              "Gender           \n",
              "1       12.370484\n",
              "2       10.679813"
            ]
          },
          "metadata": {
            "tags": []
          },
          "execution_count": 65
        }
      ]
    },
    {
      "cell_type": "code",
      "metadata": {
        "id": "mAlFoXNAqSAI",
        "outputId": "5022705e-99f3-46cf-e9c9-c0a1c923caaa",
        "colab": {
          "base_uri": "https://localhost:8080/",
          "height": 51
        }
      },
      "source": [
        "from scipy.stats import ttest_rel\n",
        "\n",
        "data1 = df.Age\n",
        "data2 = df.AdoptionSpeed\n",
        "\n",
        "stat, p = ttest_rel(data1, data2)\n",
        "print('stat=%.3f, p=%.3f' % (stat, p))\n",
        "if p > 0.05:\n",
        "\tprint('Probably the same distribution')\n",
        "else:\n",
        "\tprint('Probably different distributions')"
      ],
      "execution_count": null,
      "outputs": [
        {
          "output_type": "stream",
          "text": [
            "stat=53.346, p=0.000\n",
            "Probably different distributions\n"
          ],
          "name": "stdout"
        }
      ]
    },
    {
      "cell_type": "markdown",
      "metadata": {
        "id": "6yCYgZGuvUWL"
      },
      "source": [
        "## Analysis of Variance Test (ANOVA)\n",
        "\n",
        "Використовується тільки для метричних ознак."
      ]
    },
    {
      "cell_type": "code",
      "metadata": {
        "id": "GlMLfgbVqXW_",
        "outputId": "3c045f9d-d772-49d4-b410-ec11f3d2174b",
        "colab": {
          "base_uri": "https://localhost:8080/",
          "height": 51
        }
      },
      "source": [
        "from scipy.stats import f_oneway\n",
        "\n",
        "data1 = df.Age\n",
        "data2 = df.Fee\n",
        "data3 = df.Health\n",
        "\n",
        "stat, p = f_oneway(data1, data2, data3)\n",
        "\n",
        "print('stat=%.3f, p=%.3f' % (stat, p))\n",
        "\n",
        "if p > 0.05:\n",
        "\tprint('Probably the same distribution')\n",
        "else:\n",
        "\tprint('Probably different distributions')"
      ],
      "execution_count": null,
      "outputs": [
        {
          "output_type": "stream",
          "text": [
            "stat=713.587, p=0.000\n",
            "Probably different distributions\n"
          ],
          "name": "stdout"
        }
      ]
    },
    {
      "cell_type": "code",
      "metadata": {
        "id": "ZN7edjxyqrN2"
      },
      "source": [
        ""
      ],
      "execution_count": null,
      "outputs": []
    }
  ]
}