{
  "nbformat": 4,
  "nbformat_minor": 0,
  "metadata": {
    "kernelspec": {
      "display_name": "Python 3",
      "language": "python",
      "name": "python3"
    },
    "language_info": {
      "codemirror_mode": {
        "name": "ipython",
        "version": 3
      },
      "file_extension": ".py",
      "mimetype": "text/x-python",
      "name": "python",
      "nbconvert_exporter": "python",
      "pygments_lexer": "ipython3",
      "version": "3.7.3"
    },
    "toc": {
      "base_numbering": 1,
      "nav_menu": {},
      "number_sections": true,
      "sideBar": true,
      "skip_h1_title": false,
      "title_cell": "Table of Contents",
      "title_sidebar": "Contents",
      "toc_cell": false,
      "toc_position": {},
      "toc_section_display": true,
      "toc_window_display": false
    },
    "colab": {
      "name": "Pandas&numpy task.ipynb",
      "provenance": [],
      "include_colab_link": true
    }
  },
  "cells": [
    {
      "cell_type": "markdown",
      "metadata": {
        "id": "view-in-github",
        "colab_type": "text"
      },
      "source": [
        "<a href=\"https://colab.research.google.com/github/KlymT/Py_R_for_DS-/blob/master/Pandas%26numpy_task.ipynb\" target=\"_parent\"><img src=\"https://colab.research.google.com/assets/colab-badge.svg\" alt=\"Open In Colab\"/></a>"
      ]
    },
    {
      "cell_type": "markdown",
      "metadata": {
        "id": "xH51QU-hleZ6"
      },
      "source": [
        "# Домашнє завдання Pandas&Numpy\n",
        "\n",
        "Дедлайн: **3 квітня**.\n",
        "\n",
        "Суть задачі: виконати описані нижче перетворення з датасетом про забраних тварин із притулку та надіслати код цих перетворень у форматі Yupyter Notebook в телеграм Роману Кириченку."
      ]
    },
    {
      "cell_type": "code",
      "metadata": {
        "jupyter": {
          "outputs_hidden": true
        },
        "id": "KAmZPnEtleZ9"
      },
      "source": [
        "import pandas as pd\n",
        "import numpy as np"
      ],
      "execution_count": null,
      "outputs": []
    },
    {
      "cell_type": "code",
      "metadata": {
        "jupyter": {
          "outputs_hidden": true
        },
        "id": "0vxYdT78leaC"
      },
      "source": [
        "df = pd.read_csv(\"https://raw.githubusercontent.com/alexlorenzo/Pet.my/master/datasets/train.csv\")\n",
        "color_labels = pd.read_csv(\"https://raw.githubusercontent.com/alexlorenzo/Pet.my/master/datasets/color_labels.csv\")\n",
        "breed_labels = pd.read_csv(\"https://raw.githubusercontent.com/alexlorenzo/Pet.my/master/datasets/breed_labels.csv\")"
      ],
      "execution_count": null,
      "outputs": []
    },
    {
      "cell_type": "code",
      "metadata": {
        "id": "qAdV_UlXleaF",
        "outputId": "d18e3648-07e7-40fb-d33a-6f6162123ef3",
        "colab": {
          "base_uri": "https://localhost:8080/",
          "height": 479
        }
      },
      "source": [
        "df.head()"
      ],
      "execution_count": null,
      "outputs": [
        {
          "output_type": "execute_result",
          "data": {
            "text/html": [
              "<div>\n",
              "<style scoped>\n",
              "    .dataframe tbody tr th:only-of-type {\n",
              "        vertical-align: middle;\n",
              "    }\n",
              "\n",
              "    .dataframe tbody tr th {\n",
              "        vertical-align: top;\n",
              "    }\n",
              "\n",
              "    .dataframe thead th {\n",
              "        text-align: right;\n",
              "    }\n",
              "</style>\n",
              "<table border=\"1\" class=\"dataframe\">\n",
              "  <thead>\n",
              "    <tr style=\"text-align: right;\">\n",
              "      <th></th>\n",
              "      <th>Type</th>\n",
              "      <th>Name</th>\n",
              "      <th>Age</th>\n",
              "      <th>Breed1</th>\n",
              "      <th>Breed2</th>\n",
              "      <th>Gender</th>\n",
              "      <th>Color1</th>\n",
              "      <th>Color2</th>\n",
              "      <th>Color3</th>\n",
              "      <th>MaturitySize</th>\n",
              "      <th>FurLength</th>\n",
              "      <th>Vaccinated</th>\n",
              "      <th>Dewormed</th>\n",
              "      <th>Sterilized</th>\n",
              "      <th>Health</th>\n",
              "      <th>Quantity</th>\n",
              "      <th>Fee</th>\n",
              "      <th>State</th>\n",
              "      <th>RescuerID</th>\n",
              "      <th>VideoAmt</th>\n",
              "      <th>Description</th>\n",
              "      <th>PetID</th>\n",
              "      <th>PhotoAmt</th>\n",
              "      <th>AdoptionSpeed</th>\n",
              "    </tr>\n",
              "  </thead>\n",
              "  <tbody>\n",
              "    <tr>\n",
              "      <th>0</th>\n",
              "      <td>2</td>\n",
              "      <td>Nibble</td>\n",
              "      <td>3</td>\n",
              "      <td>299</td>\n",
              "      <td>0</td>\n",
              "      <td>1</td>\n",
              "      <td>1</td>\n",
              "      <td>7</td>\n",
              "      <td>0</td>\n",
              "      <td>1</td>\n",
              "      <td>1</td>\n",
              "      <td>2</td>\n",
              "      <td>2</td>\n",
              "      <td>2</td>\n",
              "      <td>1</td>\n",
              "      <td>1</td>\n",
              "      <td>100</td>\n",
              "      <td>41326</td>\n",
              "      <td>8480853f516546f6cf33aa88cd76c379</td>\n",
              "      <td>0</td>\n",
              "      <td>Nibble is a 3+ month old ball of cuteness. He ...</td>\n",
              "      <td>86e1089a3</td>\n",
              "      <td>1.0</td>\n",
              "      <td>2</td>\n",
              "    </tr>\n",
              "    <tr>\n",
              "      <th>1</th>\n",
              "      <td>2</td>\n",
              "      <td>No Name Yet</td>\n",
              "      <td>1</td>\n",
              "      <td>265</td>\n",
              "      <td>0</td>\n",
              "      <td>1</td>\n",
              "      <td>1</td>\n",
              "      <td>2</td>\n",
              "      <td>0</td>\n",
              "      <td>2</td>\n",
              "      <td>2</td>\n",
              "      <td>3</td>\n",
              "      <td>3</td>\n",
              "      <td>3</td>\n",
              "      <td>1</td>\n",
              "      <td>1</td>\n",
              "      <td>0</td>\n",
              "      <td>41401</td>\n",
              "      <td>3082c7125d8fb66f7dd4bff4192c8b14</td>\n",
              "      <td>0</td>\n",
              "      <td>I just found it alone yesterday near my apartm...</td>\n",
              "      <td>6296e909a</td>\n",
              "      <td>2.0</td>\n",
              "      <td>0</td>\n",
              "    </tr>\n",
              "    <tr>\n",
              "      <th>2</th>\n",
              "      <td>1</td>\n",
              "      <td>Brisco</td>\n",
              "      <td>1</td>\n",
              "      <td>307</td>\n",
              "      <td>0</td>\n",
              "      <td>1</td>\n",
              "      <td>2</td>\n",
              "      <td>7</td>\n",
              "      <td>0</td>\n",
              "      <td>2</td>\n",
              "      <td>2</td>\n",
              "      <td>1</td>\n",
              "      <td>1</td>\n",
              "      <td>2</td>\n",
              "      <td>1</td>\n",
              "      <td>1</td>\n",
              "      <td>0</td>\n",
              "      <td>41326</td>\n",
              "      <td>fa90fa5b1ee11c86938398b60abc32cb</td>\n",
              "      <td>0</td>\n",
              "      <td>Their pregnant mother was dumped by her irresp...</td>\n",
              "      <td>3422e4906</td>\n",
              "      <td>7.0</td>\n",
              "      <td>3</td>\n",
              "    </tr>\n",
              "    <tr>\n",
              "      <th>3</th>\n",
              "      <td>1</td>\n",
              "      <td>Miko</td>\n",
              "      <td>4</td>\n",
              "      <td>307</td>\n",
              "      <td>0</td>\n",
              "      <td>2</td>\n",
              "      <td>1</td>\n",
              "      <td>2</td>\n",
              "      <td>0</td>\n",
              "      <td>2</td>\n",
              "      <td>1</td>\n",
              "      <td>1</td>\n",
              "      <td>1</td>\n",
              "      <td>2</td>\n",
              "      <td>1</td>\n",
              "      <td>1</td>\n",
              "      <td>150</td>\n",
              "      <td>41401</td>\n",
              "      <td>9238e4f44c71a75282e62f7136c6b240</td>\n",
              "      <td>0</td>\n",
              "      <td>Good guard dog, very alert, active, obedience ...</td>\n",
              "      <td>5842f1ff5</td>\n",
              "      <td>8.0</td>\n",
              "      <td>2</td>\n",
              "    </tr>\n",
              "    <tr>\n",
              "      <th>4</th>\n",
              "      <td>1</td>\n",
              "      <td>Hunter</td>\n",
              "      <td>1</td>\n",
              "      <td>307</td>\n",
              "      <td>0</td>\n",
              "      <td>1</td>\n",
              "      <td>1</td>\n",
              "      <td>0</td>\n",
              "      <td>0</td>\n",
              "      <td>2</td>\n",
              "      <td>1</td>\n",
              "      <td>2</td>\n",
              "      <td>2</td>\n",
              "      <td>2</td>\n",
              "      <td>1</td>\n",
              "      <td>1</td>\n",
              "      <td>0</td>\n",
              "      <td>41326</td>\n",
              "      <td>95481e953f8aed9ec3d16fc4509537e8</td>\n",
              "      <td>0</td>\n",
              "      <td>This handsome yet cute boy is up for adoption....</td>\n",
              "      <td>850a43f90</td>\n",
              "      <td>3.0</td>\n",
              "      <td>2</td>\n",
              "    </tr>\n",
              "  </tbody>\n",
              "</table>\n",
              "</div>"
            ],
            "text/plain": [
              "   Type         Name  Age  ...      PetID  PhotoAmt  AdoptionSpeed\n",
              "0     2       Nibble    3  ...  86e1089a3       1.0              2\n",
              "1     2  No Name Yet    1  ...  6296e909a       2.0              0\n",
              "2     1       Brisco    1  ...  3422e4906       7.0              3\n",
              "3     1         Miko    4  ...  5842f1ff5       8.0              2\n",
              "4     1       Hunter    1  ...  850a43f90       3.0              2\n",
              "\n",
              "[5 rows x 24 columns]"
            ]
          },
          "metadata": {
            "tags": []
          },
          "execution_count": 4
        }
      ]
    },
    {
      "cell_type": "markdown",
      "metadata": {
        "id": "RjZ925VpleaK"
      },
      "source": [
        "# Опис змінних\n",
        "\n",
        "**PetID** - Унікальне hash ID тварини.\n",
        "\n",
        "**AdoptionSpeed** - Швидкість адаптації тварини. 0 -  в той же день, коли забрали, 1 - в перший тиждень, 2 - в перший місяць, 3 - в перші три місяці, 4 - не адаптувалася за три місяці.\n",
        "\n",
        "**Type** - Тип тварини (1 = собака, 2 = кіт).\n",
        "\n",
        "**Name** - Кличка тварини.\n",
        "\n",
        "**Age** - Вік тварини в місяцях.\n",
        "\n",
        "**Breed1** - Основна порода тварини.\n",
        "\n",
        "**Breed2** - Друга порода тварини.\n",
        "\n",
        "**Gender** - Гендер тварини (1 = чоловік, 2 = жінка, 3 = змішано (якщо продається відразу декілька тварин)).\n",
        "\n",
        "**Color1** - Колір 1 тварини.\n",
        "\n",
        "**Color2** - Колір 2 тварини.\n",
        "\n",
        "**Color3** - Колір 3 тварини.\n",
        "\n",
        "**MaturitySize** - Розмір, коли виросте (1 = маленький, 2 = середній, 3 = веилкий, 4 = дуже великий, 0 = невідомо).\n",
        "\n",
        "**FurLength** - Довжина шерсті (1 = коротка, 2 = середня, 3 = довга, 0 = невідомо).\n",
        "\n",
        "**Vaccinated** - Вакцинованість тварини (1 = так, 2 = ні, 3 = невідомо).\n",
        "\n",
        "**Dewormed** - Деглистизованість тварини (1 = так, 2 = ні, 3 = невідомо).\n",
        "\n",
        "**Sterilized** - Стерилізованість тварини (1 = так, 2 = ні, 3 = невідомо).\n",
        "\n",
        "**Health** - Стан здоров'я (1 = здорова, 2 = трохи травмована, 3 = сильно травмована, 0 = невідомо).\n",
        "\n",
        "**Quantity** - Кількість тварин, що є в профілі.\n",
        "\n",
        "**Fee** - Плата за приручення.\n",
        "\n",
        "**State** - Місто.\n",
        "\n",
        "**RescuerID** - Унікальне hash ID рятівника.\n",
        "\n",
        "**VideoAmt** - Кількість відео тварини.\n",
        "\n",
        "**PhotoAmt** - Кількість фотографій тварини.\n",
        "\n",
        "**Description** - Опис тварини у профілі."
      ]
    },
    {
      "cell_type": "markdown",
      "metadata": {
        "id": "o9dKhUJXleaL"
      },
      "source": [
        "# Задачі\n",
        "\n",
        "1. Виведіть засобами pandas три найпопулярніші клички тварин.\n",
        "2. Створіть нову змінну на основі змінної **Name**. Нова змінна має відображати, чи у тварини унікальна кличка (1), чи поширена (0). Унікальна кличка - коли лише одна тварина в масиві має таку кличку, якщо кличка зустрічається 2 рази і більше - вона не унікальна.\n",
        "3. Побудуйте гістограму віку тварин (pandas чи matplotlib).\n",
        "4. Перекодуйте змінну **State** через one-hot encoder. Після цього саму змінну видаліть.\n",
        "5. Створіть нову змінну - \"чистокровність тварини\". Тварина \"чистокровна\", коли вона походить від представників однієї породи. У змішаних порід поля **Breed1 & Breed2** заповнені.\n",
        "6. Закодуйте через one-hot encoder популярні породи тварин (тільки ті, представників яких у масиві більше 150). Але перед цим візьміть з довідника порід і замініть числові коди на назви тварин (таблиця breed_labels.csv). Те саме для більшої зрозумілості даних зробіть із кольорами тварин (таблиця color_labels.csv).\n",
        "7. Перекодуйте змінну **RescuerID** так, щоб замість ID у якості коду була кількість тварин, яких узяв до себе цей \"спаситель\".\n",
        "8. Створіть нову змінну - мова оголошення на основі змінної **Description**. Там оголошення на трьох мовах - англійській, китайські та майлайзійській.\n",
        "9. Створіть змінну-індекс оцінки здоров'я тварини на основі змінних **Vaccinated, Dewormed, Sterilized**. Для цього перекодуйте значення 2 в 0, значення 3 - в пропущене і додайте ці три змінні одне до одної.\n",
        "10. Створіть нову змінну на основі змінної **Name**. Нова змінна має відображати кількість тварин, що віддаються. Якщо записано тільки одну кличку - це одна тварина, дві і більше - група тварин.\n",
        "11. Виведіть матрицю кореляцій змінних масиву, попередньо замінивши пусті значення в масиві на медіану. Яка пара кореляює найбільше?\n",
        "12. Приведіть масив у готовність до моделювання: видаліть категоріальні  змінні, які лишилися, змінні кольору перетворіть також у бінарні. Перевторений масив розділіть на 4 матриці: train, test, y_train, y_test, при цьому їх пропорція має складати 80/20. "
      ]
    },
    {
      "cell_type": "code",
      "metadata": {
        "jupyter": {
          "outputs_hidden": true
        },
        "id": "KVZ50zj6leaM"
      },
      "source": [
        ""
      ],
      "execution_count": null,
      "outputs": []
    }
  ]
}