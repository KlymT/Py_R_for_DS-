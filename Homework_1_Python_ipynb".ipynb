{
  "nbformat": 4,
  "nbformat_minor": 0,
  "metadata": {
    "kernelspec": {
      "display_name": "Python 3",
      "language": "python",
      "name": "python3"
    },
    "language_info": {
      "codemirror_mode": {
        "name": "ipython",
        "version": 3
      },
      "file_extension": ".py",
      "mimetype": "text/x-python",
      "name": "python",
      "nbconvert_exporter": "python",
      "pygments_lexer": "ipython3",
      "version": "3.7.3"
    },
    "toc": {
      "base_numbering": 1,
      "nav_menu": {},
      "number_sections": true,
      "sideBar": true,
      "skip_h1_title": false,
      "title_cell": "Table of Contents",
      "title_sidebar": "Contents",
      "toc_cell": false,
      "toc_position": {},
      "toc_section_display": true,
      "toc_window_display": false
    },
    "colab": {
      "name": "Homework 1 Python.ipynb\"",
      "provenance": [],
      "collapsed_sections": [],
      "include_colab_link": true
    }
  },
  "cells": [
    {
      "cell_type": "markdown",
      "metadata": {
        "id": "view-in-github",
        "colab_type": "text"
      },
      "source": [
        "<a href=\"https://colab.research.google.com/github/KlymT/Py_R_for_DS-/blob/master/Homework_1_Python_ipynb%22.ipynb\" target=\"_parent\"><img src=\"https://colab.research.google.com/assets/colab-badge.svg\" alt=\"Open In Colab\"/></a>"
      ]
    },
    {
      "cell_type": "markdown",
      "metadata": {
        "id": "2f-43kjCc_LL"
      },
      "source": [
        "# Домашнє завдання №1\n",
        "\n",
        "**УВАГА: Одне із завдань має бути вирішено на R, інше одне - на Python.**"
      ]
    },
    {
      "cell_type": "markdown",
      "metadata": {
        "id": "9J6bLcQxc_LN"
      },
      "source": [
        "**1. Напишіть програму, яка буде визначати, чи є номер телефону \"крутим\".**\n",
        "\n",
        "\"Крутий\" номер - це випадки, коли:\n",
        "    \n",
        "- у номері підряд йдуть 4 і більше однакових цифри;\n",
        "- у номері підряд йдуть 4 і більше цифри у порядку спадання чи зростання;\n",
        "- сума перших 5 цифр номеру дорівнює сумі 5 останніх.\n",
        "\n",
        "Приклади \"крутих\" номерів:\n",
        "\n",
        "1. 0981177770 (випадок 1)\n",
        "2. 0951234567 (випадок 2)\n",
        "3. 0670171123 (випадок 3)\n",
        "\n",
        "Програма бере на вхід строку з номером із 10 знаків. На вихід друкує або \"Крутий\", або \"Звичайний\""
      ]
    },
    {
      "cell_type": "code",
      "metadata": {
        "id": "Z1520stToiYb",
        "outputId": "d9f32d1d-9498-4220-db0e-3ad5a2fc3acf",
        "colab": {
          "base_uri": "https://localhost:8080/",
          "height": 51
        }
      },
      "source": [
        "phone_number = input() #Зчитування вводу здійснюється через функцію input, вона зберігає ввід як строку\n",
        "\n",
        "if len(phone_number) != 10:\n",
        "    print(\"phone_number should consist of 10 numbers\")\n",
        "    phone_number = input() \n",
        "\n",
        "else:\n",
        "  n = list()\n",
        "  for i in phone_number:\n",
        "    i1 = int(i)\n",
        "    n.append(i1)\n",
        "\n",
        "i2 = n[0]\n",
        "i3 = 0   \n",
        "for i in n[1:10]:\n",
        "  if i==i2:\n",
        "    i3 += 1\n",
        "  elif i3 < 3:\n",
        "    i3 = 0\n",
        "  i2 = i\n",
        "\n",
        "\n",
        "i2 = n[0]\n",
        "i4 = 0   \n",
        "for i in n[1:10]:\n",
        "  if i-1==i2:\n",
        "    i4 += 1\n",
        "  elif i4 < 3:\n",
        "    i4 = 0\n",
        "  i2 = i\n",
        "\n",
        "\n",
        "i2 = n[0]\n",
        "i5 = 0   \n",
        "for i in n[1:10]:\n",
        "  if i+1==i2:\n",
        "    i5 += 1\n",
        "  elif i5 < 3:\n",
        "    i5 = 0\n",
        "  i2 = i\n",
        "\n",
        "i6 = sum(n[0:5])\n",
        "i7 = sum(n[5:10])\n",
        "\n",
        "if i3 >= 3 or i4 >= 3 or i5 >= 3 or i6==i7:\n",
        "  print(\"Крутий\")\n",
        "else:\n",
        "  print(\"Звичайний\")"
      ],
      "execution_count": null,
      "outputs": [
        {
          "output_type": "stream",
          "text": [
            "1234567890\n",
            "Крутий\n"
          ],
          "name": "stdout"
        }
      ]
    },
    {
      "cell_type": "markdown",
      "metadata": {
        "id": "2OI4X6nAc_LU"
      },
      "source": [
        "**2. Напишіть програму, яка буде видавати з масиву локацій координати найближчої точки до центру.**\n",
        "\n",
        "Перший ввід - координати широт.\n",
        "Другий ввід - координати довгот.\n",
        "\n",
        "Кожне нове значення розділяйте пробілом.\n",
        "\n",
        "Вивід - tuple з координатами довготи і широти, які найближчі до центру локацій.\n",
        "\n",
        "Центр локацій - це середнє арифметичне введених координат довгот і широт.\n",
        "\n",
        "Для простоти відстань міряємо в евклідовій метриці.\n",
        "\n",
        "Всі розрахунки потрібно зробити без підключення додаткових модулів."
      ]
    },
    {
      "cell_type": "code",
      "metadata": {
        "id": "efsodc9tc_LV",
        "outputId": "870c8939-bfc0-4633-c995-7ae37e9f0866",
        "colab": {
          "base_uri": "https://localhost:8080/",
          "height": 89
        }
      },
      "source": [
        "lat = input()\n",
        "lon = input()\n",
        "lat = [float(x) for x in lat.split()]\n",
        "lon = [float(x) for x in lon.split()]\n",
        "x = sum(lat)/len(lat)\n",
        "y = sum(lon)/len(lon)\n",
        "centr = (x, y)\n",
        "print('The centr is', centr)\n",
        "dist = list(map(lambda a, b: ((a-x)**2 + (b-y)**2)**0.5, lat, lon))\n",
        "#print(dist)\n",
        "#print(min(dist))\n",
        "a = dist.index(min(dist))\n",
        "min_midl_dist = (lat[a], lon[a])\n",
        "print(min_midl_dist)\n"
      ],
      "execution_count": null,
      "outputs": [
        {
          "output_type": "stream",
          "text": [
            "1 2 3 4 5\n",
            "2 2 2 2 2 2\n",
            "The centr is (3.0, 2.0)\n",
            "(3.0, 2.0)\n"
          ],
          "name": "stdout"
        }
      ]
    }
  ]
}